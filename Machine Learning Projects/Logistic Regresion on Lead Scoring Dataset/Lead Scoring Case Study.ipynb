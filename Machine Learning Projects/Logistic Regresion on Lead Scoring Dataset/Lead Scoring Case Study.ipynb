{
 "cells": [
  {
   "cell_type": "markdown",
   "id": "46f9397a",
   "metadata": {},
   "source": [
    "# Lead Case Study"
   ]
  },
  {
   "cell_type": "markdown",
   "id": "76907d2a",
   "metadata": {},
   "source": [
    "## Step 1: Importing Data"
   ]
  },
  {
   "cell_type": "code",
   "execution_count": 1,
   "id": "2fc1eb73",
   "metadata": {},
   "outputs": [],
   "source": [
    "# Suppressing Warnings\n",
    "import warnings\n",
    "warnings.filterwarnings('ignore')\n",
    "\n",
    "# Importing Pandas and NumPy\n",
    "import pandas as pd, numpy as np"
   ]
  },
  {
   "cell_type": "code",
   "execution_count": 2,
   "id": "0b213d0f",
   "metadata": {},
   "outputs": [],
   "source": [
    "# Importing dataset\n",
    "leads_data = pd.read_csv(\"leads.csv\")"
   ]
  },
  {
   "cell_type": "code",
   "execution_count": 3,
   "id": "d5e1c6e7",
   "metadata": {},
   "outputs": [],
   "source": [
    "import matplotlib.pyplot as plt #Data Visualization Libraries\n",
    "import seaborn as sns #Data Visualization Libraries"
   ]
  },
  {
   "cell_type": "markdown",
   "id": "f978d918",
   "metadata": {},
   "source": [
    "## Step 2: Inspecting the Dataframe"
   ]
  },
  {
   "cell_type": "code",
   "execution_count": 4,
   "id": "ef033702",
   "metadata": {},
   "outputs": [
    {
     "data": {
      "text/html": [
       "<div>\n",
       "<style scoped>\n",
       "    .dataframe tbody tr th:only-of-type {\n",
       "        vertical-align: middle;\n",
       "    }\n",
       "\n",
       "    .dataframe tbody tr th {\n",
       "        vertical-align: top;\n",
       "    }\n",
       "\n",
       "    .dataframe thead th {\n",
       "        text-align: right;\n",
       "    }\n",
       "</style>\n",
       "<table border=\"1\" class=\"dataframe\">\n",
       "  <thead>\n",
       "    <tr style=\"text-align: right;\">\n",
       "      <th></th>\n",
       "      <th>Prospect ID</th>\n",
       "      <th>Lead Number</th>\n",
       "      <th>Lead Origin</th>\n",
       "      <th>Lead Source</th>\n",
       "      <th>Do Not Email</th>\n",
       "      <th>Do Not Call</th>\n",
       "      <th>Converted</th>\n",
       "      <th>TotalVisits</th>\n",
       "      <th>Total Time Spent on Website</th>\n",
       "      <th>Page Views Per Visit</th>\n",
       "      <th>...</th>\n",
       "      <th>Get updates on DM Content</th>\n",
       "      <th>Lead Profile</th>\n",
       "      <th>City</th>\n",
       "      <th>Asymmetrique Activity Index</th>\n",
       "      <th>Asymmetrique Profile Index</th>\n",
       "      <th>Asymmetrique Activity Score</th>\n",
       "      <th>Asymmetrique Profile Score</th>\n",
       "      <th>I agree to pay the amount through cheque</th>\n",
       "      <th>A free copy of Mastering The Interview</th>\n",
       "      <th>Last Notable Activity</th>\n",
       "    </tr>\n",
       "  </thead>\n",
       "  <tbody>\n",
       "    <tr>\n",
       "      <th>0</th>\n",
       "      <td>7927b2df-8bba-4d29-b9a2-b6e0beafe620</td>\n",
       "      <td>660737</td>\n",
       "      <td>API</td>\n",
       "      <td>Olark Chat</td>\n",
       "      <td>No</td>\n",
       "      <td>No</td>\n",
       "      <td>0</td>\n",
       "      <td>0.0</td>\n",
       "      <td>0</td>\n",
       "      <td>0.0</td>\n",
       "      <td>...</td>\n",
       "      <td>No</td>\n",
       "      <td>Select</td>\n",
       "      <td>Select</td>\n",
       "      <td>02.Medium</td>\n",
       "      <td>02.Medium</td>\n",
       "      <td>15.0</td>\n",
       "      <td>15.0</td>\n",
       "      <td>No</td>\n",
       "      <td>No</td>\n",
       "      <td>Modified</td>\n",
       "    </tr>\n",
       "    <tr>\n",
       "      <th>1</th>\n",
       "      <td>2a272436-5132-4136-86fa-dcc88c88f482</td>\n",
       "      <td>660728</td>\n",
       "      <td>API</td>\n",
       "      <td>Organic Search</td>\n",
       "      <td>No</td>\n",
       "      <td>No</td>\n",
       "      <td>0</td>\n",
       "      <td>5.0</td>\n",
       "      <td>674</td>\n",
       "      <td>2.5</td>\n",
       "      <td>...</td>\n",
       "      <td>No</td>\n",
       "      <td>Select</td>\n",
       "      <td>Select</td>\n",
       "      <td>02.Medium</td>\n",
       "      <td>02.Medium</td>\n",
       "      <td>15.0</td>\n",
       "      <td>15.0</td>\n",
       "      <td>No</td>\n",
       "      <td>No</td>\n",
       "      <td>Email Opened</td>\n",
       "    </tr>\n",
       "    <tr>\n",
       "      <th>2</th>\n",
       "      <td>8cc8c611-a219-4f35-ad23-fdfd2656bd8a</td>\n",
       "      <td>660727</td>\n",
       "      <td>Landing Page Submission</td>\n",
       "      <td>Direct Traffic</td>\n",
       "      <td>No</td>\n",
       "      <td>No</td>\n",
       "      <td>1</td>\n",
       "      <td>2.0</td>\n",
       "      <td>1532</td>\n",
       "      <td>2.0</td>\n",
       "      <td>...</td>\n",
       "      <td>No</td>\n",
       "      <td>Potential Lead</td>\n",
       "      <td>Mumbai</td>\n",
       "      <td>02.Medium</td>\n",
       "      <td>01.High</td>\n",
       "      <td>14.0</td>\n",
       "      <td>20.0</td>\n",
       "      <td>No</td>\n",
       "      <td>Yes</td>\n",
       "      <td>Email Opened</td>\n",
       "    </tr>\n",
       "    <tr>\n",
       "      <th>3</th>\n",
       "      <td>0cc2df48-7cf4-4e39-9de9-19797f9b38cc</td>\n",
       "      <td>660719</td>\n",
       "      <td>Landing Page Submission</td>\n",
       "      <td>Direct Traffic</td>\n",
       "      <td>No</td>\n",
       "      <td>No</td>\n",
       "      <td>0</td>\n",
       "      <td>1.0</td>\n",
       "      <td>305</td>\n",
       "      <td>1.0</td>\n",
       "      <td>...</td>\n",
       "      <td>No</td>\n",
       "      <td>Select</td>\n",
       "      <td>Mumbai</td>\n",
       "      <td>02.Medium</td>\n",
       "      <td>01.High</td>\n",
       "      <td>13.0</td>\n",
       "      <td>17.0</td>\n",
       "      <td>No</td>\n",
       "      <td>No</td>\n",
       "      <td>Modified</td>\n",
       "    </tr>\n",
       "    <tr>\n",
       "      <th>4</th>\n",
       "      <td>3256f628-e534-4826-9d63-4a8b88782852</td>\n",
       "      <td>660681</td>\n",
       "      <td>Landing Page Submission</td>\n",
       "      <td>Google</td>\n",
       "      <td>No</td>\n",
       "      <td>No</td>\n",
       "      <td>1</td>\n",
       "      <td>2.0</td>\n",
       "      <td>1428</td>\n",
       "      <td>1.0</td>\n",
       "      <td>...</td>\n",
       "      <td>No</td>\n",
       "      <td>Select</td>\n",
       "      <td>Mumbai</td>\n",
       "      <td>02.Medium</td>\n",
       "      <td>01.High</td>\n",
       "      <td>15.0</td>\n",
       "      <td>18.0</td>\n",
       "      <td>No</td>\n",
       "      <td>No</td>\n",
       "      <td>Modified</td>\n",
       "    </tr>\n",
       "  </tbody>\n",
       "</table>\n",
       "<p>5 rows × 37 columns</p>\n",
       "</div>"
      ],
      "text/plain": [
       "                            Prospect ID  Lead Number              Lead Origin  \\\n",
       "0  7927b2df-8bba-4d29-b9a2-b6e0beafe620       660737                      API   \n",
       "1  2a272436-5132-4136-86fa-dcc88c88f482       660728                      API   \n",
       "2  8cc8c611-a219-4f35-ad23-fdfd2656bd8a       660727  Landing Page Submission   \n",
       "3  0cc2df48-7cf4-4e39-9de9-19797f9b38cc       660719  Landing Page Submission   \n",
       "4  3256f628-e534-4826-9d63-4a8b88782852       660681  Landing Page Submission   \n",
       "\n",
       "      Lead Source Do Not Email Do Not Call  Converted  TotalVisits  \\\n",
       "0      Olark Chat           No          No          0          0.0   \n",
       "1  Organic Search           No          No          0          5.0   \n",
       "2  Direct Traffic           No          No          1          2.0   \n",
       "3  Direct Traffic           No          No          0          1.0   \n",
       "4          Google           No          No          1          2.0   \n",
       "\n",
       "   Total Time Spent on Website  Page Views Per Visit  ...  \\\n",
       "0                            0                   0.0  ...   \n",
       "1                          674                   2.5  ...   \n",
       "2                         1532                   2.0  ...   \n",
       "3                          305                   1.0  ...   \n",
       "4                         1428                   1.0  ...   \n",
       "\n",
       "  Get updates on DM Content    Lead Profile    City  \\\n",
       "0                        No          Select  Select   \n",
       "1                        No          Select  Select   \n",
       "2                        No  Potential Lead  Mumbai   \n",
       "3                        No          Select  Mumbai   \n",
       "4                        No          Select  Mumbai   \n",
       "\n",
       "  Asymmetrique Activity Index Asymmetrique Profile Index  \\\n",
       "0                   02.Medium                  02.Medium   \n",
       "1                   02.Medium                  02.Medium   \n",
       "2                   02.Medium                    01.High   \n",
       "3                   02.Medium                    01.High   \n",
       "4                   02.Medium                    01.High   \n",
       "\n",
       "  Asymmetrique Activity Score Asymmetrique Profile Score  \\\n",
       "0                        15.0                       15.0   \n",
       "1                        15.0                       15.0   \n",
       "2                        14.0                       20.0   \n",
       "3                        13.0                       17.0   \n",
       "4                        15.0                       18.0   \n",
       "\n",
       "  I agree to pay the amount through cheque  \\\n",
       "0                                       No   \n",
       "1                                       No   \n",
       "2                                       No   \n",
       "3                                       No   \n",
       "4                                       No   \n",
       "\n",
       "  A free copy of Mastering The Interview Last Notable Activity  \n",
       "0                                     No              Modified  \n",
       "1                                     No          Email Opened  \n",
       "2                                    Yes          Email Opened  \n",
       "3                                     No              Modified  \n",
       "4                                     No              Modified  \n",
       "\n",
       "[5 rows x 37 columns]"
      ]
     },
     "execution_count": 4,
     "metadata": {},
     "output_type": "execute_result"
    }
   ],
   "source": [
    "leads_data.head()"
   ]
  },
  {
   "cell_type": "code",
   "execution_count": 5,
   "id": "78c73394",
   "metadata": {},
   "outputs": [
    {
     "data": {
      "text/plain": [
       "(9240, 37)"
      ]
     },
     "execution_count": 5,
     "metadata": {},
     "output_type": "execute_result"
    }
   ],
   "source": [
    "# Let's check the dimensions of the dataframe\n",
    "leads_data.shape"
   ]
  },
  {
   "cell_type": "code",
   "execution_count": 6,
   "id": "f973db5f",
   "metadata": {},
   "outputs": [
    {
     "data": {
      "text/html": [
       "<div>\n",
       "<style scoped>\n",
       "    .dataframe tbody tr th:only-of-type {\n",
       "        vertical-align: middle;\n",
       "    }\n",
       "\n",
       "    .dataframe tbody tr th {\n",
       "        vertical-align: top;\n",
       "    }\n",
       "\n",
       "    .dataframe thead th {\n",
       "        text-align: right;\n",
       "    }\n",
       "</style>\n",
       "<table border=\"1\" class=\"dataframe\">\n",
       "  <thead>\n",
       "    <tr style=\"text-align: right;\">\n",
       "      <th></th>\n",
       "      <th>Lead Number</th>\n",
       "      <th>Converted</th>\n",
       "      <th>TotalVisits</th>\n",
       "      <th>Total Time Spent on Website</th>\n",
       "      <th>Page Views Per Visit</th>\n",
       "      <th>Asymmetrique Activity Score</th>\n",
       "      <th>Asymmetrique Profile Score</th>\n",
       "    </tr>\n",
       "  </thead>\n",
       "  <tbody>\n",
       "    <tr>\n",
       "      <th>count</th>\n",
       "      <td>9240.000000</td>\n",
       "      <td>9240.000000</td>\n",
       "      <td>9103.000000</td>\n",
       "      <td>9240.000000</td>\n",
       "      <td>9103.000000</td>\n",
       "      <td>5022.000000</td>\n",
       "      <td>5022.000000</td>\n",
       "    </tr>\n",
       "    <tr>\n",
       "      <th>mean</th>\n",
       "      <td>617188.435606</td>\n",
       "      <td>0.385390</td>\n",
       "      <td>3.445238</td>\n",
       "      <td>487.698268</td>\n",
       "      <td>2.362820</td>\n",
       "      <td>14.306252</td>\n",
       "      <td>16.344883</td>\n",
       "    </tr>\n",
       "    <tr>\n",
       "      <th>std</th>\n",
       "      <td>23405.995698</td>\n",
       "      <td>0.486714</td>\n",
       "      <td>4.854853</td>\n",
       "      <td>548.021466</td>\n",
       "      <td>2.161418</td>\n",
       "      <td>1.386694</td>\n",
       "      <td>1.811395</td>\n",
       "    </tr>\n",
       "    <tr>\n",
       "      <th>min</th>\n",
       "      <td>579533.000000</td>\n",
       "      <td>0.000000</td>\n",
       "      <td>0.000000</td>\n",
       "      <td>0.000000</td>\n",
       "      <td>0.000000</td>\n",
       "      <td>7.000000</td>\n",
       "      <td>11.000000</td>\n",
       "    </tr>\n",
       "    <tr>\n",
       "      <th>25%</th>\n",
       "      <td>596484.500000</td>\n",
       "      <td>0.000000</td>\n",
       "      <td>1.000000</td>\n",
       "      <td>12.000000</td>\n",
       "      <td>1.000000</td>\n",
       "      <td>14.000000</td>\n",
       "      <td>15.000000</td>\n",
       "    </tr>\n",
       "    <tr>\n",
       "      <th>50%</th>\n",
       "      <td>615479.000000</td>\n",
       "      <td>0.000000</td>\n",
       "      <td>3.000000</td>\n",
       "      <td>248.000000</td>\n",
       "      <td>2.000000</td>\n",
       "      <td>14.000000</td>\n",
       "      <td>16.000000</td>\n",
       "    </tr>\n",
       "    <tr>\n",
       "      <th>75%</th>\n",
       "      <td>637387.250000</td>\n",
       "      <td>1.000000</td>\n",
       "      <td>5.000000</td>\n",
       "      <td>936.000000</td>\n",
       "      <td>3.000000</td>\n",
       "      <td>15.000000</td>\n",
       "      <td>18.000000</td>\n",
       "    </tr>\n",
       "    <tr>\n",
       "      <th>max</th>\n",
       "      <td>660737.000000</td>\n",
       "      <td>1.000000</td>\n",
       "      <td>251.000000</td>\n",
       "      <td>2272.000000</td>\n",
       "      <td>55.000000</td>\n",
       "      <td>18.000000</td>\n",
       "      <td>20.000000</td>\n",
       "    </tr>\n",
       "  </tbody>\n",
       "</table>\n",
       "</div>"
      ],
      "text/plain": [
       "         Lead Number    Converted  TotalVisits  Total Time Spent on Website  \\\n",
       "count    9240.000000  9240.000000  9103.000000                  9240.000000   \n",
       "mean   617188.435606     0.385390     3.445238                   487.698268   \n",
       "std     23405.995698     0.486714     4.854853                   548.021466   \n",
       "min    579533.000000     0.000000     0.000000                     0.000000   \n",
       "25%    596484.500000     0.000000     1.000000                    12.000000   \n",
       "50%    615479.000000     0.000000     3.000000                   248.000000   \n",
       "75%    637387.250000     1.000000     5.000000                   936.000000   \n",
       "max    660737.000000     1.000000   251.000000                  2272.000000   \n",
       "\n",
       "       Page Views Per Visit  Asymmetrique Activity Score  \\\n",
       "count           9103.000000                  5022.000000   \n",
       "mean               2.362820                    14.306252   \n",
       "std                2.161418                     1.386694   \n",
       "min                0.000000                     7.000000   \n",
       "25%                1.000000                    14.000000   \n",
       "50%                2.000000                    14.000000   \n",
       "75%                3.000000                    15.000000   \n",
       "max               55.000000                    18.000000   \n",
       "\n",
       "       Asymmetrique Profile Score  \n",
       "count                 5022.000000  \n",
       "mean                    16.344883  \n",
       "std                      1.811395  \n",
       "min                     11.000000  \n",
       "25%                     15.000000  \n",
       "50%                     16.000000  \n",
       "75%                     18.000000  \n",
       "max                     20.000000  "
      ]
     },
     "execution_count": 6,
     "metadata": {},
     "output_type": "execute_result"
    }
   ],
   "source": [
    "# let's look at the statistical aspects of the dataframe\n",
    "leads_data.describe()"
   ]
  },
  {
   "cell_type": "code",
   "execution_count": 7,
   "id": "debf9a52",
   "metadata": {},
   "outputs": [
    {
     "name": "stdout",
     "output_type": "stream",
     "text": [
      "<class 'pandas.core.frame.DataFrame'>\n",
      "RangeIndex: 9240 entries, 0 to 9239\n",
      "Data columns (total 37 columns):\n",
      " #   Column                                         Non-Null Count  Dtype  \n",
      "---  ------                                         --------------  -----  \n",
      " 0   Prospect ID                                    9240 non-null   object \n",
      " 1   Lead Number                                    9240 non-null   int64  \n",
      " 2   Lead Origin                                    9240 non-null   object \n",
      " 3   Lead Source                                    9204 non-null   object \n",
      " 4   Do Not Email                                   9240 non-null   object \n",
      " 5   Do Not Call                                    9240 non-null   object \n",
      " 6   Converted                                      9240 non-null   int64  \n",
      " 7   TotalVisits                                    9103 non-null   float64\n",
      " 8   Total Time Spent on Website                    9240 non-null   int64  \n",
      " 9   Page Views Per Visit                           9103 non-null   float64\n",
      " 10  Last Activity                                  9137 non-null   object \n",
      " 11  Country                                        6779 non-null   object \n",
      " 12  Specialization                                 7802 non-null   object \n",
      " 13  How did you hear about X Education             7033 non-null   object \n",
      " 14  What is your current occupation                6550 non-null   object \n",
      " 15  What matters most to you in choosing a course  6531 non-null   object \n",
      " 16  Search                                         9240 non-null   object \n",
      " 17  Magazine                                       9240 non-null   object \n",
      " 18  Newspaper Article                              9240 non-null   object \n",
      " 19  X Education Forums                             9240 non-null   object \n",
      " 20  Newspaper                                      9240 non-null   object \n",
      " 21  Digital Advertisement                          9240 non-null   object \n",
      " 22  Through Recommendations                        9240 non-null   object \n",
      " 23  Receive More Updates About Our Courses         9240 non-null   object \n",
      " 24  Tags                                           5887 non-null   object \n",
      " 25  Lead Quality                                   4473 non-null   object \n",
      " 26  Update me on Supply Chain Content              9240 non-null   object \n",
      " 27  Get updates on DM Content                      9240 non-null   object \n",
      " 28  Lead Profile                                   6531 non-null   object \n",
      " 29  City                                           7820 non-null   object \n",
      " 30  Asymmetrique Activity Index                    5022 non-null   object \n",
      " 31  Asymmetrique Profile Index                     5022 non-null   object \n",
      " 32  Asymmetrique Activity Score                    5022 non-null   float64\n",
      " 33  Asymmetrique Profile Score                     5022 non-null   float64\n",
      " 34  I agree to pay the amount through cheque       9240 non-null   object \n",
      " 35  A free copy of Mastering The Interview         9240 non-null   object \n",
      " 36  Last Notable Activity                          9240 non-null   object \n",
      "dtypes: float64(4), int64(3), object(30)\n",
      "memory usage: 2.6+ MB\n"
     ]
    }
   ],
   "source": [
    "# Let's see the type of each column\n",
    "leads_data.info()"
   ]
  },
  {
   "cell_type": "markdown",
   "id": "749ef5d6",
   "metadata": {},
   "source": [
    "# Step 3: Cleaning the Data"
   ]
  },
  {
   "cell_type": "code",
   "execution_count": 8,
   "id": "7c41befd",
   "metadata": {},
   "outputs": [
    {
     "data": {
      "text/plain": [
       "Prospect ID                                       0.000000\n",
       "Lead Number                                       0.000000\n",
       "Lead Origin                                       0.000000\n",
       "Lead Source                                       0.389610\n",
       "Do Not Email                                      0.000000\n",
       "Do Not Call                                       0.000000\n",
       "Converted                                         0.000000\n",
       "TotalVisits                                       1.482684\n",
       "Total Time Spent on Website                       0.000000\n",
       "Page Views Per Visit                              1.482684\n",
       "Last Activity                                     1.114719\n",
       "Country                                          26.634199\n",
       "Specialization                                   15.562771\n",
       "How did you hear about X Education               23.885281\n",
       "What is your current occupation                  29.112554\n",
       "What matters most to you in choosing a course    29.318182\n",
       "Search                                            0.000000\n",
       "Magazine                                          0.000000\n",
       "Newspaper Article                                 0.000000\n",
       "X Education Forums                                0.000000\n",
       "Newspaper                                         0.000000\n",
       "Digital Advertisement                             0.000000\n",
       "Through Recommendations                           0.000000\n",
       "Receive More Updates About Our Courses            0.000000\n",
       "Tags                                             36.287879\n",
       "Lead Quality                                     51.590909\n",
       "Update me on Supply Chain Content                 0.000000\n",
       "Get updates on DM Content                         0.000000\n",
       "Lead Profile                                     29.318182\n",
       "City                                             15.367965\n",
       "Asymmetrique Activity Index                      45.649351\n",
       "Asymmetrique Profile Index                       45.649351\n",
       "Asymmetrique Activity Score                      45.649351\n",
       "Asymmetrique Profile Score                       45.649351\n",
       "I agree to pay the amount through cheque          0.000000\n",
       "A free copy of Mastering The Interview            0.000000\n",
       "Last Notable Activity                             0.000000\n",
       "dtype: float64"
      ]
     },
     "execution_count": 8,
     "metadata": {},
     "output_type": "execute_result"
    }
   ],
   "source": [
    "# Check Null Values\n",
    "leads_data.isnull().mean()*100"
   ]
  },
  {
   "cell_type": "code",
   "execution_count": 9,
   "id": "cc9aaccf",
   "metadata": {},
   "outputs": [],
   "source": [
    "perc = 40.0 ## Threshold for removing columns with more than 40% missing values "
   ]
  },
  {
   "cell_type": "code",
   "execution_count": 10,
   "id": "4d96939c",
   "metadata": {},
   "outputs": [],
   "source": [
    "min_count =  int(((100-perc)/100)*leads_data.shape[0] + 1)"
   ]
  },
  {
   "cell_type": "code",
   "execution_count": 11,
   "id": "d1011287",
   "metadata": {},
   "outputs": [],
   "source": [
    "leads_data.dropna( axis=1, thresh=min_count, inplace=True)"
   ]
  },
  {
   "cell_type": "code",
   "execution_count": 12,
   "id": "b59f808e",
   "metadata": {},
   "outputs": [
    {
     "data": {
      "text/plain": [
       "(9240, 32)"
      ]
     },
     "execution_count": 12,
     "metadata": {},
     "output_type": "execute_result"
    }
   ],
   "source": [
    "leads_data.shape #5 columns removed"
   ]
  },
  {
   "cell_type": "code",
   "execution_count": 13,
   "id": "ed0c9bce",
   "metadata": {
    "scrolled": true
   },
   "outputs": [
    {
     "data": {
      "text/plain": [
       "Prospect ID                                       0.000000\n",
       "Lead Number                                       0.000000\n",
       "Lead Origin                                       0.000000\n",
       "Lead Source                                       0.389610\n",
       "Do Not Email                                      0.000000\n",
       "Do Not Call                                       0.000000\n",
       "Converted                                         0.000000\n",
       "TotalVisits                                       1.482684\n",
       "Total Time Spent on Website                       0.000000\n",
       "Page Views Per Visit                              1.482684\n",
       "Last Activity                                     1.114719\n",
       "Country                                          26.634199\n",
       "Specialization                                   15.562771\n",
       "How did you hear about X Education               23.885281\n",
       "What is your current occupation                  29.112554\n",
       "What matters most to you in choosing a course    29.318182\n",
       "Search                                            0.000000\n",
       "Magazine                                          0.000000\n",
       "Newspaper Article                                 0.000000\n",
       "X Education Forums                                0.000000\n",
       "Newspaper                                         0.000000\n",
       "Digital Advertisement                             0.000000\n",
       "Through Recommendations                           0.000000\n",
       "Receive More Updates About Our Courses            0.000000\n",
       "Tags                                             36.287879\n",
       "Update me on Supply Chain Content                 0.000000\n",
       "Get updates on DM Content                         0.000000\n",
       "Lead Profile                                     29.318182\n",
       "City                                             15.367965\n",
       "I agree to pay the amount through cheque          0.000000\n",
       "A free copy of Mastering The Interview            0.000000\n",
       "Last Notable Activity                             0.000000\n",
       "dtype: float64"
      ]
     },
     "execution_count": 13,
     "metadata": {},
     "output_type": "execute_result"
    }
   ],
   "source": [
    "# Check Null Values\n",
    "leads_data.isnull().mean()*100"
   ]
  },
  {
   "cell_type": "code",
   "execution_count": 14,
   "id": "aa00eacb",
   "metadata": {},
   "outputs": [],
   "source": [
    "# Removing missing values with less than 10%\n",
    "leads_data = leads_data[~np.isnan(leads_data['TotalVisits'])]"
   ]
  },
  {
   "cell_type": "code",
   "execution_count": 15,
   "id": "ee859f0e",
   "metadata": {},
   "outputs": [],
   "source": [
    "leads_data = leads_data[~np.isnan(leads_data['Page Views Per Visit'])]"
   ]
  },
  {
   "cell_type": "code",
   "execution_count": 16,
   "id": "b8e9137b",
   "metadata": {},
   "outputs": [
    {
     "data": {
      "text/plain": [
       "Prospect ID                                       0.000000\n",
       "Lead Number                                       0.000000\n",
       "Lead Origin                                       0.000000\n",
       "Lead Source                                       0.318576\n",
       "Do Not Email                                      0.000000\n",
       "Do Not Call                                       0.000000\n",
       "Converted                                         0.000000\n",
       "TotalVisits                                       0.000000\n",
       "Total Time Spent on Website                       0.000000\n",
       "Page Views Per Visit                              0.000000\n",
       "Last Activity                                     0.000000\n",
       "Country                                          25.530045\n",
       "Specialization                                   15.720092\n",
       "How did you hear about X Education               24.167857\n",
       "What is your current occupation                  29.473800\n",
       "What matters most to you in choosing a course    29.682522\n",
       "Search                                            0.000000\n",
       "Magazine                                          0.000000\n",
       "Newspaper Article                                 0.000000\n",
       "X Education Forums                                0.000000\n",
       "Newspaper                                         0.000000\n",
       "Digital Advertisement                             0.000000\n",
       "Through Recommendations                           0.000000\n",
       "Receive More Updates About Our Courses            0.000000\n",
       "Tags                                             36.614303\n",
       "Update me on Supply Chain Content                 0.000000\n",
       "Get updates on DM Content                         0.000000\n",
       "Lead Profile                                     29.682522\n",
       "City                                             15.588268\n",
       "I agree to pay the amount through cheque          0.000000\n",
       "A free copy of Mastering The Interview            0.000000\n",
       "Last Notable Activity                             0.000000\n",
       "dtype: float64"
      ]
     },
     "execution_count": 16,
     "metadata": {},
     "output_type": "execute_result"
    }
   ],
   "source": [
    "# Check Null Values\n",
    "leads_data.isnull().mean()*100"
   ]
  },
  {
   "cell_type": "code",
   "execution_count": 17,
   "id": "6a0a3bae",
   "metadata": {},
   "outputs": [
    {
     "data": {
      "text/plain": [
       "India                   6492\n",
       "NaN                     2324\n",
       "United States             69\n",
       "United Arab Emirates      53\n",
       "Singapore                 24\n",
       "Saudi Arabia              21\n",
       "United Kingdom            15\n",
       "Australia                 13\n",
       "Qatar                     10\n",
       "Bahrain                    7\n",
       "Hong Kong                  7\n",
       "Oman                       6\n",
       "France                     6\n",
       "unknown                    5\n",
       "Kuwait                     4\n",
       "South Africa               4\n",
       "Canada                     4\n",
       "Nigeria                    4\n",
       "Germany                    4\n",
       "Sweden                     3\n",
       "Philippines                2\n",
       "Uganda                     2\n",
       "Italy                      2\n",
       "Bangladesh                 2\n",
       "Netherlands                2\n",
       "Asia/Pacific Region        2\n",
       "China                      2\n",
       "Belgium                    2\n",
       "Ghana                      2\n",
       "Kenya                      1\n",
       "Sri Lanka                  1\n",
       "Tanzania                   1\n",
       "Malaysia                   1\n",
       "Liberia                    1\n",
       "Switzerland                1\n",
       "Denmark                    1\n",
       "Russia                     1\n",
       "Vietnam                    1\n",
       "Indonesia                  1\n",
       "Name: Country, dtype: int64"
      ]
     },
     "execution_count": 17,
     "metadata": {},
     "output_type": "execute_result"
    }
   ],
   "source": [
    "leads_data.Country.value_counts(dropna=False)"
   ]
  },
  {
   "cell_type": "code",
   "execution_count": 18,
   "id": "0c0de32f",
   "metadata": {},
   "outputs": [],
   "source": [
    "# Majority are India (More than 90%) so let's delete the column as there is dominance of one category"
   ]
  },
  {
   "cell_type": "code",
   "execution_count": 19,
   "id": "e421f96b",
   "metadata": {},
   "outputs": [],
   "source": [
    "leads_data.drop('Country', axis=1, inplace=True)"
   ]
  },
  {
   "cell_type": "code",
   "execution_count": 20,
   "id": "639b3ecf",
   "metadata": {},
   "outputs": [
    {
     "data": {
      "text/plain": [
       "Mumbai                         3179\n",
       "Select                         2181\n",
       "NaN                            1419\n",
       "Thane & Outskirts               746\n",
       "Other Cities                    680\n",
       "Other Cities of Maharashtra     447\n",
       "Other Metro Cities              377\n",
       "Tier II Cities                   74\n",
       "Name: City, dtype: int64"
      ]
     },
     "execution_count": 20,
     "metadata": {},
     "output_type": "execute_result"
    }
   ],
   "source": [
    "leads_data.City.value_counts(dropna=False)"
   ]
  },
  {
   "cell_type": "code",
   "execution_count": 21,
   "id": "1bd95adf",
   "metadata": {},
   "outputs": [],
   "source": [
    "leads_data.City.fillna('Mumbai', inplace=True)"
   ]
  },
  {
   "cell_type": "code",
   "execution_count": 22,
   "id": "03bd9e5f",
   "metadata": {},
   "outputs": [
    {
     "data": {
      "text/plain": [
       "Select                               1873\n",
       "NaN                                  1431\n",
       "Finance Management                    962\n",
       "Human Resource Management             838\n",
       "Marketing Management                  824\n",
       "Operations Management                 500\n",
       "Business Administration               399\n",
       "IT Projects Management                366\n",
       "Supply Chain Management               346\n",
       "Banking, Investment And Insurance     335\n",
       "Travel and Tourism                    202\n",
       "Media and Advertising                 202\n",
       "International Business                176\n",
       "Healthcare Management                 157\n",
       "E-COMMERCE                            111\n",
       "Hospitality Management                111\n",
       "Retail Management                     100\n",
       "Rural and Agribusiness                 73\n",
       "E-Business                             57\n",
       "Services Excellence                    40\n",
       "Name: Specialization, dtype: int64"
      ]
     },
     "execution_count": 22,
     "metadata": {},
     "output_type": "execute_result"
    }
   ],
   "source": [
    "leads_data.Specialization.value_counts(dropna=False)"
   ]
  },
  {
   "cell_type": "code",
   "execution_count": 23,
   "id": "c28e06d7",
   "metadata": {},
   "outputs": [],
   "source": [
    "leads_data['Specialization'] = leads_data['Specialization'].replace(np.nan, 'Others')\n",
    "leads_data['Specialization'] = leads_data['Specialization'].replace('Select','Others')\n",
    "## Replace with 'Others' since no category is prominent"
   ]
  },
  {
   "cell_type": "code",
   "execution_count": 24,
   "id": "6d654743",
   "metadata": {},
   "outputs": [
    {
     "data": {
      "text/plain": [
       "Others                               36.295727\n",
       "Finance Management                   10.567945\n",
       "Human Resource Management             9.205756\n",
       "Marketing Management                  9.051961\n",
       "Operations Management                 5.492695\n",
       "Business Administration               4.383170\n",
       "IT Projects Management                4.020653\n",
       "Supply Chain Management               3.800945\n",
       "Banking, Investment And Insurance     3.680105\n",
       "Travel and Tourism                    2.219049\n",
       "Media and Advertising                 2.219049\n",
       "International Business                1.933429\n",
       "Healthcare Management                 1.724706\n",
       "E-COMMERCE                            1.219378\n",
       "Hospitality Management                1.219378\n",
       "Retail Management                     1.098539\n",
       "Rural and Agribusiness                0.801933\n",
       "E-Business                            0.626167\n",
       "Services Excellence                   0.439416\n",
       "Name: Specialization, dtype: float64"
      ]
     },
     "execution_count": 24,
     "metadata": {},
     "output_type": "execute_result"
    }
   ],
   "source": [
    "leads_data['Specialization'].value_counts(normalize=True)*100"
   ]
  },
  {
   "cell_type": "code",
   "execution_count": 25,
   "id": "182cf473",
   "metadata": {},
   "outputs": [],
   "source": [
    "# Let's club all Management under one category\n",
    "\n",
    "leads_data['Specialization'] = leads_data['Specialization'].replace(['Finance Management','Human Resource Management',\n",
    "                                                           'Marketing Management','Operations Management',\n",
    "                                                           'IT Projects Management','Supply Chain Management',\n",
    "                                                            'Healthcare Management','Hospitality Management',\n",
    "                                                           'Retail Management'] ,'Management') "
   ]
  },
  {
   "cell_type": "code",
   "execution_count": 26,
   "id": "6135460b",
   "metadata": {},
   "outputs": [
    {
     "data": {
      "text/plain": [
       "Management                           46.182577\n",
       "Others                               36.295727\n",
       "Business Administration               4.383170\n",
       "Banking, Investment And Insurance     3.680105\n",
       "Media and Advertising                 2.219049\n",
       "Travel and Tourism                    2.219049\n",
       "International Business                1.933429\n",
       "E-COMMERCE                            1.219378\n",
       "Rural and Agribusiness                0.801933\n",
       "E-Business                            0.626167\n",
       "Services Excellence                   0.439416\n",
       "Name: Specialization, dtype: float64"
      ]
     },
     "execution_count": 26,
     "metadata": {},
     "output_type": "execute_result"
    }
   ],
   "source": [
    "leads_data['Specialization'].value_counts(normalize=True)*100"
   ]
  },
  {
   "cell_type": "code",
   "execution_count": 27,
   "id": "444ee3fa",
   "metadata": {},
   "outputs": [
    {
     "data": {
      "text/plain": [
       "Unemployed              5502\n",
       "NaN                     2683\n",
       "Working Professional     679\n",
       "Student                  207\n",
       "Other                     15\n",
       "Housewife                  9\n",
       "Businessman                8\n",
       "Name: What is your current occupation, dtype: int64"
      ]
     },
     "execution_count": 27,
     "metadata": {},
     "output_type": "execute_result"
    }
   ],
   "source": [
    "leads_data['What is your current occupation'].value_counts(dropna=False)"
   ]
  },
  {
   "cell_type": "code",
   "execution_count": 28,
   "id": "28671466",
   "metadata": {},
   "outputs": [],
   "source": [
    "# Majority is Unemployed so impute with that"
   ]
  },
  {
   "cell_type": "code",
   "execution_count": 29,
   "id": "611b2bcb",
   "metadata": {},
   "outputs": [],
   "source": [
    "leads_data['What is your current occupation'] = leads_data['What is your current occupation'].replace(np.nan, 'Unemployed')"
   ]
  },
  {
   "cell_type": "code",
   "execution_count": 30,
   "id": "1ca60ea2",
   "metadata": {},
   "outputs": [
    {
     "data": {
      "text/plain": [
       "Better Career Prospects      6399\n",
       "NaN                          2702\n",
       "Flexibility & Convenience       1\n",
       "Other                           1\n",
       "Name: What matters most to you in choosing a course, dtype: int64"
      ]
     },
     "execution_count": 30,
     "metadata": {},
     "output_type": "execute_result"
    }
   ],
   "source": [
    "leads_data['What matters most to you in choosing a course'].value_counts(dropna=False)"
   ]
  },
  {
   "cell_type": "code",
   "execution_count": 31,
   "id": "32aa7428",
   "metadata": {},
   "outputs": [],
   "source": [
    "# Majority is Better Career Prospects hence let's drop the column"
   ]
  },
  {
   "cell_type": "code",
   "execution_count": 32,
   "id": "cf103ea8",
   "metadata": {},
   "outputs": [],
   "source": [
    "leads_data.drop('What matters most to you in choosing a course', axis=1, inplace=True)"
   ]
  },
  {
   "cell_type": "code",
   "execution_count": 33,
   "id": "e94c27d5",
   "metadata": {},
   "outputs": [
    {
     "data": {
      "text/plain": [
       "Select                   4914\n",
       "NaN                      2200\n",
       "Online Search             808\n",
       "Word Of Mouth             348\n",
       "Student of SomeSchool     310\n",
       "Other                     186\n",
       "Multiple Sources          152\n",
       "Advertisements             70\n",
       "Social Media               66\n",
       "Email                      26\n",
       "SMS                        23\n",
       "Name: How did you hear about X Education, dtype: int64"
      ]
     },
     "execution_count": 33,
     "metadata": {},
     "output_type": "execute_result"
    }
   ],
   "source": [
    "leads_data['How did you hear about X Education'].value_counts(dropna=False)"
   ]
  },
  {
   "cell_type": "code",
   "execution_count": 34,
   "id": "771a91f7",
   "metadata": {},
   "outputs": [],
   "source": [
    "leads_data['How did you hear about X Education'] = leads_data['How did you hear about X Education'].replace(np.nan, 'Others')\n",
    "leads_data['How did you hear about X Education'] = leads_data['How did you hear about X Education'].replace(['Select','Other'], 'Others')\n",
    "## Replace with 'Others' since no category is prominent"
   ]
  },
  {
   "cell_type": "code",
   "execution_count": 35,
   "id": "68d324da",
   "metadata": {},
   "outputs": [
    {
     "data": {
      "text/plain": [
       "Others                   80.193343\n",
       "Online Search             8.876195\n",
       "Word Of Mouth             3.822916\n",
       "Student of SomeSchool     3.405471\n",
       "Multiple Sources          1.669779\n",
       "Advertisements            0.768977\n",
       "Social Media              0.725036\n",
       "Email                     0.285620\n",
       "SMS                       0.252664\n",
       "Name: How did you hear about X Education, dtype: float64"
      ]
     },
     "execution_count": 35,
     "metadata": {},
     "output_type": "execute_result"
    }
   ],
   "source": [
    "leads_data['How did you hear about X Education'].value_counts(normalize=True)*100"
   ]
  },
  {
   "cell_type": "code",
   "execution_count": 36,
   "id": "4a76581d",
   "metadata": {},
   "outputs": [],
   "source": [
    "# Not much relevant information coming about of this column so let's drop this\n",
    "leads_data.drop('How did you hear about X Education', axis=1, inplace=True)"
   ]
  },
  {
   "cell_type": "code",
   "execution_count": 37,
   "id": "a0eb01e7",
   "metadata": {},
   "outputs": [
    {
     "data": {
      "text/plain": [
       "NaN                                                  3333\n",
       "Will revert after reading the email                  2035\n",
       "Ringing                                              1189\n",
       "Interested in other courses                           509\n",
       "Already a student                                     465\n",
       "Closed by Horizzon                                    301\n",
       "switched off                                          240\n",
       "Busy                                                  185\n",
       "Lost to EINS                                          173\n",
       "Not doing further education                           145\n",
       "Interested  in full time MBA                          116\n",
       "Graduation in progress                                111\n",
       "invalid number                                         83\n",
       "Diploma holder (Not Eligible)                          63\n",
       "wrong number given                                     47\n",
       "opp hangup                                             33\n",
       "number not provided                                    26\n",
       "in touch with EINS                                     12\n",
       "Lost to Others                                          7\n",
       "Still Thinking                                          6\n",
       "Want to take admission but has financial problems       6\n",
       "In confusion whether part time or DLP                   5\n",
       "Interested in Next batch                                5\n",
       "Lateral student                                         3\n",
       "Shall take in the next coming month                     2\n",
       "University not recognized                               2\n",
       "Recognition issue (DEC approval)                        1\n",
       "Name: Tags, dtype: int64"
      ]
     },
     "execution_count": 37,
     "metadata": {},
     "output_type": "execute_result"
    }
   ],
   "source": [
    "leads_data['Tags'].value_counts(dropna=False)"
   ]
  },
  {
   "cell_type": "code",
   "execution_count": 38,
   "id": "4bc8bc09",
   "metadata": {},
   "outputs": [],
   "source": [
    "#replacing Nan values with \"Not Specified\"\n",
    "leads_data['Tags'] = leads_data['Tags'].replace(np.nan,'Not Specified')"
   ]
  },
  {
   "cell_type": "code",
   "execution_count": 39,
   "id": "2051f208",
   "metadata": {},
   "outputs": [
    {
     "data": {
      "text/plain": [
       "Not Specified                                        36.614303\n",
       "Will revert after reading the email                  22.355267\n",
       "Ringing                                              13.061628\n",
       "Interested in other courses                           5.591563\n",
       "Already a student                                     5.108206\n",
       "Closed by Horizzon                                    3.306602\n",
       "switched off                                          2.636493\n",
       "Busy                                                  2.032297\n",
       "Lost to EINS                                          1.900472\n",
       "Not doing further education                           1.592881\n",
       "Interested  in full time MBA                          1.274305\n",
       "Graduation in progress                                1.219378\n",
       "invalid number                                        0.911787\n",
       "Diploma holder (Not Eligible)                         0.692080\n",
       "wrong number given                                    0.516313\n",
       "opp hangup                                            0.362518\n",
       "number not provided                                   0.285620\n",
       "in touch with EINS                                    0.131825\n",
       "Lost to Others                                        0.076898\n",
       "Still Thinking                                        0.065912\n",
       "Want to take admission but has financial problems     0.065912\n",
       "In confusion whether part time or DLP                 0.054927\n",
       "Interested in Next batch                              0.054927\n",
       "Lateral student                                       0.032956\n",
       "Shall take in the next coming month                   0.021971\n",
       "University not recognized                             0.021971\n",
       "Recognition issue (DEC approval)                      0.010985\n",
       "Name: Tags, dtype: float64"
      ]
     },
     "execution_count": 39,
     "metadata": {},
     "output_type": "execute_result"
    }
   ],
   "source": [
    "leads_data['Tags'].value_counts(normalize=True)*100"
   ]
  },
  {
   "cell_type": "code",
   "execution_count": 40,
   "id": "f6c0ed56",
   "metadata": {},
   "outputs": [
    {
     "data": {
      "text/plain": [
       "Select                         4079\n",
       "NaN                            2702\n",
       "Potential Lead                 1559\n",
       "Other Leads                     482\n",
       "Student of SomeSchool           240\n",
       "Lateral Student                  21\n",
       "Dual Specialization Student      20\n",
       "Name: Lead Profile, dtype: int64"
      ]
     },
     "execution_count": 40,
     "metadata": {},
     "output_type": "execute_result"
    }
   ],
   "source": [
    "leads_data['Lead Profile'].value_counts(dropna=False)"
   ]
  },
  {
   "cell_type": "code",
   "execution_count": 41,
   "id": "b58fd20c",
   "metadata": {},
   "outputs": [],
   "source": [
    "leads_data['Lead Profile'] = leads_data['Lead Profile'].replace(np.nan,'Other')"
   ]
  },
  {
   "cell_type": "code",
   "execution_count": 42,
   "id": "88a88d22",
   "metadata": {},
   "outputs": [
    {
     "data": {
      "text/plain": [
       "Google               2868\n",
       "Direct Traffic       2543\n",
       "Olark Chat           1753\n",
       "Organic Search       1154\n",
       "Reference             443\n",
       "Welingak Website      129\n",
       "Referral Sites        125\n",
       "Facebook               31\n",
       "NaN                    29\n",
       "bing                    6\n",
       "google                  5\n",
       "Click2call              4\n",
       "Social Media            2\n",
       "Live Chat               2\n",
       "Press_Release           2\n",
       "Pay per Click Ads       1\n",
       "blog                    1\n",
       "WeLearn                 1\n",
       "welearnblog_Home        1\n",
       "youtubechannel          1\n",
       "testone                 1\n",
       "NC_EDM                  1\n",
       "Name: Lead Source, dtype: int64"
      ]
     },
     "execution_count": 42,
     "metadata": {},
     "output_type": "execute_result"
    }
   ],
   "source": [
    "leads_data['Lead Source'].value_counts(dropna=False)"
   ]
  },
  {
   "cell_type": "code",
   "execution_count": 43,
   "id": "20b91a96",
   "metadata": {},
   "outputs": [],
   "source": [
    "#replacing Nan Values and combining a few values\n",
    "leads_data['Lead Source'] = leads_data['Lead Source'].replace(np.nan,'Others')\n",
    "leads_data['Lead Source'] = leads_data['Lead Source'].replace('google','Google')\n",
    "leads_data['Lead Source'] = leads_data['Lead Source'].replace('Facebook','Social Media')\n",
    "leads_data['Lead Source'] = leads_data['Lead Source'].replace(['bing','Click2call','Press_Release',\n",
    "                                                     'youtubechannel','welearnblog_Home',\n",
    "                                                     'WeLearn','blog','Pay per Click Ads',\n",
    "                                                    'testone','NC_EDM'] ,'Others') "
   ]
  },
  {
   "cell_type": "code",
   "execution_count": 44,
   "id": "e008cf15",
   "metadata": {},
   "outputs": [
    {
     "data": {
      "text/plain": [
       "Google              31.561024\n",
       "Direct Traffic      27.935845\n",
       "Olark Chat          19.257388\n",
       "Organic Search      12.677139\n",
       "Reference            4.866528\n",
       "Welingak Website     1.417115\n",
       "Referral Sites       1.373174\n",
       "Others               0.527299\n",
       "Social Media         0.362518\n",
       "Live Chat            0.021971\n",
       "Name: Lead Source, dtype: float64"
      ]
     },
     "execution_count": 44,
     "metadata": {},
     "output_type": "execute_result"
    }
   ],
   "source": [
    "leads_data['Lead Source'].value_counts(normalize=True)*100"
   ]
  },
  {
   "cell_type": "code",
   "execution_count": 45,
   "id": "cfc02361",
   "metadata": {},
   "outputs": [],
   "source": [
    "# Check if Prospect ID and Lead Number have Unique Values. If yes, then we can drop them as well"
   ]
  },
  {
   "cell_type": "code",
   "execution_count": 46,
   "id": "9fd8060d",
   "metadata": {},
   "outputs": [
    {
     "data": {
      "text/plain": [
       "True"
      ]
     },
     "execution_count": 46,
     "metadata": {},
     "output_type": "execute_result"
    }
   ],
   "source": [
    "sum(leads_data.duplicated(subset = 'Prospect ID')) == 0"
   ]
  },
  {
   "cell_type": "code",
   "execution_count": 47,
   "id": "83b2bd14",
   "metadata": {},
   "outputs": [
    {
     "data": {
      "text/plain": [
       "True"
      ]
     },
     "execution_count": 47,
     "metadata": {},
     "output_type": "execute_result"
    }
   ],
   "source": [
    "sum(leads_data.duplicated(subset = 'Lead Number')) == 0"
   ]
  },
  {
   "cell_type": "code",
   "execution_count": 48,
   "id": "7946f704",
   "metadata": {},
   "outputs": [],
   "source": [
    "leads_data.drop(['Prospect ID', 'Lead Number'], axis =1, inplace=True)"
   ]
  },
  {
   "cell_type": "code",
   "execution_count": 49,
   "id": "1381e3dc",
   "metadata": {},
   "outputs": [
    {
     "data": {
      "text/plain": [
       "Index(['Lead Origin', 'Lead Source', 'Do Not Email', 'Do Not Call',\n",
       "       'Converted', 'TotalVisits', 'Total Time Spent on Website',\n",
       "       'Page Views Per Visit', 'Last Activity', 'Specialization',\n",
       "       'What is your current occupation', 'Search', 'Magazine',\n",
       "       'Newspaper Article', 'X Education Forums', 'Newspaper',\n",
       "       'Digital Advertisement', 'Through Recommendations',\n",
       "       'Receive More Updates About Our Courses', 'Tags',\n",
       "       'Update me on Supply Chain Content', 'Get updates on DM Content',\n",
       "       'Lead Profile', 'City', 'I agree to pay the amount through cheque',\n",
       "       'A free copy of Mastering The Interview', 'Last Notable Activity'],\n",
       "      dtype='object')"
      ]
     },
     "execution_count": 49,
     "metadata": {},
     "output_type": "execute_result"
    }
   ],
   "source": [
    "leads_data.columns"
   ]
  },
  {
   "cell_type": "code",
   "execution_count": 50,
   "id": "015df896",
   "metadata": {},
   "outputs": [
    {
     "data": {
      "text/plain": [
       "(9103, 27)"
      ]
     },
     "execution_count": 50,
     "metadata": {},
     "output_type": "execute_result"
    }
   ],
   "source": [
    "leads_data.shape # Left with 27 columns"
   ]
  },
  {
   "cell_type": "markdown",
   "id": "d22c93c6",
   "metadata": {},
   "source": [
    "# Step 4: EDA"
   ]
  },
  {
   "cell_type": "code",
   "execution_count": 51,
   "id": "7a836bb7",
   "metadata": {},
   "outputs": [],
   "source": [
    "# Analyzing each categprical column against Converted"
   ]
  },
  {
   "cell_type": "code",
   "execution_count": 52,
   "id": "ed0b82ea",
   "metadata": {},
   "outputs": [
    {
     "data": {
      "text/plain": [
       "Landing Page Submission    53.674613\n",
       "API                        39.305723\n",
       "Lead Add Form               6.679117\n",
       "Lead Import                 0.340547\n",
       "Name: Lead Origin, dtype: float64"
      ]
     },
     "execution_count": 52,
     "metadata": {},
     "output_type": "execute_result"
    }
   ],
   "source": [
    "leads_data['Lead Origin'].value_counts(normalize=True)*100"
   ]
  },
  {
   "cell_type": "code",
   "execution_count": 53,
   "id": "e33936e2",
   "metadata": {},
   "outputs": [],
   "source": [
    "leads_data['Lead Origin'] = leads_data['Lead Origin'].replace(['Lead Import','Lead Add Form'],'Others')"
   ]
  },
  {
   "cell_type": "code",
   "execution_count": 54,
   "id": "33326dd4",
   "metadata": {},
   "outputs": [
    {
     "data": {
      "text/plain": [
       "<AxesSubplot:xlabel='Lead Origin', ylabel='count'>"
      ]
     },
     "execution_count": 54,
     "metadata": {},
     "output_type": "execute_result"
    },
    {
     "data": {
      "image/png": "[encoded data removed]",
      "text/plain": [
       "<Figure size 432x288 with 1 Axes>"
      ]
     },
     "metadata": {
      "needs_background": "light"
     },
     "output_type": "display_data"
    }
   ],
   "source": [
    "sns.countplot(leads_data['Lead Origin'], hue=leads_data['Converted'])"
   ]
  },
  {
   "cell_type": "code",
   "execution_count": 55,
   "id": "5f691009",
   "metadata": {},
   "outputs": [],
   "source": [
    "# Conversion ratio is higher for Landing Page Submission"
   ]
  },
  {
   "cell_type": "code",
   "execution_count": 56,
   "id": "7c2bb812",
   "metadata": {},
   "outputs": [
    {
     "data": {
      "text/plain": [
       "<AxesSubplot:xlabel='Lead Source', ylabel='count'>"
      ]
     },
     "execution_count": 56,
     "metadata": {},
     "output_type": "execute_result"
    },
    {
     "data": {
      "image/png": "[encoded data removed]",
      "text/plain": [
       "<Figure size 1080x360 with 1 Axes>"
      ]
     },
     "metadata": {
      "needs_background": "light"
     },
     "output_type": "display_data"
    }
   ],
   "source": [
    "plt.figure(figsize=[15,5])\n",
    "sns.countplot(leads_data['Lead Source'], hue=leads_data['Converted'])\n",
    "\n",
    "# Google contributes most towards conversions"
   ]
  },
  {
   "cell_type": "code",
   "execution_count": 57,
   "id": "4e119dab",
   "metadata": {},
   "outputs": [
    {
     "data": {
      "text/plain": [
       "<AxesSubplot:xlabel='Do Not Call', ylabel='count'>"
      ]
     },
     "execution_count": 57,
     "metadata": {},
     "output_type": "execute_result"
    },
    {
     "data": {
      "image/png": "[encoded data removed]",
      "text/plain": [
       "<Figure size 1080x360 with 2 Axes>"
      ]
     },
     "metadata": {
      "needs_background": "light"
     },
     "output_type": "display_data"
    }
   ],
   "source": [
    "plt.figure(figsize=[15,5])\n",
    "plt.subplot(1,2,1)\n",
    "sns.countplot(leads_data['Do Not Email'], hue=leads_data['Converted'])\n",
    "plt.subplot(1,2,2)\n",
    "sns.countplot(leads_data['Do Not Call'], hue=leads_data['Converted'])"
   ]
  },
  {
   "cell_type": "code",
   "execution_count": 58,
   "id": "264415d9",
   "metadata": {},
   "outputs": [
    {
     "data": {
      "text/plain": [
       "Email Opened                    37.756783\n",
       "SMS Sent                        30.077996\n",
       "Olark Chat Conversation         10.677799\n",
       "Page Visited on Website          7.030649\n",
       "Converted to Lead                4.701747\n",
       "Email Bounced                    3.427442\n",
       "Email Link Clicked               2.933099\n",
       "Form Submitted on Website        1.274305\n",
       "Unreachable                      0.988685\n",
       "Unsubscribed                     0.670109\n",
       "Had a Phone Conversation         0.274635\n",
       "View in browser link Clicked     0.065912\n",
       "Approached upfront               0.054927\n",
       "Email Received                   0.021971\n",
       "Email Marked Spam                0.021971\n",
       "Visited Booth in Tradeshow       0.010985\n",
       "Resubscribed to emails           0.010985\n",
       "Name: Last Activity, dtype: float64"
      ]
     },
     "execution_count": 58,
     "metadata": {},
     "output_type": "execute_result"
    }
   ],
   "source": [
    "leads_data['Last Activity'].value_counts(normalize=True)*100"
   ]
  },
  {
   "cell_type": "code",
   "execution_count": 59,
   "id": "e02c49c1",
   "metadata": {},
   "outputs": [],
   "source": [
    "leads_data['Last Activity'] = leads_data['Last Activity'].replace(['Email Bounced','Email Link Clicked','Form Submitted on Website','Unreachable','Unsubscribed','Had a Phone Conversation',\n",
    "                                                     'View in browser link Clicked','Approached upfront',\n",
    "                                                     'Email Received','Email Marked Spam','Visited Booth in Tradeshow',\n",
    "                                                    'Resubscribed to emails'] ,'Others') "
   ]
  },
  {
   "cell_type": "code",
   "execution_count": 60,
   "id": "65441306",
   "metadata": {},
   "outputs": [
    {
     "data": {
      "image/png": "[encoded data removed]",
      "text/plain": [
       "<Figure size 1080x360 with 1 Axes>"
      ]
     },
     "metadata": {
      "needs_background": "light"
     },
     "output_type": "display_data"
    }
   ],
   "source": [
    "plt.figure(figsize=[15,5])\n",
    "sns.countplot(leads_data['Last Activity'], hue=leads_data['Converted'])\n",
    "plt.show()"
   ]
  },
  {
   "cell_type": "code",
   "execution_count": 61,
   "id": "33323ad1",
   "metadata": {},
   "outputs": [],
   "source": [
    "# Max conversions have been through SMS Sent and Email Opened"
   ]
  },
  {
   "cell_type": "code",
   "execution_count": 62,
   "id": "da93f2e3",
   "metadata": {},
   "outputs": [
    {
     "data": {
      "image/png": "[encoded data removed]",
      "text/plain": [
       "<Figure size 1440x360 with 1 Axes>"
      ]
     },
     "metadata": {
      "needs_background": "light"
     },
     "output_type": "display_data"
    }
   ],
   "source": [
    "plt.figure(figsize=[20,5])\n",
    "sns.countplot(leads_data['Specialization'], hue=leads_data['Converted'])\n",
    "plt.xticks(rotation=45)\n",
    "plt.show()"
   ]
  },
  {
   "cell_type": "code",
   "execution_count": 63,
   "id": "781b1481",
   "metadata": {},
   "outputs": [],
   "source": [
    "# Maximum conversions are for Management"
   ]
  },
  {
   "cell_type": "code",
   "execution_count": 64,
   "id": "5ccd98f6",
   "metadata": {},
   "outputs": [
    {
     "data": {
      "image/png": "[encoded data removed]",
      "text/plain": [
       "<Figure size 1080x360 with 1 Axes>"
      ]
     },
     "metadata": {
      "needs_background": "light"
     },
     "output_type": "display_data"
    }
   ],
   "source": [
    "plt.figure(figsize=[15,5])\n",
    "sns.countplot(leads_data['What is your current occupation'], hue=leads_data['Converted'])\n",
    "plt.show()"
   ]
  },
  {
   "cell_type": "code",
   "execution_count": 65,
   "id": "e8b87da2",
   "metadata": {},
   "outputs": [],
   "source": [
    "# Maximum conversions are for Unemployed"
   ]
  },
  {
   "cell_type": "code",
   "execution_count": 66,
   "id": "a46e5342",
   "metadata": {},
   "outputs": [
    {
     "data": {
      "text/plain": [
       "No     99.846205\n",
       "Yes     0.153795\n",
       "Name: Search, dtype: float64"
      ]
     },
     "execution_count": 66,
     "metadata": {},
     "output_type": "execute_result"
    }
   ],
   "source": [
    "leads_data['Search'].value_counts(normalize=True)*100"
   ]
  },
  {
   "cell_type": "code",
   "execution_count": 67,
   "id": "7678c037",
   "metadata": {},
   "outputs": [
    {
     "data": {
      "text/plain": [
       "No     99.978029\n",
       "Yes     0.021971\n",
       "Name: Newspaper Article, dtype: float64"
      ]
     },
     "execution_count": 67,
     "metadata": {},
     "output_type": "execute_result"
    }
   ],
   "source": [
    "leads_data['Newspaper Article'].value_counts(normalize=True)*100"
   ]
  },
  {
   "cell_type": "code",
   "execution_count": 68,
   "id": "35648b65",
   "metadata": {},
   "outputs": [
    {
     "data": {
      "text/plain": [
       "No     99.989015\n",
       "Yes     0.010985\n",
       "Name: X Education Forums, dtype: float64"
      ]
     },
     "execution_count": 68,
     "metadata": {},
     "output_type": "execute_result"
    }
   ],
   "source": [
    "leads_data['X Education Forums'].value_counts(normalize=True)*100"
   ]
  },
  {
   "cell_type": "code",
   "execution_count": 69,
   "id": "4167cfea",
   "metadata": {},
   "outputs": [
    {
     "data": {
      "text/plain": [
       "No     99.989015\n",
       "Yes     0.010985\n",
       "Name: Newspaper, dtype: float64"
      ]
     },
     "execution_count": 69,
     "metadata": {},
     "output_type": "execute_result"
    }
   ],
   "source": [
    "leads_data['Newspaper'].value_counts(normalize=True)*100"
   ]
  },
  {
   "cell_type": "code",
   "execution_count": 70,
   "id": "30c07947",
   "metadata": {},
   "outputs": [
    {
     "data": {
      "text/plain": [
       "No     99.956058\n",
       "Yes     0.043942\n",
       "Name: Digital Advertisement, dtype: float64"
      ]
     },
     "execution_count": 70,
     "metadata": {},
     "output_type": "execute_result"
    }
   ],
   "source": [
    "leads_data['Digital Advertisement'].value_counts(normalize=True)*100"
   ]
  },
  {
   "cell_type": "code",
   "execution_count": 71,
   "id": "84654e97",
   "metadata": {},
   "outputs": [
    {
     "data": {
      "text/plain": [
       "No     99.923102\n",
       "Yes     0.076898\n",
       "Name: Through Recommendations, dtype: float64"
      ]
     },
     "execution_count": 71,
     "metadata": {},
     "output_type": "execute_result"
    }
   ],
   "source": [
    "leads_data['Through Recommendations'].value_counts(normalize=True)*100"
   ]
  },
  {
   "cell_type": "code",
   "execution_count": 72,
   "id": "b2c9071e",
   "metadata": {},
   "outputs": [
    {
     "data": {
      "text/plain": [
       "No    100.0\n",
       "Name: Receive More Updates About Our Courses, dtype: float64"
      ]
     },
     "execution_count": 72,
     "metadata": {},
     "output_type": "execute_result"
    }
   ],
   "source": [
    "leads_data['Receive More Updates About Our Courses'].value_counts(normalize=True)*100"
   ]
  },
  {
   "cell_type": "code",
   "execution_count": 73,
   "id": "c4badfe7",
   "metadata": {},
   "outputs": [
    {
     "data": {
      "text/plain": [
       "No    100.0\n",
       "Name: Update me on Supply Chain Content, dtype: float64"
      ]
     },
     "execution_count": 73,
     "metadata": {},
     "output_type": "execute_result"
    }
   ],
   "source": [
    "leads_data['Update me on Supply Chain Content'].value_counts(normalize=True)*100"
   ]
  },
  {
   "cell_type": "code",
   "execution_count": 74,
   "id": "01799174",
   "metadata": {},
   "outputs": [
    {
     "data": {
      "text/plain": [
       "No    100.0\n",
       "Name: Get updates on DM Content, dtype: float64"
      ]
     },
     "execution_count": 74,
     "metadata": {},
     "output_type": "execute_result"
    }
   ],
   "source": [
    "leads_data['Get updates on DM Content'].value_counts(normalize=True)*100"
   ]
  },
  {
   "cell_type": "code",
   "execution_count": 75,
   "id": "62a0b704",
   "metadata": {},
   "outputs": [
    {
     "data": {
      "text/plain": [
       "No    100.0\n",
       "Name: I agree to pay the amount through cheque, dtype: float64"
      ]
     },
     "execution_count": 75,
     "metadata": {},
     "output_type": "execute_result"
    }
   ],
   "source": [
    "leads_data['I agree to pay the amount through cheque'].value_counts(normalize=True)*100"
   ]
  },
  {
   "cell_type": "code",
   "execution_count": 76,
   "id": "f12db97a",
   "metadata": {},
   "outputs": [],
   "source": [
    "## All above colums should be dropped since there is a lot of imbalance"
   ]
  },
  {
   "cell_type": "code",
   "execution_count": 77,
   "id": "5dfdc00d",
   "metadata": {},
   "outputs": [],
   "source": [
    "leads_data.drop(['Search', 'Magazine',\n",
    "       'Newspaper Article', 'X Education Forums', 'Newspaper',\n",
    "       'Digital Advertisement', 'Through Recommendations',\n",
    "       'Receive More Updates About Our Courses','Update me on Supply Chain Content','Get updates on DM Content',\n",
    "                'I agree to pay the amount through cheque'], axis =1, inplace=True)"
   ]
  },
  {
   "cell_type": "code",
   "execution_count": 78,
   "id": "3204d3ac",
   "metadata": {},
   "outputs": [
    {
     "data": {
      "text/plain": [
       "(9103, 16)"
      ]
     },
     "execution_count": 78,
     "metadata": {},
     "output_type": "execute_result"
    }
   ],
   "source": [
    "leads_data.shape # 16 columns left"
   ]
  },
  {
   "cell_type": "code",
   "execution_count": 79,
   "id": "a7300eaf",
   "metadata": {},
   "outputs": [
    {
     "data": {
      "text/plain": [
       "Index(['Lead Origin', 'Lead Source', 'Do Not Email', 'Do Not Call',\n",
       "       'Converted', 'TotalVisits', 'Total Time Spent on Website',\n",
       "       'Page Views Per Visit', 'Last Activity', 'Specialization',\n",
       "       'What is your current occupation', 'Tags', 'Lead Profile', 'City',\n",
       "       'A free copy of Mastering The Interview', 'Last Notable Activity'],\n",
       "      dtype='object')"
      ]
     },
     "execution_count": 79,
     "metadata": {},
     "output_type": "execute_result"
    }
   ],
   "source": [
    "leads_data.columns"
   ]
  },
  {
   "cell_type": "code",
   "execution_count": 80,
   "id": "e330601c",
   "metadata": {},
   "outputs": [
    {
     "data": {
      "text/plain": [
       "Not Specified                                        36.614303\n",
       "Will revert after reading the email                  22.355267\n",
       "Ringing                                              13.061628\n",
       "Interested in other courses                           5.591563\n",
       "Already a student                                     5.108206\n",
       "Closed by Horizzon                                    3.306602\n",
       "switched off                                          2.636493\n",
       "Busy                                                  2.032297\n",
       "Lost to EINS                                          1.900472\n",
       "Not doing further education                           1.592881\n",
       "Interested  in full time MBA                          1.274305\n",
       "Graduation in progress                                1.219378\n",
       "invalid number                                        0.911787\n",
       "Diploma holder (Not Eligible)                         0.692080\n",
       "wrong number given                                    0.516313\n",
       "opp hangup                                            0.362518\n",
       "number not provided                                   0.285620\n",
       "in touch with EINS                                    0.131825\n",
       "Lost to Others                                        0.076898\n",
       "Still Thinking                                        0.065912\n",
       "Want to take admission but has financial problems     0.065912\n",
       "In confusion whether part time or DLP                 0.054927\n",
       "Interested in Next batch                              0.054927\n",
       "Lateral student                                       0.032956\n",
       "Shall take in the next coming month                   0.021971\n",
       "University not recognized                             0.021971\n",
       "Recognition issue (DEC approval)                      0.010985\n",
       "Name: Tags, dtype: float64"
      ]
     },
     "execution_count": 80,
     "metadata": {},
     "output_type": "execute_result"
    }
   ],
   "source": [
    "leads_data['Tags'].value_counts(normalize=True)*100"
   ]
  },
  {
   "cell_type": "code",
   "execution_count": 81,
   "id": "63898aa9",
   "metadata": {},
   "outputs": [],
   "source": [
    "leads_data['Tags'] = leads_data['Tags'].replace(['Busy','Lost to EINS','Not doing further education','Interested  in full time MBA','Graduation in progress','invalid number','Diploma holder (Not Eligible)','wrong number given',\n",
    "                                                 'opp hangup','number not provided','in touch with EINS',\n",
    "                                                     'Lost to Others','Still Thinking',\n",
    "                                                     'Want to take admission but has financial problems',\n",
    "                                                 'In confusion whether part time or DLP','Interested in Next batch',\n",
    "                                                    'Lateral student','Shall take in the next coming month',\n",
    "                                                'University not recognized','Recognition issue (DEC approval)'] ,'Others') "
   ]
  },
  {
   "cell_type": "code",
   "execution_count": 82,
   "id": "a0f98d4f",
   "metadata": {},
   "outputs": [
    {
     "data": {
      "image/png": "[encoded data removed]",
      "text/plain": [
       "<Figure size 1440x360 with 1 Axes>"
      ]
     },
     "metadata": {
      "needs_background": "light"
     },
     "output_type": "display_data"
    }
   ],
   "source": [
    "plt.figure(figsize=[20,5])\n",
    "sns.countplot(leads_data['Tags'], hue=leads_data['Converted'])\n",
    "plt.show()"
   ]
  },
  {
   "cell_type": "code",
   "execution_count": 83,
   "id": "0eb6f2d0",
   "metadata": {},
   "outputs": [],
   "source": [
    "# Will revert After Reading the email are maximum conversions"
   ]
  },
  {
   "cell_type": "code",
   "execution_count": 84,
   "id": "4aec4486",
   "metadata": {},
   "outputs": [
    {
     "data": {
      "image/png": "[encoded data removed]",
      "text/plain": [
       "<Figure size 1440x360 with 1 Axes>"
      ]
     },
     "metadata": {
      "needs_background": "light"
     },
     "output_type": "display_data"
    }
   ],
   "source": [
    "plt.figure(figsize=[20,5])\n",
    "sns.countplot(leads_data['Lead Profile'], hue=leads_data['Converted'])\n",
    "plt.show()"
   ]
  },
  {
   "cell_type": "code",
   "execution_count": 85,
   "id": "3df89b6b",
   "metadata": {},
   "outputs": [],
   "source": [
    "# Nothing major coming out of this"
   ]
  },
  {
   "cell_type": "code",
   "execution_count": 86,
   "id": "99cbfb8e",
   "metadata": {},
   "outputs": [
    {
     "data": {
      "image/png": "[encoded data removed]",
      "text/plain": [
       "<Figure size 1440x360 with 1 Axes>"
      ]
     },
     "metadata": {
      "needs_background": "light"
     },
     "output_type": "display_data"
    }
   ],
   "source": [
    "plt.figure(figsize=[20,5])\n",
    "sns.countplot(leads_data['City'], hue=leads_data['Converted'])\n",
    "plt.show()"
   ]
  },
  {
   "cell_type": "code",
   "execution_count": 87,
   "id": "06d3b1cf",
   "metadata": {},
   "outputs": [],
   "source": [
    "# Mumbai is maximum conversions"
   ]
  },
  {
   "cell_type": "code",
   "execution_count": 88,
   "id": "f21c08df",
   "metadata": {},
   "outputs": [
    {
     "data": {
      "image/png": "[encoded data removed]",
      "text/plain": [
       "<Figure size 1440x360 with 1 Axes>"
      ]
     },
     "metadata": {
      "needs_background": "light"
     },
     "output_type": "display_data"
    }
   ],
   "source": [
    "plt.figure(figsize=[20,5])\n",
    "sns.countplot(leads_data['A free copy of Mastering The Interview'], hue=leads_data['Converted'])\n",
    "plt.show()"
   ]
  },
  {
   "cell_type": "code",
   "execution_count": 89,
   "id": "c139f5d8",
   "metadata": {},
   "outputs": [
    {
     "data": {
      "text/plain": [
       "Modified                        35.922223\n",
       "Email Opened                    31.055696\n",
       "SMS Sent                        23.860266\n",
       "Page Visited on Website          3.493354\n",
       "Olark Chat Conversation          2.010326\n",
       "Email Link Clicked               1.900472\n",
       "Email Bounced                    0.659123\n",
       "Unsubscribed                     0.516313\n",
       "Unreachable                      0.351532\n",
       "Had a Phone Conversation         0.153795\n",
       "Email Marked Spam                0.021971\n",
       "Approached upfront               0.010985\n",
       "Resubscribed to emails           0.010985\n",
       "View in browser link Clicked     0.010985\n",
       "Form Submitted on Website        0.010985\n",
       "Email Received                   0.010985\n",
       "Name: Last Notable Activity, dtype: float64"
      ]
     },
     "execution_count": 89,
     "metadata": {},
     "output_type": "execute_result"
    }
   ],
   "source": [
    "leads_data['Last Notable Activity'].value_counts(normalize=True)*100"
   ]
  },
  {
   "cell_type": "code",
   "execution_count": 90,
   "id": "c88a144b",
   "metadata": {},
   "outputs": [],
   "source": [
    "leads_data['Last Notable Activity'] = leads_data['Last Notable Activity'].replace(['Page Visited on Website',\n",
    "                                                                                   'Olark Chat Conversation','Email Link Clicked',\n",
    "                                                                                   'Email Bounced','Unsubscribed','Unreachable',\n",
    "                                                                                   'Had a Phone Conversation','Email Marked Spam',\n",
    "                                                 'Approached upfront','Resubscribed to emails',\n",
    "                                                 'View in browser link Clicked','Form Submitted on Website',\n",
    "                                                     'Email Received'] ,'Others') "
   ]
  },
  {
   "cell_type": "code",
   "execution_count": 91,
   "id": "12911c94",
   "metadata": {},
   "outputs": [
    {
     "data": {
      "image/png": "[encoded data removed]",
      "text/plain": [
       "<Figure size 1440x360 with 1 Axes>"
      ]
     },
     "metadata": {
      "needs_background": "light"
     },
     "output_type": "display_data"
    }
   ],
   "source": [
    "plt.figure(figsize=[20,5])\n",
    "sns.countplot(leads_data['Last Notable Activity'], hue=leads_data['Converted'])\n",
    "plt.show()"
   ]
  },
  {
   "cell_type": "code",
   "execution_count": 92,
   "id": "0d0e2ea3",
   "metadata": {},
   "outputs": [],
   "source": [
    "# Email Opened and SMS Sent have maximum conversions"
   ]
  },
  {
   "cell_type": "code",
   "execution_count": 93,
   "id": "5b31fa57",
   "metadata": {},
   "outputs": [
    {
     "data": {
      "text/plain": [
       "<AxesSubplot:>"
      ]
     },
     "execution_count": 93,
     "metadata": {},
     "output_type": "execute_result"
    },
    {
     "data": {
      "image/png": "[encoded data removed]",
      "text/plain": [
       "<Figure size 432x288 with 2 Axes>"
      ]
     },
     "metadata": {
      "needs_background": "light"
     },
     "output_type": "display_data"
    }
   ],
   "source": [
    "sns.heatmap(leads_data[['Converted', 'TotalVisits', 'Total Time Spent on Website','Page Views Per Visit']].corr(),annot=True)"
   ]
  },
  {
   "cell_type": "code",
   "execution_count": 94,
   "id": "20ebd706",
   "metadata": {},
   "outputs": [
    {
     "data": {
      "text/plain": [
       "<AxesSubplot:xlabel='TotalVisits'>"
      ]
     },
     "execution_count": 94,
     "metadata": {},
     "output_type": "execute_result"
    },
    {
     "data": {
      "image/png": "[encoded data removed]",
      "text/plain": [
       "<Figure size 432x288 with 1 Axes>"
      ]
     },
     "metadata": {
      "needs_background": "light"
     },
     "output_type": "display_data"
    }
   ],
   "source": [
    "sns.boxplot(leads_data[\"TotalVisits\"])"
   ]
  },
  {
   "cell_type": "code",
   "execution_count": 95,
   "id": "44f6891e",
   "metadata": {},
   "outputs": [
    {
     "data": {
      "text/plain": [
       "0.50    0.003\n",
       "0.70    0.004\n",
       "0.90    0.007\n",
       "0.95    0.010\n",
       "0.99    0.017\n",
       "Name: TotalVisits, dtype: float64"
      ]
     },
     "execution_count": 95,
     "metadata": {},
     "output_type": "execute_result"
    }
   ],
   "source": [
    "leads_data.TotalVisits.quantile([0.5, 0.7, 0.9, 0.95, 0.99])/1000"
   ]
  },
  {
   "cell_type": "code",
   "execution_count": 96,
   "id": "202e3e3b",
   "metadata": {},
   "outputs": [
    {
     "data": {
      "text/plain": [
       "count    9.103000\n",
       "mean     0.003445\n",
       "std      0.004855\n",
       "min      0.000000\n",
       "25%      0.001000\n",
       "50%      0.003000\n",
       "75%      0.005000\n",
       "max      0.251000\n",
       "Name: TotalVisits, dtype: float64"
      ]
     },
     "execution_count": 96,
     "metadata": {},
     "output_type": "execute_result"
    }
   ],
   "source": [
    "leads_data.TotalVisits.describe()/1000"
   ]
  },
  {
   "cell_type": "code",
   "execution_count": 97,
   "id": "a819c84c",
   "metadata": {},
   "outputs": [],
   "source": [
    "# max seems to be an outlier so capping this at 75 percentile\n",
    "upper_bound=leads_data[\"TotalVisits\"].describe()[\"75%\"]"
   ]
  },
  {
   "cell_type": "code",
   "execution_count": 98,
   "id": "5a2209f3",
   "metadata": {},
   "outputs": [],
   "source": [
    "## Capping\n",
    "leads_data[\"TotalVisits\"]=np.where(leads_data[\"TotalVisits\"]>upper_bound,upper_bound,leads_data[\"TotalVisits\"])"
   ]
  },
  {
   "cell_type": "code",
   "execution_count": 99,
   "id": "dec7efa9",
   "metadata": {},
   "outputs": [
    {
     "data": {
      "text/plain": [
       "<AxesSubplot:xlabel='TotalVisits'>"
      ]
     },
     "execution_count": 99,
     "metadata": {},
     "output_type": "execute_result"
    },
    {
     "data": {
      "image/png": "[encoded data removed]",
      "text/plain": [
       "<Figure size 432x288 with 1 Axes>"
      ]
     },
     "metadata": {
      "needs_background": "light"
     },
     "output_type": "display_data"
    }
   ],
   "source": [
    "sns.boxplot(leads_data[\"TotalVisits\"])"
   ]
  },
  {
   "cell_type": "code",
   "execution_count": 100,
   "id": "49a4404e",
   "metadata": {},
   "outputs": [
    {
     "data": {
      "text/plain": [
       "<AxesSubplot:xlabel='Total Time Spent on Website'>"
      ]
     },
     "execution_count": 100,
     "metadata": {},
     "output_type": "execute_result"
    },
    {
     "data": {
      "image/png": "[encoded data removed]",
      "text/plain": [
       "<Figure size 432x288 with 1 Axes>"
      ]
     },
     "metadata": {
      "needs_background": "light"
     },
     "output_type": "display_data"
    }
   ],
   "source": [
    "sns.boxplot(leads_data[\"Total Time Spent on Website\"])"
   ]
  },
  {
   "cell_type": "code",
   "execution_count": 101,
   "id": "91d71607",
   "metadata": {},
   "outputs": [
    {
     "data": {
      "text/plain": [
       "<AxesSubplot:xlabel='Page Views Per Visit'>"
      ]
     },
     "execution_count": 101,
     "metadata": {},
     "output_type": "execute_result"
    },
    {
     "data": {
      "image/png": "[encoded data removed]",
      "text/plain": [
       "<Figure size 432x288 with 1 Axes>"
      ]
     },
     "metadata": {
      "needs_background": "light"
     },
     "output_type": "display_data"
    }
   ],
   "source": [
    "sns.boxplot(leads_data[\"Page Views Per Visit\"])"
   ]
  },
  {
   "cell_type": "code",
   "execution_count": 102,
   "id": "55ce93c7",
   "metadata": {},
   "outputs": [
    {
     "data": {
      "text/plain": [
       "count    9103.000000\n",
       "mean        2.362820\n",
       "std         2.161418\n",
       "min         0.000000\n",
       "25%         1.000000\n",
       "50%         2.000000\n",
       "75%         3.000000\n",
       "max        55.000000\n",
       "Name: Page Views Per Visit, dtype: float64"
      ]
     },
     "execution_count": 102,
     "metadata": {},
     "output_type": "execute_result"
    }
   ],
   "source": [
    "leads_data[\"Page Views Per Visit\"].describe()"
   ]
  },
  {
   "cell_type": "code",
   "execution_count": 103,
   "id": "e5138a3e",
   "metadata": {},
   "outputs": [
    {
     "data": {
      "text/plain": [
       "0.50    2.0\n",
       "0.70    3.0\n",
       "0.90    5.0\n",
       "0.95    6.0\n",
       "0.99    9.0\n",
       "Name: Page Views Per Visit, dtype: float64"
      ]
     },
     "execution_count": 103,
     "metadata": {},
     "output_type": "execute_result"
    }
   ],
   "source": [
    "leads_data[\"Page Views Per Visit\"].quantile([0.5, 0.7, 0.9, 0.95, 0.99])"
   ]
  },
  {
   "cell_type": "code",
   "execution_count": 104,
   "id": "20f1cc5a",
   "metadata": {},
   "outputs": [],
   "source": [
    "# Max seems to be an outlier so capping"
   ]
  },
  {
   "cell_type": "code",
   "execution_count": 105,
   "id": "b93d414a",
   "metadata": {},
   "outputs": [],
   "source": [
    "q1=leads_data[\"Page Views Per Visit\"].describe()[\"25%\"]\n",
    "q3=leads_data[\"Page Views Per Visit\"].describe()[\"75%\"]\n",
    "iqr=q3-q1 #(Inter quartile range)\n",
    "upper_bound_1=q3+1.5*iqr"
   ]
  },
  {
   "cell_type": "code",
   "execution_count": 106,
   "id": "517905b0",
   "metadata": {},
   "outputs": [],
   "source": [
    "## Capping\n",
    "leads_data[\"Page Views Per Visit\"]=np.where(leads_data[\"Page Views Per Visit\"]>upper_bound,upper_bound,leads_data[\"Page Views Per Visit\"])"
   ]
  },
  {
   "cell_type": "code",
   "execution_count": 107,
   "id": "71893c78",
   "metadata": {},
   "outputs": [
    {
     "data": {
      "text/plain": [
       "<AxesSubplot:xlabel='Page Views Per Visit'>"
      ]
     },
     "execution_count": 107,
     "metadata": {},
     "output_type": "execute_result"
    },
    {
     "data": {
      "image/png": "[encoded data removed]",
      "text/plain": [
       "<Figure size 432x288 with 1 Axes>"
      ]
     },
     "metadata": {
      "needs_background": "light"
     },
     "output_type": "display_data"
    }
   ],
   "source": [
    "sns.boxplot(leads_data[\"Page Views Per Visit\"])"
   ]
  },
  {
   "cell_type": "markdown",
   "id": "62f6da79",
   "metadata": {},
   "source": [
    "# Step 4: Create Dummy Variable"
   ]
  },
  {
   "cell_type": "code",
   "execution_count": 108,
   "id": "5badb325",
   "metadata": {},
   "outputs": [
    {
     "data": {
      "text/plain": [
       "Index(['Lead Origin', 'Lead Source', 'Do Not Email', 'Do Not Call',\n",
       "       'Converted', 'TotalVisits', 'Total Time Spent on Website',\n",
       "       'Page Views Per Visit', 'Last Activity', 'Specialization',\n",
       "       'What is your current occupation', 'Tags', 'Lead Profile', 'City',\n",
       "       'A free copy of Mastering The Interview', 'Last Notable Activity'],\n",
       "      dtype='object')"
      ]
     },
     "execution_count": 108,
     "metadata": {},
     "output_type": "execute_result"
    }
   ],
   "source": [
    "leads_data.columns"
   ]
  },
  {
   "cell_type": "code",
   "execution_count": 109,
   "id": "59acc45f",
   "metadata": {},
   "outputs": [],
   "source": [
    "# Creating a dummy variable for some of the categorical variables and dropping the first one.\n",
    "dummy1 = pd.get_dummies(leads_data[['Lead Origin', 'Lead Source', 'Last Activity', 'Specialization',\n",
    "       'What is your current occupation', 'Tags', 'Lead Profile', 'City', 'Last Notable Activity']], drop_first=True)"
   ]
  },
  {
   "cell_type": "code",
   "execution_count": 110,
   "id": "97a4f9a4",
   "metadata": {},
   "outputs": [],
   "source": [
    "# Adding the results to the master dataframe\n",
    "leads_data = pd.concat([leads_data, dummy1], axis=1)"
   ]
  },
  {
   "cell_type": "code",
   "execution_count": 111,
   "id": "9b11236b",
   "metadata": {},
   "outputs": [
    {
     "data": {
      "text/html": [
       "<div>\n",
       "<style scoped>\n",
       "    .dataframe tbody tr th:only-of-type {\n",
       "        vertical-align: middle;\n",
       "    }\n",
       "\n",
       "    .dataframe tbody tr th {\n",
       "        vertical-align: top;\n",
       "    }\n",
       "\n",
       "    .dataframe thead th {\n",
       "        text-align: right;\n",
       "    }\n",
       "</style>\n",
       "<table border=\"1\" class=\"dataframe\">\n",
       "  <thead>\n",
       "    <tr style=\"text-align: right;\">\n",
       "      <th></th>\n",
       "      <th>Lead Origin</th>\n",
       "      <th>Lead Source</th>\n",
       "      <th>Do Not Email</th>\n",
       "      <th>Do Not Call</th>\n",
       "      <th>Converted</th>\n",
       "      <th>TotalVisits</th>\n",
       "      <th>Total Time Spent on Website</th>\n",
       "      <th>Page Views Per Visit</th>\n",
       "      <th>Last Activity</th>\n",
       "      <th>Specialization</th>\n",
       "      <th>...</th>\n",
       "      <th>Lead Profile_Student of SomeSchool</th>\n",
       "      <th>City_Other Cities</th>\n",
       "      <th>City_Other Cities of Maharashtra</th>\n",
       "      <th>City_Other Metro Cities</th>\n",
       "      <th>City_Select</th>\n",
       "      <th>City_Thane &amp; Outskirts</th>\n",
       "      <th>City_Tier II Cities</th>\n",
       "      <th>Last Notable Activity_Modified</th>\n",
       "      <th>Last Notable Activity_Others</th>\n",
       "      <th>Last Notable Activity_SMS Sent</th>\n",
       "    </tr>\n",
       "  </thead>\n",
       "  <tbody>\n",
       "    <tr>\n",
       "      <th>0</th>\n",
       "      <td>API</td>\n",
       "      <td>Olark Chat</td>\n",
       "      <td>No</td>\n",
       "      <td>No</td>\n",
       "      <td>0</td>\n",
       "      <td>0.0</td>\n",
       "      <td>0</td>\n",
       "      <td>0.0</td>\n",
       "      <td>Page Visited on Website</td>\n",
       "      <td>Others</td>\n",
       "      <td>...</td>\n",
       "      <td>0</td>\n",
       "      <td>0</td>\n",
       "      <td>0</td>\n",
       "      <td>0</td>\n",
       "      <td>1</td>\n",
       "      <td>0</td>\n",
       "      <td>0</td>\n",
       "      <td>1</td>\n",
       "      <td>0</td>\n",
       "      <td>0</td>\n",
       "    </tr>\n",
       "    <tr>\n",
       "      <th>1</th>\n",
       "      <td>API</td>\n",
       "      <td>Organic Search</td>\n",
       "      <td>No</td>\n",
       "      <td>No</td>\n",
       "      <td>0</td>\n",
       "      <td>5.0</td>\n",
       "      <td>674</td>\n",
       "      <td>2.5</td>\n",
       "      <td>Email Opened</td>\n",
       "      <td>Others</td>\n",
       "      <td>...</td>\n",
       "      <td>0</td>\n",
       "      <td>0</td>\n",
       "      <td>0</td>\n",
       "      <td>0</td>\n",
       "      <td>1</td>\n",
       "      <td>0</td>\n",
       "      <td>0</td>\n",
       "      <td>0</td>\n",
       "      <td>0</td>\n",
       "      <td>0</td>\n",
       "    </tr>\n",
       "    <tr>\n",
       "      <th>2</th>\n",
       "      <td>Landing Page Submission</td>\n",
       "      <td>Direct Traffic</td>\n",
       "      <td>No</td>\n",
       "      <td>No</td>\n",
       "      <td>1</td>\n",
       "      <td>2.0</td>\n",
       "      <td>1532</td>\n",
       "      <td>2.0</td>\n",
       "      <td>Email Opened</td>\n",
       "      <td>Business Administration</td>\n",
       "      <td>...</td>\n",
       "      <td>0</td>\n",
       "      <td>0</td>\n",
       "      <td>0</td>\n",
       "      <td>0</td>\n",
       "      <td>0</td>\n",
       "      <td>0</td>\n",
       "      <td>0</td>\n",
       "      <td>0</td>\n",
       "      <td>0</td>\n",
       "      <td>0</td>\n",
       "    </tr>\n",
       "    <tr>\n",
       "      <th>3</th>\n",
       "      <td>Landing Page Submission</td>\n",
       "      <td>Direct Traffic</td>\n",
       "      <td>No</td>\n",
       "      <td>No</td>\n",
       "      <td>0</td>\n",
       "      <td>1.0</td>\n",
       "      <td>305</td>\n",
       "      <td>1.0</td>\n",
       "      <td>Others</td>\n",
       "      <td>Media and Advertising</td>\n",
       "      <td>...</td>\n",
       "      <td>0</td>\n",
       "      <td>0</td>\n",
       "      <td>0</td>\n",
       "      <td>0</td>\n",
       "      <td>0</td>\n",
       "      <td>0</td>\n",
       "      <td>0</td>\n",
       "      <td>1</td>\n",
       "      <td>0</td>\n",
       "      <td>0</td>\n",
       "    </tr>\n",
       "    <tr>\n",
       "      <th>4</th>\n",
       "      <td>Landing Page Submission</td>\n",
       "      <td>Google</td>\n",
       "      <td>No</td>\n",
       "      <td>No</td>\n",
       "      <td>1</td>\n",
       "      <td>2.0</td>\n",
       "      <td>1428</td>\n",
       "      <td>1.0</td>\n",
       "      <td>Converted to Lead</td>\n",
       "      <td>Others</td>\n",
       "      <td>...</td>\n",
       "      <td>0</td>\n",
       "      <td>0</td>\n",
       "      <td>0</td>\n",
       "      <td>0</td>\n",
       "      <td>0</td>\n",
       "      <td>0</td>\n",
       "      <td>0</td>\n",
       "      <td>1</td>\n",
       "      <td>0</td>\n",
       "      <td>0</td>\n",
       "    </tr>\n",
       "  </tbody>\n",
       "</table>\n",
       "<p>5 rows × 69 columns</p>\n",
       "</div>"
      ],
      "text/plain": [
       "               Lead Origin     Lead Source Do Not Email Do Not Call  \\\n",
       "0                      API      Olark Chat           No          No   \n",
       "1                      API  Organic Search           No          No   \n",
       "2  Landing Page Submission  Direct Traffic           No          No   \n",
       "3  Landing Page Submission  Direct Traffic           No          No   \n",
       "4  Landing Page Submission          Google           No          No   \n",
       "\n",
       "   Converted  TotalVisits  Total Time Spent on Website  Page Views Per Visit  \\\n",
       "0          0          0.0                            0                   0.0   \n",
       "1          0          5.0                          674                   2.5   \n",
       "2          1          2.0                         1532                   2.0   \n",
       "3          0          1.0                          305                   1.0   \n",
       "4          1          2.0                         1428                   1.0   \n",
       "\n",
       "             Last Activity           Specialization  ...  \\\n",
       "0  Page Visited on Website                   Others  ...   \n",
       "1             Email Opened                   Others  ...   \n",
       "2             Email Opened  Business Administration  ...   \n",
       "3                   Others    Media and Advertising  ...   \n",
       "4        Converted to Lead                   Others  ...   \n",
       "\n",
       "  Lead Profile_Student of SomeSchool City_Other Cities  \\\n",
       "0                                  0                 0   \n",
       "1                                  0                 0   \n",
       "2                                  0                 0   \n",
       "3                                  0                 0   \n",
       "4                                  0                 0   \n",
       "\n",
       "  City_Other Cities of Maharashtra City_Other Metro Cities City_Select  \\\n",
       "0                                0                       0           1   \n",
       "1                                0                       0           1   \n",
       "2                                0                       0           0   \n",
       "3                                0                       0           0   \n",
       "4                                0                       0           0   \n",
       "\n",
       "  City_Thane & Outskirts  City_Tier II Cities  Last Notable Activity_Modified  \\\n",
       "0                      0                    0                               1   \n",
       "1                      0                    0                               0   \n",
       "2                      0                    0                               0   \n",
       "3                      0                    0                               1   \n",
       "4                      0                    0                               1   \n",
       "\n",
       "   Last Notable Activity_Others  Last Notable Activity_SMS Sent  \n",
       "0                             0                               0  \n",
       "1                             0                               0  \n",
       "2                             0                               0  \n",
       "3                             0                               0  \n",
       "4                             0                               0  \n",
       "\n",
       "[5 rows x 69 columns]"
      ]
     },
     "execution_count": 111,
     "metadata": {},
     "output_type": "execute_result"
    }
   ],
   "source": [
    "leads_data.head()"
   ]
  },
  {
   "cell_type": "code",
   "execution_count": 112,
   "id": "2cb0df95",
   "metadata": {},
   "outputs": [],
   "source": [
    "# Converting some binary variables (Yes/No) to 0/1\n",
    "# List of variables to map\n",
    "\n",
    "varlist =  ['Do Not Email', 'Do Not Call','A free copy of Mastering The Interview']\n",
    "\n",
    "# Defining the map function\n",
    "def binary_map(x):\n",
    "    return x.map({'Yes': 1, \"No\": 0})\n",
    "\n",
    "# Applying the function to the housing list\n",
    "leads_data[varlist] = leads_data[varlist].apply(binary_map)"
   ]
  },
  {
   "cell_type": "code",
   "execution_count": 113,
   "id": "6741cb8e",
   "metadata": {},
   "outputs": [],
   "source": [
    "# We have created dummies for the below variables, so we can drop them\n",
    "leads_data = leads_data.drop(['Lead Origin', 'Lead Source', 'Last Activity', 'Specialization',\n",
    "       'What is your current occupation', 'Tags', 'Lead Profile', 'City', 'Last Notable Activity','Do Not Email', 'Do Not Call','A free copy of Mastering The Interview'], 1)"
   ]
  },
  {
   "cell_type": "markdown",
   "id": "f636af70",
   "metadata": {},
   "source": [
    "# Step 5: Test-Train Split"
   ]
  },
  {
   "cell_type": "code",
   "execution_count": 114,
   "id": "63e62a61",
   "metadata": {},
   "outputs": [],
   "source": [
    "from sklearn.model_selection import train_test_split"
   ]
  },
  {
   "cell_type": "code",
   "execution_count": 115,
   "id": "a8fa4fa9",
   "metadata": {},
   "outputs": [],
   "source": [
    "# Putting feature variable to X\n",
    "X = leads_data.drop(['Converted'], axis=1)\n",
    "\n",
    "# Putting response variable to y\n",
    "y=leads_data['Converted']"
   ]
  },
  {
   "cell_type": "code",
   "execution_count": 116,
   "id": "23f65b92",
   "metadata": {},
   "outputs": [],
   "source": [
    "# Splitting the data into train and test\n",
    "X_train, X_test, y_train, y_test = train_test_split(X, y, train_size=0.7, test_size=0.3, random_state=100)"
   ]
  },
  {
   "cell_type": "markdown",
   "id": "3e87ed87",
   "metadata": {},
   "source": [
    "# Step 6: Feature Scaling"
   ]
  },
  {
   "cell_type": "code",
   "execution_count": 117,
   "id": "549fd639",
   "metadata": {},
   "outputs": [],
   "source": [
    "from sklearn.preprocessing import StandardScaler"
   ]
  },
  {
   "cell_type": "code",
   "execution_count": 118,
   "id": "ca7e9983",
   "metadata": {},
   "outputs": [],
   "source": [
    "scaler = StandardScaler()"
   ]
  },
  {
   "cell_type": "code",
   "execution_count": 119,
   "id": "636985e7",
   "metadata": {},
   "outputs": [
    {
     "data": {
      "text/html": [
       "<div>\n",
       "<style scoped>\n",
       "    .dataframe tbody tr th:only-of-type {\n",
       "        vertical-align: middle;\n",
       "    }\n",
       "\n",
       "    .dataframe tbody tr th {\n",
       "        vertical-align: top;\n",
       "    }\n",
       "\n",
       "    .dataframe thead th {\n",
       "        text-align: right;\n",
       "    }\n",
       "</style>\n",
       "<table border=\"1\" class=\"dataframe\">\n",
       "  <thead>\n",
       "    <tr style=\"text-align: right;\">\n",
       "      <th></th>\n",
       "      <th>TotalVisits</th>\n",
       "      <th>Total Time Spent on Website</th>\n",
       "      <th>Page Views Per Visit</th>\n",
       "      <th>Lead Origin_Landing Page Submission</th>\n",
       "      <th>Lead Origin_Others</th>\n",
       "      <th>Lead Source_Google</th>\n",
       "      <th>Lead Source_Live Chat</th>\n",
       "      <th>Lead Source_Olark Chat</th>\n",
       "      <th>Lead Source_Organic Search</th>\n",
       "      <th>Lead Source_Others</th>\n",
       "      <th>...</th>\n",
       "      <th>Lead Profile_Student of SomeSchool</th>\n",
       "      <th>City_Other Cities</th>\n",
       "      <th>City_Other Cities of Maharashtra</th>\n",
       "      <th>City_Other Metro Cities</th>\n",
       "      <th>City_Select</th>\n",
       "      <th>City_Thane &amp; Outskirts</th>\n",
       "      <th>City_Tier II Cities</th>\n",
       "      <th>Last Notable Activity_Modified</th>\n",
       "      <th>Last Notable Activity_Others</th>\n",
       "      <th>Last Notable Activity_SMS Sent</th>\n",
       "    </tr>\n",
       "  </thead>\n",
       "  <tbody>\n",
       "    <tr>\n",
       "      <th>7962</th>\n",
       "      <td>0.178561</td>\n",
       "      <td>1.476324</td>\n",
       "      <td>-0.415162</td>\n",
       "      <td>1</td>\n",
       "      <td>0</td>\n",
       "      <td>1</td>\n",
       "      <td>0</td>\n",
       "      <td>0</td>\n",
       "      <td>0</td>\n",
       "      <td>0</td>\n",
       "      <td>...</td>\n",
       "      <td>0</td>\n",
       "      <td>0</td>\n",
       "      <td>0</td>\n",
       "      <td>0</td>\n",
       "      <td>0</td>\n",
       "      <td>0</td>\n",
       "      <td>0</td>\n",
       "      <td>0</td>\n",
       "      <td>0</td>\n",
       "      <td>1</td>\n",
       "    </tr>\n",
       "    <tr>\n",
       "      <th>5520</th>\n",
       "      <td>1.233536</td>\n",
       "      <td>-0.771066</td>\n",
       "      <td>1.684575</td>\n",
       "      <td>1</td>\n",
       "      <td>0</td>\n",
       "      <td>0</td>\n",
       "      <td>0</td>\n",
       "      <td>0</td>\n",
       "      <td>0</td>\n",
       "      <td>0</td>\n",
       "      <td>...</td>\n",
       "      <td>0</td>\n",
       "      <td>0</td>\n",
       "      <td>0</td>\n",
       "      <td>0</td>\n",
       "      <td>1</td>\n",
       "      <td>0</td>\n",
       "      <td>0</td>\n",
       "      <td>0</td>\n",
       "      <td>0</td>\n",
       "      <td>0</td>\n",
       "    </tr>\n",
       "    <tr>\n",
       "      <th>1962</th>\n",
       "      <td>1.233536</td>\n",
       "      <td>-0.571257</td>\n",
       "      <td>0.184763</td>\n",
       "      <td>1</td>\n",
       "      <td>0</td>\n",
       "      <td>1</td>\n",
       "      <td>0</td>\n",
       "      <td>0</td>\n",
       "      <td>0</td>\n",
       "      <td>0</td>\n",
       "      <td>...</td>\n",
       "      <td>0</td>\n",
       "      <td>0</td>\n",
       "      <td>0</td>\n",
       "      <td>0</td>\n",
       "      <td>0</td>\n",
       "      <td>0</td>\n",
       "      <td>0</td>\n",
       "      <td>1</td>\n",
       "      <td>0</td>\n",
       "      <td>0</td>\n",
       "    </tr>\n",
       "    <tr>\n",
       "      <th>1566</th>\n",
       "      <td>1.233536</td>\n",
       "      <td>1.393834</td>\n",
       "      <td>0.784688</td>\n",
       "      <td>1</td>\n",
       "      <td>0</td>\n",
       "      <td>1</td>\n",
       "      <td>0</td>\n",
       "      <td>0</td>\n",
       "      <td>0</td>\n",
       "      <td>0</td>\n",
       "      <td>...</td>\n",
       "      <td>0</td>\n",
       "      <td>0</td>\n",
       "      <td>0</td>\n",
       "      <td>0</td>\n",
       "      <td>0</td>\n",
       "      <td>0</td>\n",
       "      <td>0</td>\n",
       "      <td>0</td>\n",
       "      <td>0</td>\n",
       "      <td>0</td>\n",
       "    </tr>\n",
       "    <tr>\n",
       "      <th>9170</th>\n",
       "      <td>-1.403902</td>\n",
       "      <td>-0.881052</td>\n",
       "      <td>-1.315049</td>\n",
       "      <td>0</td>\n",
       "      <td>0</td>\n",
       "      <td>0</td>\n",
       "      <td>0</td>\n",
       "      <td>1</td>\n",
       "      <td>0</td>\n",
       "      <td>0</td>\n",
       "      <td>...</td>\n",
       "      <td>0</td>\n",
       "      <td>0</td>\n",
       "      <td>0</td>\n",
       "      <td>0</td>\n",
       "      <td>1</td>\n",
       "      <td>0</td>\n",
       "      <td>0</td>\n",
       "      <td>0</td>\n",
       "      <td>0</td>\n",
       "      <td>0</td>\n",
       "    </tr>\n",
       "  </tbody>\n",
       "</table>\n",
       "<p>5 rows × 56 columns</p>\n",
       "</div>"
      ],
      "text/plain": [
       "      TotalVisits  Total Time Spent on Website  Page Views Per Visit  \\\n",
       "7962     0.178561                     1.476324             -0.415162   \n",
       "5520     1.233536                    -0.771066              1.684575   \n",
       "1962     1.233536                    -0.571257              0.184763   \n",
       "1566     1.233536                     1.393834              0.784688   \n",
       "9170    -1.403902                    -0.881052             -1.315049   \n",
       "\n",
       "      Lead Origin_Landing Page Submission  Lead Origin_Others  \\\n",
       "7962                                    1                   0   \n",
       "5520                                    1                   0   \n",
       "1962                                    1                   0   \n",
       "1566                                    1                   0   \n",
       "9170                                    0                   0   \n",
       "\n",
       "      Lead Source_Google  Lead Source_Live Chat  Lead Source_Olark Chat  \\\n",
       "7962                   1                      0                       0   \n",
       "5520                   0                      0                       0   \n",
       "1962                   1                      0                       0   \n",
       "1566                   1                      0                       0   \n",
       "9170                   0                      0                       1   \n",
       "\n",
       "      Lead Source_Organic Search  Lead Source_Others  ...  \\\n",
       "7962                           0                   0  ...   \n",
       "5520                           0                   0  ...   \n",
       "1962                           0                   0  ...   \n",
       "1566                           0                   0  ...   \n",
       "9170                           0                   0  ...   \n",
       "\n",
       "      Lead Profile_Student of SomeSchool  City_Other Cities  \\\n",
       "7962                                   0                  0   \n",
       "5520                                   0                  0   \n",
       "1962                                   0                  0   \n",
       "1566                                   0                  0   \n",
       "9170                                   0                  0   \n",
       "\n",
       "      City_Other Cities of Maharashtra  City_Other Metro Cities  City_Select  \\\n",
       "7962                                 0                        0            0   \n",
       "5520                                 0                        0            1   \n",
       "1962                                 0                        0            0   \n",
       "1566                                 0                        0            0   \n",
       "9170                                 0                        0            1   \n",
       "\n",
       "      City_Thane & Outskirts  City_Tier II Cities  \\\n",
       "7962                       0                    0   \n",
       "5520                       0                    0   \n",
       "1962                       0                    0   \n",
       "1566                       0                    0   \n",
       "9170                       0                    0   \n",
       "\n",
       "      Last Notable Activity_Modified  Last Notable Activity_Others  \\\n",
       "7962                               0                             0   \n",
       "5520                               0                             0   \n",
       "1962                               1                             0   \n",
       "1566                               0                             0   \n",
       "9170                               0                             0   \n",
       "\n",
       "      Last Notable Activity_SMS Sent  \n",
       "7962                               1  \n",
       "5520                               0  \n",
       "1962                               0  \n",
       "1566                               0  \n",
       "9170                               0  \n",
       "\n",
       "[5 rows x 56 columns]"
      ]
     },
     "execution_count": 119,
     "metadata": {},
     "output_type": "execute_result"
    }
   ],
   "source": [
    "X_train[['TotalVisits', 'Total Time Spent on Website',\n",
    "       'Page Views Per Visit']] = scaler.fit_transform(X_train[['TotalVisits', 'Total Time Spent on Website',\n",
    "       'Page Views Per Visit']])\n",
    "\n",
    "X_train.head()"
   ]
  },
  {
   "cell_type": "code",
   "execution_count": 120,
   "id": "96b08453",
   "metadata": {},
   "outputs": [
    {
     "data": {
      "text/plain": [
       "38.02043282434362"
      ]
     },
     "execution_count": 120,
     "metadata": {},
     "output_type": "execute_result"
    }
   ],
   "source": [
    "### Checking the Conversion Rate\n",
    "Conversion = (sum(leads_data['Converted'])/len(leads_data['Converted'].index))*100\n",
    "Conversion"
   ]
  },
  {
   "cell_type": "code",
   "execution_count": 121,
   "id": "3c094a50",
   "metadata": {},
   "outputs": [],
   "source": [
    "# 38% conversion rate"
   ]
  },
  {
   "cell_type": "code",
   "execution_count": 122,
   "id": "7b6cced6",
   "metadata": {},
   "outputs": [
    {
     "name": "stdout",
     "output_type": "stream",
     "text": [
      "<class 'pandas.core.frame.DataFrame'>\n",
      "Int64Index: 9103 entries, 0 to 9239\n",
      "Data columns (total 57 columns):\n",
      " #   Column                                                Non-Null Count  Dtype  \n",
      "---  ------                                                --------------  -----  \n",
      " 0   Converted                                             9103 non-null   int64  \n",
      " 1   TotalVisits                                           9103 non-null   float64\n",
      " 2   Total Time Spent on Website                           9103 non-null   int64  \n",
      " 3   Page Views Per Visit                                  9103 non-null   float64\n",
      " 4   Lead Origin_Landing Page Submission                   9103 non-null   uint8  \n",
      " 5   Lead Origin_Others                                    9103 non-null   uint8  \n",
      " 6   Lead Source_Google                                    9103 non-null   uint8  \n",
      " 7   Lead Source_Live Chat                                 9103 non-null   uint8  \n",
      " 8   Lead Source_Olark Chat                                9103 non-null   uint8  \n",
      " 9   Lead Source_Organic Search                            9103 non-null   uint8  \n",
      " 10  Lead Source_Others                                    9103 non-null   uint8  \n",
      " 11  Lead Source_Reference                                 9103 non-null   uint8  \n",
      " 12  Lead Source_Referral Sites                            9103 non-null   uint8  \n",
      " 13  Lead Source_Social Media                              9103 non-null   uint8  \n",
      " 14  Lead Source_Welingak Website                          9103 non-null   uint8  \n",
      " 15  Last Activity_Email Opened                            9103 non-null   uint8  \n",
      " 16  Last Activity_Olark Chat Conversation                 9103 non-null   uint8  \n",
      " 17  Last Activity_Others                                  9103 non-null   uint8  \n",
      " 18  Last Activity_Page Visited on Website                 9103 non-null   uint8  \n",
      " 19  Last Activity_SMS Sent                                9103 non-null   uint8  \n",
      " 20  Specialization_Business Administration                9103 non-null   uint8  \n",
      " 21  Specialization_E-Business                             9103 non-null   uint8  \n",
      " 22  Specialization_E-COMMERCE                             9103 non-null   uint8  \n",
      " 23  Specialization_International Business                 9103 non-null   uint8  \n",
      " 24  Specialization_Management                             9103 non-null   uint8  \n",
      " 25  Specialization_Media and Advertising                  9103 non-null   uint8  \n",
      " 26  Specialization_Others                                 9103 non-null   uint8  \n",
      " 27  Specialization_Rural and Agribusiness                 9103 non-null   uint8  \n",
      " 28  Specialization_Services Excellence                    9103 non-null   uint8  \n",
      " 29  Specialization_Travel and Tourism                     9103 non-null   uint8  \n",
      " 30  What is your current occupation_Housewife             9103 non-null   uint8  \n",
      " 31  What is your current occupation_Other                 9103 non-null   uint8  \n",
      " 32  What is your current occupation_Student               9103 non-null   uint8  \n",
      " 33  What is your current occupation_Unemployed            9103 non-null   uint8  \n",
      " 34  What is your current occupation_Working Professional  9103 non-null   uint8  \n",
      " 35  Tags_Closed by Horizzon                               9103 non-null   uint8  \n",
      " 36  Tags_Interested in other courses                      9103 non-null   uint8  \n",
      " 37  Tags_Not Specified                                    9103 non-null   uint8  \n",
      " 38  Tags_Others                                           9103 non-null   uint8  \n",
      " 39  Tags_Ringing                                          9103 non-null   uint8  \n",
      " 40  Tags_Will revert after reading the email              9103 non-null   uint8  \n",
      " 41  Tags_switched off                                     9103 non-null   uint8  \n",
      " 42  Lead Profile_Lateral Student                          9103 non-null   uint8  \n",
      " 43  Lead Profile_Other                                    9103 non-null   uint8  \n",
      " 44  Lead Profile_Other Leads                              9103 non-null   uint8  \n",
      " 45  Lead Profile_Potential Lead                           9103 non-null   uint8  \n",
      " 46  Lead Profile_Select                                   9103 non-null   uint8  \n",
      " 47  Lead Profile_Student of SomeSchool                    9103 non-null   uint8  \n",
      " 48  City_Other Cities                                     9103 non-null   uint8  \n",
      " 49  City_Other Cities of Maharashtra                      9103 non-null   uint8  \n",
      " 50  City_Other Metro Cities                               9103 non-null   uint8  \n",
      " 51  City_Select                                           9103 non-null   uint8  \n",
      " 52  City_Thane & Outskirts                                9103 non-null   uint8  \n",
      " 53  City_Tier II Cities                                   9103 non-null   uint8  \n",
      " 54  Last Notable Activity_Modified                        9103 non-null   uint8  \n",
      " 55  Last Notable Activity_Others                          9103 non-null   uint8  \n",
      " 56  Last Notable Activity_SMS Sent                        9103 non-null   uint8  \n",
      "dtypes: float64(2), int64(2), uint8(53)\n",
      "memory usage: 1.1 MB\n"
     ]
    }
   ],
   "source": [
    "# Let's see the type of each column\n",
    "leads_data.info()"
   ]
  },
  {
   "cell_type": "markdown",
   "id": "cbd6f218",
   "metadata": {},
   "source": [
    "# Step 7: Model Building"
   ]
  },
  {
   "cell_type": "code",
   "execution_count": 123,
   "id": "7a30bd62",
   "metadata": {},
   "outputs": [],
   "source": [
    "import statsmodels.api as sm"
   ]
  },
  {
   "cell_type": "code",
   "execution_count": 124,
   "id": "5baab8a4",
   "metadata": {},
   "outputs": [],
   "source": [
    "from sklearn.linear_model import LogisticRegression\n",
    "logreg = LogisticRegression()"
   ]
  },
  {
   "cell_type": "code",
   "execution_count": 125,
   "id": "30904566",
   "metadata": {},
   "outputs": [],
   "source": [
    "# Doing RFE to come down to 15 feautres\n",
    "from sklearn.feature_selection import RFE\n",
    "rfe = RFE(logreg, 15)             # running RFE with 15 variables as output\n",
    "rfe = rfe.fit(X_train, y_train)"
   ]
  },
  {
   "cell_type": "code",
   "execution_count": 126,
   "id": "90284a9d",
   "metadata": {},
   "outputs": [],
   "source": [
    "col = X_train.columns[rfe.support_]"
   ]
  },
  {
   "cell_type": "code",
   "execution_count": 127,
   "id": "40e53f22",
   "metadata": {},
   "outputs": [
    {
     "data": {
      "text/html": [
       "<table class=\"simpletable\">\n",
       "<caption>Generalized Linear Model Regression Results</caption>\n",
       "<tr>\n",
       "  <th>Dep. Variable:</th>       <td>Converted</td>    <th>  No. Observations:  </th>  <td>  6372</td> \n",
       "</tr>\n",
       "<tr>\n",
       "  <th>Model:</th>                  <td>GLM</td>       <th>  Df Residuals:      </th>  <td>  6356</td> \n",
       "</tr>\n",
       "<tr>\n",
       "  <th>Model Family:</th>        <td>Binomial</td>     <th>  Df Model:          </th>  <td>    15</td> \n",
       "</tr>\n",
       "<tr>\n",
       "  <th>Link Function:</th>         <td>logit</td>      <th>  Scale:             </th> <td>  1.0000</td>\n",
       "</tr>\n",
       "<tr>\n",
       "  <th>Method:</th>                <td>IRLS</td>       <th>  Log-Likelihood:    </th> <td> -1391.5</td>\n",
       "</tr>\n",
       "<tr>\n",
       "  <th>Date:</th>            <td>Mon, 17 Oct 2022</td> <th>  Deviance:          </th> <td>  2783.0</td>\n",
       "</tr>\n",
       "<tr>\n",
       "  <th>Time:</th>                <td>20:42:20</td>     <th>  Pearson chi2:      </th> <td>7.69e+03</td>\n",
       "</tr>\n",
       "<tr>\n",
       "  <th>No. Iterations:</th>         <td>21</td>        <th>                     </th>     <td> </td>   \n",
       "</tr>\n",
       "<tr>\n",
       "  <th>Covariance Type:</th>     <td>nonrobust</td>    <th>                     </th>     <td> </td>   \n",
       "</tr>\n",
       "</table>\n",
       "<table class=\"simpletable\">\n",
       "<tr>\n",
       "                      <td></td>                        <th>coef</th>     <th>std err</th>      <th>z</th>      <th>P>|z|</th>  <th>[0.025</th>    <th>0.975]</th>  \n",
       "</tr>\n",
       "<tr>\n",
       "  <th>const</th>                                    <td>   -5.3097</td> <td>    0.338</td> <td>  -15.715</td> <td> 0.000</td> <td>   -5.972</td> <td>   -4.648</td>\n",
       "</tr>\n",
       "<tr>\n",
       "  <th>Total Time Spent on Website</th>              <td>    1.0826</td> <td>    0.057</td> <td>   18.946</td> <td> 0.000</td> <td>    0.971</td> <td>    1.195</td>\n",
       "</tr>\n",
       "<tr>\n",
       "  <th>Lead Origin_Others</th>                       <td>    1.7142</td> <td>    0.325</td> <td>    5.275</td> <td> 0.000</td> <td>    1.077</td> <td>    2.351</td>\n",
       "</tr>\n",
       "<tr>\n",
       "  <th>Lead Source_Olark Chat</th>                   <td>    1.1208</td> <td>    0.143</td> <td>    7.824</td> <td> 0.000</td> <td>    0.840</td> <td>    1.402</td>\n",
       "</tr>\n",
       "<tr>\n",
       "  <th>Lead Source_Welingak Website</th>             <td>    2.7320</td> <td>    0.795</td> <td>    3.438</td> <td> 0.001</td> <td>    1.174</td> <td>    4.290</td>\n",
       "</tr>\n",
       "<tr>\n",
       "  <th>Last Activity_Email Opened</th>               <td>    1.0909</td> <td>    0.128</td> <td>    8.552</td> <td> 0.000</td> <td>    0.841</td> <td>    1.341</td>\n",
       "</tr>\n",
       "<tr>\n",
       "  <th>Last Activity_SMS Sent</th>                   <td>    1.4544</td> <td>    0.201</td> <td>    7.231</td> <td> 0.000</td> <td>    1.060</td> <td>    1.849</td>\n",
       "</tr>\n",
       "<tr>\n",
       "  <th>Tags_Closed by Horizzon</th>                  <td>    8.6729</td> <td>    0.790</td> <td>   10.980</td> <td> 0.000</td> <td>    7.125</td> <td>   10.221</td>\n",
       "</tr>\n",
       "<tr>\n",
       "  <th>Tags_Not Specified</th>                       <td>    3.8833</td> <td>    0.340</td> <td>   11.409</td> <td> 0.000</td> <td>    3.216</td> <td>    4.550</td>\n",
       "</tr>\n",
       "<tr>\n",
       "  <th>Tags_Others</th>                              <td>    2.9880</td> <td>    0.335</td> <td>    8.931</td> <td> 0.000</td> <td>    2.332</td> <td>    3.644</td>\n",
       "</tr>\n",
       "<tr>\n",
       "  <th>Tags_Ringing</th>                             <td>   -0.7028</td> <td>    0.399</td> <td>   -1.761</td> <td> 0.078</td> <td>   -1.485</td> <td>    0.080</td>\n",
       "</tr>\n",
       "<tr>\n",
       "  <th>Tags_Will revert after reading the email</th> <td>    7.0187</td> <td>    0.364</td> <td>   19.258</td> <td> 0.000</td> <td>    6.304</td> <td>    7.733</td>\n",
       "</tr>\n",
       "<tr>\n",
       "  <th>Tags_switched off</th>                        <td>   -0.9064</td> <td>    0.684</td> <td>   -1.325</td> <td> 0.185</td> <td>   -2.247</td> <td>    0.434</td>\n",
       "</tr>\n",
       "<tr>\n",
       "  <th>Lead Profile_Lateral Student</th>             <td>   24.3009</td> <td> 1.16e+04</td> <td>    0.002</td> <td> 0.998</td> <td>-2.27e+04</td> <td> 2.28e+04</td>\n",
       "</tr>\n",
       "<tr>\n",
       "  <th>Lead Profile_Other</th>                       <td>   -1.8634</td> <td>    0.140</td> <td>  -13.349</td> <td> 0.000</td> <td>   -2.137</td> <td>   -1.590</td>\n",
       "</tr>\n",
       "<tr>\n",
       "  <th>Last Notable Activity_SMS Sent</th>           <td>    1.3486</td> <td>    0.199</td> <td>    6.760</td> <td> 0.000</td> <td>    0.958</td> <td>    1.740</td>\n",
       "</tr>\n",
       "</table>"
      ],
      "text/plain": [
       "<class 'statsmodels.iolib.summary.Summary'>\n",
       "\"\"\"\n",
       "                 Generalized Linear Model Regression Results                  \n",
       "==============================================================================\n",
       "Dep. Variable:              Converted   No. Observations:                 6372\n",
       "Model:                            GLM   Df Residuals:                     6356\n",
       "Model Family:                Binomial   Df Model:                           15\n",
       "Link Function:                  logit   Scale:                          1.0000\n",
       "Method:                          IRLS   Log-Likelihood:                -1391.5\n",
       "Date:                Mon, 17 Oct 2022   Deviance:                       2783.0\n",
       "Time:                        20:42:20   Pearson chi2:                 7.69e+03\n",
       "No. Iterations:                    21                                         \n",
       "Covariance Type:            nonrobust                                         \n",
       "============================================================================================================\n",
       "                                               coef    std err          z      P>|z|      [0.025      0.975]\n",
       "------------------------------------------------------------------------------------------------------------\n",
       "const                                       -5.3097      0.338    -15.715      0.000      -5.972      -4.648\n",
       "Total Time Spent on Website                  1.0826      0.057     18.946      0.000       0.971       1.195\n",
       "Lead Origin_Others                           1.7142      0.325      5.275      0.000       1.077       2.351\n",
       "Lead Source_Olark Chat                       1.1208      0.143      7.824      0.000       0.840       1.402\n",
       "Lead Source_Welingak Website                 2.7320      0.795      3.438      0.001       1.174       4.290\n",
       "Last Activity_Email Opened                   1.0909      0.128      8.552      0.000       0.841       1.341\n",
       "Last Activity_SMS Sent                       1.4544      0.201      7.231      0.000       1.060       1.849\n",
       "Tags_Closed by Horizzon                      8.6729      0.790     10.980      0.000       7.125      10.221\n",
       "Tags_Not Specified                           3.8833      0.340     11.409      0.000       3.216       4.550\n",
       "Tags_Others                                  2.9880      0.335      8.931      0.000       2.332       3.644\n",
       "Tags_Ringing                                -0.7028      0.399     -1.761      0.078      -1.485       0.080\n",
       "Tags_Will revert after reading the email     7.0187      0.364     19.258      0.000       6.304       7.733\n",
       "Tags_switched off                           -0.9064      0.684     -1.325      0.185      -2.247       0.434\n",
       "Lead Profile_Lateral Student                24.3009   1.16e+04      0.002      0.998   -2.27e+04    2.28e+04\n",
       "Lead Profile_Other                          -1.8634      0.140    -13.349      0.000      -2.137      -1.590\n",
       "Last Notable Activity_SMS Sent               1.3486      0.199      6.760      0.000       0.958       1.740\n",
       "============================================================================================================\n",
       "\"\"\""
      ]
     },
     "execution_count": 127,
     "metadata": {},
     "output_type": "execute_result"
    }
   ],
   "source": [
    "# Assessing the model with StatsModels\n",
    "X_train_sm = sm.add_constant(X_train[col])\n",
    "logm1 = sm.GLM(y_train,X_train_sm, family = sm.families.Binomial())\n",
    "res = logm1.fit()\n",
    "res.summary()"
   ]
  },
  {
   "cell_type": "code",
   "execution_count": 128,
   "id": "311d7b18",
   "metadata": {},
   "outputs": [
    {
     "data": {
      "text/plain": [
       "7962    0.888894\n",
       "5520    0.112483\n",
       "1962    0.004586\n",
       "1566    0.986729\n",
       "9170    0.017093\n",
       "5097    0.115889\n",
       "8954    0.032442\n",
       "309     0.914351\n",
       "5519    0.420720\n",
       "1050    0.982140\n",
       "dtype: float64"
      ]
     },
     "execution_count": 128,
     "metadata": {},
     "output_type": "execute_result"
    }
   ],
   "source": [
    "# Getting the predicted values on the train set\n",
    "y_train_pred = res.predict(X_train_sm)\n",
    "y_train_pred[:10]"
   ]
  },
  {
   "cell_type": "code",
   "execution_count": 129,
   "id": "865ea4b7",
   "metadata": {},
   "outputs": [
    {
     "data": {
      "text/plain": [
       "array([0.88889352, 0.11248265, 0.00458579, 0.9867287 , 0.01709252,\n",
       "       0.11588854, 0.03244171, 0.91435138, 0.42071972, 0.98213963])"
      ]
     },
     "execution_count": 129,
     "metadata": {},
     "output_type": "execute_result"
    }
   ],
   "source": [
    "y_train_pred = y_train_pred.values.reshape(-1)\n",
    "y_train_pred[:10]"
   ]
  },
  {
   "cell_type": "code",
   "execution_count": 130,
   "id": "6cf5cab5",
   "metadata": {},
   "outputs": [],
   "source": [
    "# Creating a dataframe with the actual conversion value and the predicted probabilities"
   ]
  },
  {
   "cell_type": "code",
   "execution_count": 131,
   "id": "23f9d3ea",
   "metadata": {},
   "outputs": [
    {
     "data": {
      "text/html": [
       "<div>\n",
       "<style scoped>\n",
       "    .dataframe tbody tr th:only-of-type {\n",
       "        vertical-align: middle;\n",
       "    }\n",
       "\n",
       "    .dataframe tbody tr th {\n",
       "        vertical-align: top;\n",
       "    }\n",
       "\n",
       "    .dataframe thead th {\n",
       "        text-align: right;\n",
       "    }\n",
       "</style>\n",
       "<table border=\"1\" class=\"dataframe\">\n",
       "  <thead>\n",
       "    <tr style=\"text-align: right;\">\n",
       "      <th></th>\n",
       "      <th>Converted</th>\n",
       "      <th>Converted_Prob</th>\n",
       "      <th>CustID</th>\n",
       "    </tr>\n",
       "  </thead>\n",
       "  <tbody>\n",
       "    <tr>\n",
       "      <th>0</th>\n",
       "      <td>0</td>\n",
       "      <td>0.888894</td>\n",
       "      <td>7962</td>\n",
       "    </tr>\n",
       "    <tr>\n",
       "      <th>1</th>\n",
       "      <td>0</td>\n",
       "      <td>0.112483</td>\n",
       "      <td>5520</td>\n",
       "    </tr>\n",
       "    <tr>\n",
       "      <th>2</th>\n",
       "      <td>0</td>\n",
       "      <td>0.004586</td>\n",
       "      <td>1962</td>\n",
       "    </tr>\n",
       "    <tr>\n",
       "      <th>3</th>\n",
       "      <td>1</td>\n",
       "      <td>0.986729</td>\n",
       "      <td>1566</td>\n",
       "    </tr>\n",
       "    <tr>\n",
       "      <th>4</th>\n",
       "      <td>0</td>\n",
       "      <td>0.017093</td>\n",
       "      <td>9170</td>\n",
       "    </tr>\n",
       "  </tbody>\n",
       "</table>\n",
       "</div>"
      ],
      "text/plain": [
       "   Converted  Converted_Prob  CustID\n",
       "0          0        0.888894    7962\n",
       "1          0        0.112483    5520\n",
       "2          0        0.004586    1962\n",
       "3          1        0.986729    1566\n",
       "4          0        0.017093    9170"
      ]
     },
     "execution_count": 131,
     "metadata": {},
     "output_type": "execute_result"
    }
   ],
   "source": [
    "y_train_pred_final = pd.DataFrame({'Converted':y_train.values, 'Converted_Prob':y_train_pred})\n",
    "y_train_pred_final['CustID'] = y_train.index\n",
    "y_train_pred_final.head()"
   ]
  },
  {
   "cell_type": "code",
   "execution_count": 132,
   "id": "186c9c39",
   "metadata": {},
   "outputs": [],
   "source": [
    "# Creating new column 'predicted' with 1 if Churn_Prob > 0.5 else 0"
   ]
  },
  {
   "cell_type": "code",
   "execution_count": 133,
   "id": "0d932e74",
   "metadata": {},
   "outputs": [
    {
     "data": {
      "text/html": [
       "<div>\n",
       "<style scoped>\n",
       "    .dataframe tbody tr th:only-of-type {\n",
       "        vertical-align: middle;\n",
       "    }\n",
       "\n",
       "    .dataframe tbody tr th {\n",
       "        vertical-align: top;\n",
       "    }\n",
       "\n",
       "    .dataframe thead th {\n",
       "        text-align: right;\n",
       "    }\n",
       "</style>\n",
       "<table border=\"1\" class=\"dataframe\">\n",
       "  <thead>\n",
       "    <tr style=\"text-align: right;\">\n",
       "      <th></th>\n",
       "      <th>Converted</th>\n",
       "      <th>Converted_Prob</th>\n",
       "      <th>CustID</th>\n",
       "      <th>predicted</th>\n",
       "    </tr>\n",
       "  </thead>\n",
       "  <tbody>\n",
       "    <tr>\n",
       "      <th>0</th>\n",
       "      <td>0</td>\n",
       "      <td>0.888894</td>\n",
       "      <td>7962</td>\n",
       "      <td>1</td>\n",
       "    </tr>\n",
       "    <tr>\n",
       "      <th>1</th>\n",
       "      <td>0</td>\n",
       "      <td>0.112483</td>\n",
       "      <td>5520</td>\n",
       "      <td>0</td>\n",
       "    </tr>\n",
       "    <tr>\n",
       "      <th>2</th>\n",
       "      <td>0</td>\n",
       "      <td>0.004586</td>\n",
       "      <td>1962</td>\n",
       "      <td>0</td>\n",
       "    </tr>\n",
       "    <tr>\n",
       "      <th>3</th>\n",
       "      <td>1</td>\n",
       "      <td>0.986729</td>\n",
       "      <td>1566</td>\n",
       "      <td>1</td>\n",
       "    </tr>\n",
       "    <tr>\n",
       "      <th>4</th>\n",
       "      <td>0</td>\n",
       "      <td>0.017093</td>\n",
       "      <td>9170</td>\n",
       "      <td>0</td>\n",
       "    </tr>\n",
       "  </tbody>\n",
       "</table>\n",
       "</div>"
      ],
      "text/plain": [
       "   Converted  Converted_Prob  CustID  predicted\n",
       "0          0        0.888894    7962          1\n",
       "1          0        0.112483    5520          0\n",
       "2          0        0.004586    1962          0\n",
       "3          1        0.986729    1566          1\n",
       "4          0        0.017093    9170          0"
      ]
     },
     "execution_count": 133,
     "metadata": {},
     "output_type": "execute_result"
    }
   ],
   "source": [
    "y_train_pred_final['predicted'] = y_train_pred_final.Converted_Prob.map(lambda x: 1 if x > 0.5 else 0)\n",
    "\n",
    "# Let's see the head\n",
    "y_train_pred_final.head()"
   ]
  },
  {
   "cell_type": "code",
   "execution_count": 136,
   "id": "a062a381",
   "metadata": {},
   "outputs": [
    {
     "name": "stdout",
     "output_type": "stream",
     "text": [
      "0.9110169491525424\n"
     ]
    }
   ],
   "source": [
    "# Let's check the overall accuracy.\n",
    "print(metrics.accuracy_score(y_train_pred_final.Converted, y_train_pred_final.predicted))"
   ]
  },
  {
   "cell_type": "code",
   "execution_count": 137,
   "id": "a3a191c3",
   "metadata": {},
   "outputs": [],
   "source": [
    "# Checking VIFs"
   ]
  },
  {
   "cell_type": "code",
   "execution_count": 138,
   "id": "46ce440a",
   "metadata": {},
   "outputs": [],
   "source": [
    "from statsmodels.stats.outliers_influence import variance_inflation_factor"
   ]
  },
  {
   "cell_type": "code",
   "execution_count": 139,
   "id": "a5909ecc",
   "metadata": {},
   "outputs": [
    {
     "data": {
      "text/html": [
       "<div>\n",
       "<style scoped>\n",
       "    .dataframe tbody tr th:only-of-type {\n",
       "        vertical-align: middle;\n",
       "    }\n",
       "\n",
       "    .dataframe tbody tr th {\n",
       "        vertical-align: top;\n",
       "    }\n",
       "\n",
       "    .dataframe thead th {\n",
       "        text-align: right;\n",
       "    }\n",
       "</style>\n",
       "<table border=\"1\" class=\"dataframe\">\n",
       "  <thead>\n",
       "    <tr style=\"text-align: right;\">\n",
       "      <th></th>\n",
       "      <th>Features</th>\n",
       "      <th>VIF</th>\n",
       "    </tr>\n",
       "  </thead>\n",
       "  <tbody>\n",
       "    <tr>\n",
       "      <th>5</th>\n",
       "      <td>Last Activity_SMS Sent</td>\n",
       "      <td>5.97</td>\n",
       "    </tr>\n",
       "    <tr>\n",
       "      <th>7</th>\n",
       "      <td>Tags_Not Specified</td>\n",
       "      <td>5.89</td>\n",
       "    </tr>\n",
       "    <tr>\n",
       "      <th>14</th>\n",
       "      <td>Last Notable Activity_SMS Sent</td>\n",
       "      <td>5.32</td>\n",
       "    </tr>\n",
       "    <tr>\n",
       "      <th>13</th>\n",
       "      <td>Lead Profile_Other</td>\n",
       "      <td>4.58</td>\n",
       "    </tr>\n",
       "    <tr>\n",
       "      <th>10</th>\n",
       "      <td>Tags_Will revert after reading the email</td>\n",
       "      <td>2.16</td>\n",
       "    </tr>\n",
       "    <tr>\n",
       "      <th>4</th>\n",
       "      <td>Last Activity_Email Opened</td>\n",
       "      <td>2.03</td>\n",
       "    </tr>\n",
       "    <tr>\n",
       "      <th>1</th>\n",
       "      <td>Lead Origin_Others</td>\n",
       "      <td>1.80</td>\n",
       "    </tr>\n",
       "    <tr>\n",
       "      <th>2</th>\n",
       "      <td>Lead Source_Olark Chat</td>\n",
       "      <td>1.56</td>\n",
       "    </tr>\n",
       "    <tr>\n",
       "      <th>0</th>\n",
       "      <td>Total Time Spent on Website</td>\n",
       "      <td>1.44</td>\n",
       "    </tr>\n",
       "    <tr>\n",
       "      <th>3</th>\n",
       "      <td>Lead Source_Welingak Website</td>\n",
       "      <td>1.41</td>\n",
       "    </tr>\n",
       "    <tr>\n",
       "      <th>9</th>\n",
       "      <td>Tags_Ringing</td>\n",
       "      <td>1.40</td>\n",
       "    </tr>\n",
       "    <tr>\n",
       "      <th>6</th>\n",
       "      <td>Tags_Closed by Horizzon</td>\n",
       "      <td>1.25</td>\n",
       "    </tr>\n",
       "    <tr>\n",
       "      <th>8</th>\n",
       "      <td>Tags_Others</td>\n",
       "      <td>1.23</td>\n",
       "    </tr>\n",
       "    <tr>\n",
       "      <th>11</th>\n",
       "      <td>Tags_switched off</td>\n",
       "      <td>1.07</td>\n",
       "    </tr>\n",
       "    <tr>\n",
       "      <th>12</th>\n",
       "      <td>Lead Profile_Lateral Student</td>\n",
       "      <td>1.02</td>\n",
       "    </tr>\n",
       "  </tbody>\n",
       "</table>\n",
       "</div>"
      ],
      "text/plain": [
       "                                    Features   VIF\n",
       "5                     Last Activity_SMS Sent  5.97\n",
       "7                         Tags_Not Specified  5.89\n",
       "14            Last Notable Activity_SMS Sent  5.32\n",
       "13                        Lead Profile_Other  4.58\n",
       "10  Tags_Will revert after reading the email  2.16\n",
       "4                 Last Activity_Email Opened  2.03\n",
       "1                         Lead Origin_Others  1.80\n",
       "2                     Lead Source_Olark Chat  1.56\n",
       "0                Total Time Spent on Website  1.44\n",
       "3               Lead Source_Welingak Website  1.41\n",
       "9                               Tags_Ringing  1.40\n",
       "6                    Tags_Closed by Horizzon  1.25\n",
       "8                                Tags_Others  1.23\n",
       "11                         Tags_switched off  1.07\n",
       "12              Lead Profile_Lateral Student  1.02"
      ]
     },
     "execution_count": 139,
     "metadata": {},
     "output_type": "execute_result"
    }
   ],
   "source": [
    "# Create a dataframe that will contain the names of all the feature variables and their respective VIFs\n",
    "vif = pd.DataFrame()\n",
    "vif['Features'] = X_train[col].columns\n",
    "vif['VIF'] = [variance_inflation_factor(X_train[col].values, i) for i in range(X_train[col].shape[1])]\n",
    "vif['VIF'] = round(vif['VIF'], 2)\n",
    "vif = vif.sort_values(by = \"VIF\", ascending = False)\n",
    "vif"
   ]
  },
  {
   "cell_type": "code",
   "execution_count": 140,
   "id": "413f65f0",
   "metadata": {},
   "outputs": [],
   "source": [
    "# Let's drop Last Activity_SMS Sent"
   ]
  },
  {
   "cell_type": "code",
   "execution_count": 141,
   "id": "1d09271f",
   "metadata": {},
   "outputs": [
    {
     "data": {
      "text/plain": [
       "Index(['Total Time Spent on Website', 'Lead Origin_Others',\n",
       "       'Lead Source_Olark Chat', 'Lead Source_Welingak Website',\n",
       "       'Last Activity_Email Opened', 'Tags_Closed by Horizzon',\n",
       "       'Tags_Not Specified', 'Tags_Others', 'Tags_Ringing',\n",
       "       'Tags_Will revert after reading the email', 'Tags_switched off',\n",
       "       'Lead Profile_Lateral Student', 'Lead Profile_Other',\n",
       "       'Last Notable Activity_SMS Sent'],\n",
       "      dtype='object')"
      ]
     },
     "execution_count": 141,
     "metadata": {},
     "output_type": "execute_result"
    }
   ],
   "source": [
    "col = col.drop('Last Activity_SMS Sent', 1)\n",
    "col"
   ]
  },
  {
   "cell_type": "code",
   "execution_count": 142,
   "id": "037e0a0a",
   "metadata": {},
   "outputs": [
    {
     "data": {
      "text/html": [
       "<table class=\"simpletable\">\n",
       "<caption>Generalized Linear Model Regression Results</caption>\n",
       "<tr>\n",
       "  <th>Dep. Variable:</th>       <td>Converted</td>    <th>  No. Observations:  </th>  <td>  6372</td> \n",
       "</tr>\n",
       "<tr>\n",
       "  <th>Model:</th>                  <td>GLM</td>       <th>  Df Residuals:      </th>  <td>  6357</td> \n",
       "</tr>\n",
       "<tr>\n",
       "  <th>Model Family:</th>        <td>Binomial</td>     <th>  Df Model:          </th>  <td>    14</td> \n",
       "</tr>\n",
       "<tr>\n",
       "  <th>Link Function:</th>         <td>logit</td>      <th>  Scale:             </th> <td>  1.0000</td>\n",
       "</tr>\n",
       "<tr>\n",
       "  <th>Method:</th>                <td>IRLS</td>       <th>  Log-Likelihood:    </th> <td> -1416.2</td>\n",
       "</tr>\n",
       "<tr>\n",
       "  <th>Date:</th>            <td>Mon, 17 Oct 2022</td> <th>  Deviance:          </th> <td>  2832.4</td>\n",
       "</tr>\n",
       "<tr>\n",
       "  <th>Time:</th>                <td>20:42:20</td>     <th>  Pearson chi2:      </th> <td>7.62e+03</td>\n",
       "</tr>\n",
       "<tr>\n",
       "  <th>No. Iterations:</th>         <td>21</td>        <th>                     </th>     <td> </td>   \n",
       "</tr>\n",
       "<tr>\n",
       "  <th>Covariance Type:</th>     <td>nonrobust</td>    <th>                     </th>     <td> </td>   \n",
       "</tr>\n",
       "</table>\n",
       "<table class=\"simpletable\">\n",
       "<tr>\n",
       "                      <td></td>                        <th>coef</th>     <th>std err</th>      <th>z</th>      <th>P>|z|</th>  <th>[0.025</th>    <th>0.975]</th>  \n",
       "</tr>\n",
       "<tr>\n",
       "  <th>const</th>                                    <td>   -5.0231</td> <td>    0.331</td> <td>  -15.181</td> <td> 0.000</td> <td>   -5.672</td> <td>   -4.375</td>\n",
       "</tr>\n",
       "<tr>\n",
       "  <th>Total Time Spent on Website</th>              <td>    1.0839</td> <td>    0.057</td> <td>   19.093</td> <td> 0.000</td> <td>    0.973</td> <td>    1.195</td>\n",
       "</tr>\n",
       "<tr>\n",
       "  <th>Lead Origin_Others</th>                       <td>    1.9768</td> <td>    0.329</td> <td>    6.017</td> <td> 0.000</td> <td>    1.333</td> <td>    2.621</td>\n",
       "</tr>\n",
       "<tr>\n",
       "  <th>Lead Source_Olark Chat</th>                   <td>    1.0330</td> <td>    0.140</td> <td>    7.361</td> <td> 0.000</td> <td>    0.758</td> <td>    1.308</td>\n",
       "</tr>\n",
       "<tr>\n",
       "  <th>Lead Source_Welingak Website</th>             <td>    2.7443</td> <td>    0.799</td> <td>    3.436</td> <td> 0.001</td> <td>    1.179</td> <td>    4.310</td>\n",
       "</tr>\n",
       "<tr>\n",
       "  <th>Last Activity_Email Opened</th>               <td>    0.7740</td> <td>    0.115</td> <td>    6.739</td> <td> 0.000</td> <td>    0.549</td> <td>    0.999</td>\n",
       "</tr>\n",
       "<tr>\n",
       "  <th>Tags_Closed by Horizzon</th>                  <td>    8.5755</td> <td>    0.787</td> <td>   10.897</td> <td> 0.000</td> <td>    7.033</td> <td>   10.118</td>\n",
       "</tr>\n",
       "<tr>\n",
       "  <th>Tags_Not Specified</th>                       <td>    3.8939</td> <td>    0.338</td> <td>   11.506</td> <td> 0.000</td> <td>    3.231</td> <td>    4.557</td>\n",
       "</tr>\n",
       "<tr>\n",
       "  <th>Tags_Others</th>                              <td>    3.0285</td> <td>    0.332</td> <td>    9.111</td> <td> 0.000</td> <td>    2.377</td> <td>    3.680</td>\n",
       "</tr>\n",
       "<tr>\n",
       "  <th>Tags_Ringing</th>                             <td>   -0.6582</td> <td>    0.398</td> <td>   -1.653</td> <td> 0.098</td> <td>   -1.439</td> <td>    0.122</td>\n",
       "</tr>\n",
       "<tr>\n",
       "  <th>Tags_Will revert after reading the email</th> <td>    6.9901</td> <td>    0.361</td> <td>   19.353</td> <td> 0.000</td> <td>    6.282</td> <td>    7.698</td>\n",
       "</tr>\n",
       "<tr>\n",
       "  <th>Tags_switched off</th>                        <td>   -0.8302</td> <td>    0.683</td> <td>   -1.216</td> <td> 0.224</td> <td>   -2.168</td> <td>    0.508</td>\n",
       "</tr>\n",
       "<tr>\n",
       "  <th>Lead Profile_Lateral Student</th>             <td>   24.3728</td> <td> 1.18e+04</td> <td>    0.002</td> <td> 0.998</td> <td>-2.32e+04</td> <td> 2.32e+04</td>\n",
       "</tr>\n",
       "<tr>\n",
       "  <th>Lead Profile_Other</th>                       <td>   -1.7906</td> <td>    0.137</td> <td>  -13.073</td> <td> 0.000</td> <td>   -2.059</td> <td>   -1.522</td>\n",
       "</tr>\n",
       "<tr>\n",
       "  <th>Last Notable Activity_SMS Sent</th>           <td>    2.4728</td> <td>    0.137</td> <td>   18.097</td> <td> 0.000</td> <td>    2.205</td> <td>    2.741</td>\n",
       "</tr>\n",
       "</table>"
      ],
      "text/plain": [
       "<class 'statsmodels.iolib.summary.Summary'>\n",
       "\"\"\"\n",
       "                 Generalized Linear Model Regression Results                  \n",
       "==============================================================================\n",
       "Dep. Variable:              Converted   No. Observations:                 6372\n",
       "Model:                            GLM   Df Residuals:                     6357\n",
       "Model Family:                Binomial   Df Model:                           14\n",
       "Link Function:                  logit   Scale:                          1.0000\n",
       "Method:                          IRLS   Log-Likelihood:                -1416.2\n",
       "Date:                Mon, 17 Oct 2022   Deviance:                       2832.4\n",
       "Time:                        20:42:20   Pearson chi2:                 7.62e+03\n",
       "No. Iterations:                    21                                         \n",
       "Covariance Type:            nonrobust                                         \n",
       "============================================================================================================\n",
       "                                               coef    std err          z      P>|z|      [0.025      0.975]\n",
       "------------------------------------------------------------------------------------------------------------\n",
       "const                                       -5.0231      0.331    -15.181      0.000      -5.672      -4.375\n",
       "Total Time Spent on Website                  1.0839      0.057     19.093      0.000       0.973       1.195\n",
       "Lead Origin_Others                           1.9768      0.329      6.017      0.000       1.333       2.621\n",
       "Lead Source_Olark Chat                       1.0330      0.140      7.361      0.000       0.758       1.308\n",
       "Lead Source_Welingak Website                 2.7443      0.799      3.436      0.001       1.179       4.310\n",
       "Last Activity_Email Opened                   0.7740      0.115      6.739      0.000       0.549       0.999\n",
       "Tags_Closed by Horizzon                      8.5755      0.787     10.897      0.000       7.033      10.118\n",
       "Tags_Not Specified                           3.8939      0.338     11.506      0.000       3.231       4.557\n",
       "Tags_Others                                  3.0285      0.332      9.111      0.000       2.377       3.680\n",
       "Tags_Ringing                                -0.6582      0.398     -1.653      0.098      -1.439       0.122\n",
       "Tags_Will revert after reading the email     6.9901      0.361     19.353      0.000       6.282       7.698\n",
       "Tags_switched off                           -0.8302      0.683     -1.216      0.224      -2.168       0.508\n",
       "Lead Profile_Lateral Student                24.3728   1.18e+04      0.002      0.998   -2.32e+04    2.32e+04\n",
       "Lead Profile_Other                          -1.7906      0.137    -13.073      0.000      -2.059      -1.522\n",
       "Last Notable Activity_SMS Sent               2.4728      0.137     18.097      0.000       2.205       2.741\n",
       "============================================================================================================\n",
       "\"\"\""
      ]
     },
     "execution_count": 142,
     "metadata": {},
     "output_type": "execute_result"
    }
   ],
   "source": [
    "# Let's re-run the model using the selected variables\n",
    "X_train_sm = sm.add_constant(X_train[col])\n",
    "logm2 = sm.GLM(y_train,X_train_sm, family = sm.families.Binomial())\n",
    "res = logm2.fit()\n",
    "res.summary()"
   ]
  },
  {
   "cell_type": "code",
   "execution_count": 143,
   "id": "2f9fb6f0",
   "metadata": {},
   "outputs": [],
   "source": [
    "y_train_pred = res.predict(X_train_sm).values.reshape(-1)\n",
    "y_train_pred[:10]\n",
    "y_train_pred_final['Converted_Prob'] = y_train_pred"
   ]
  },
  {
   "cell_type": "code",
   "execution_count": 144,
   "id": "a54a227b",
   "metadata": {},
   "outputs": [
    {
     "data": {
      "text/html": [
       "<div>\n",
       "<style scoped>\n",
       "    .dataframe tbody tr th:only-of-type {\n",
       "        vertical-align: middle;\n",
       "    }\n",
       "\n",
       "    .dataframe tbody tr th {\n",
       "        vertical-align: top;\n",
       "    }\n",
       "\n",
       "    .dataframe thead th {\n",
       "        text-align: right;\n",
       "    }\n",
       "</style>\n",
       "<table border=\"1\" class=\"dataframe\">\n",
       "  <thead>\n",
       "    <tr style=\"text-align: right;\">\n",
       "      <th></th>\n",
       "      <th>Converted</th>\n",
       "      <th>Converted_Prob</th>\n",
       "      <th>CustID</th>\n",
       "      <th>predicted</th>\n",
       "    </tr>\n",
       "  </thead>\n",
       "  <tbody>\n",
       "    <tr>\n",
       "      <th>0</th>\n",
       "      <td>0</td>\n",
       "      <td>0.888789</td>\n",
       "      <td>7962</td>\n",
       "      <td>1</td>\n",
       "    </tr>\n",
       "    <tr>\n",
       "      <th>1</th>\n",
       "      <td>0</td>\n",
       "      <td>0.113414</td>\n",
       "      <td>5520</td>\n",
       "      <td>0</td>\n",
       "    </tr>\n",
       "    <tr>\n",
       "      <th>2</th>\n",
       "      <td>0</td>\n",
       "      <td>0.001543</td>\n",
       "      <td>1962</td>\n",
       "      <td>0</td>\n",
       "    </tr>\n",
       "    <tr>\n",
       "      <th>3</th>\n",
       "      <td>1</td>\n",
       "      <td>0.985961</td>\n",
       "      <td>1566</td>\n",
       "      <td>1</td>\n",
       "    </tr>\n",
       "    <tr>\n",
       "      <th>4</th>\n",
       "      <td>0</td>\n",
       "      <td>0.015201</td>\n",
       "      <td>9170</td>\n",
       "      <td>0</td>\n",
       "    </tr>\n",
       "  </tbody>\n",
       "</table>\n",
       "</div>"
      ],
      "text/plain": [
       "   Converted  Converted_Prob  CustID  predicted\n",
       "0          0        0.888789    7962          1\n",
       "1          0        0.113414    5520          0\n",
       "2          0        0.001543    1962          0\n",
       "3          1        0.985961    1566          1\n",
       "4          0        0.015201    9170          0"
      ]
     },
     "execution_count": 144,
     "metadata": {},
     "output_type": "execute_result"
    }
   ],
   "source": [
    "# Creating new column 'predicted' with 1 if Churn_Prob > 0.5 else 0\n",
    "y_train_pred_final['predicted'] = y_train_pred_final.Converted_Prob.map(lambda x: 1 if x > 0.5 else 0)\n",
    "y_train_pred_final.head()"
   ]
  },
  {
   "cell_type": "code",
   "execution_count": 145,
   "id": "61417a3f",
   "metadata": {},
   "outputs": [
    {
     "name": "stdout",
     "output_type": "stream",
     "text": [
      "0.9111738857501569\n"
     ]
    }
   ],
   "source": [
    "# Let's check the overall accuracy.\n",
    "print(metrics.accuracy_score(y_train_pred_final.Converted, y_train_pred_final.predicted))"
   ]
  },
  {
   "cell_type": "code",
   "execution_count": 146,
   "id": "76fd7b2e",
   "metadata": {},
   "outputs": [],
   "source": [
    "# Accuracy hasn't dropped so let's check VIFs again"
   ]
  },
  {
   "cell_type": "code",
   "execution_count": 147,
   "id": "47fa8e50",
   "metadata": {},
   "outputs": [
    {
     "data": {
      "text/html": [
       "<div>\n",
       "<style scoped>\n",
       "    .dataframe tbody tr th:only-of-type {\n",
       "        vertical-align: middle;\n",
       "    }\n",
       "\n",
       "    .dataframe tbody tr th {\n",
       "        vertical-align: top;\n",
       "    }\n",
       "\n",
       "    .dataframe thead th {\n",
       "        text-align: right;\n",
       "    }\n",
       "</style>\n",
       "<table border=\"1\" class=\"dataframe\">\n",
       "  <thead>\n",
       "    <tr style=\"text-align: right;\">\n",
       "      <th></th>\n",
       "      <th>Features</th>\n",
       "      <th>VIF</th>\n",
       "    </tr>\n",
       "  </thead>\n",
       "  <tbody>\n",
       "    <tr>\n",
       "      <th>6</th>\n",
       "      <td>Tags_Not Specified</td>\n",
       "      <td>5.76</td>\n",
       "    </tr>\n",
       "    <tr>\n",
       "      <th>12</th>\n",
       "      <td>Lead Profile_Other</td>\n",
       "      <td>4.58</td>\n",
       "    </tr>\n",
       "    <tr>\n",
       "      <th>9</th>\n",
       "      <td>Tags_Will revert after reading the email</td>\n",
       "      <td>2.04</td>\n",
       "    </tr>\n",
       "    <tr>\n",
       "      <th>13</th>\n",
       "      <td>Last Notable Activity_SMS Sent</td>\n",
       "      <td>1.97</td>\n",
       "    </tr>\n",
       "    <tr>\n",
       "      <th>4</th>\n",
       "      <td>Last Activity_Email Opened</td>\n",
       "      <td>1.89</td>\n",
       "    </tr>\n",
       "    <tr>\n",
       "      <th>1</th>\n",
       "      <td>Lead Origin_Others</td>\n",
       "      <td>1.80</td>\n",
       "    </tr>\n",
       "    <tr>\n",
       "      <th>2</th>\n",
       "      <td>Lead Source_Olark Chat</td>\n",
       "      <td>1.55</td>\n",
       "    </tr>\n",
       "    <tr>\n",
       "      <th>0</th>\n",
       "      <td>Total Time Spent on Website</td>\n",
       "      <td>1.44</td>\n",
       "    </tr>\n",
       "    <tr>\n",
       "      <th>3</th>\n",
       "      <td>Lead Source_Welingak Website</td>\n",
       "      <td>1.41</td>\n",
       "    </tr>\n",
       "    <tr>\n",
       "      <th>8</th>\n",
       "      <td>Tags_Ringing</td>\n",
       "      <td>1.34</td>\n",
       "    </tr>\n",
       "    <tr>\n",
       "      <th>5</th>\n",
       "      <td>Tags_Closed by Horizzon</td>\n",
       "      <td>1.23</td>\n",
       "    </tr>\n",
       "    <tr>\n",
       "      <th>7</th>\n",
       "      <td>Tags_Others</td>\n",
       "      <td>1.18</td>\n",
       "    </tr>\n",
       "    <tr>\n",
       "      <th>10</th>\n",
       "      <td>Tags_switched off</td>\n",
       "      <td>1.06</td>\n",
       "    </tr>\n",
       "    <tr>\n",
       "      <th>11</th>\n",
       "      <td>Lead Profile_Lateral Student</td>\n",
       "      <td>1.02</td>\n",
       "    </tr>\n",
       "  </tbody>\n",
       "</table>\n",
       "</div>"
      ],
      "text/plain": [
       "                                    Features   VIF\n",
       "6                         Tags_Not Specified  5.76\n",
       "12                        Lead Profile_Other  4.58\n",
       "9   Tags_Will revert after reading the email  2.04\n",
       "13            Last Notable Activity_SMS Sent  1.97\n",
       "4                 Last Activity_Email Opened  1.89\n",
       "1                         Lead Origin_Others  1.80\n",
       "2                     Lead Source_Olark Chat  1.55\n",
       "0                Total Time Spent on Website  1.44\n",
       "3               Lead Source_Welingak Website  1.41\n",
       "8                               Tags_Ringing  1.34\n",
       "5                    Tags_Closed by Horizzon  1.23\n",
       "7                                Tags_Others  1.18\n",
       "10                         Tags_switched off  1.06\n",
       "11              Lead Profile_Lateral Student  1.02"
      ]
     },
     "execution_count": 147,
     "metadata": {},
     "output_type": "execute_result"
    }
   ],
   "source": [
    "vif = pd.DataFrame()\n",
    "vif['Features'] = X_train[col].columns\n",
    "vif['VIF'] = [variance_inflation_factor(X_train[col].values, i) for i in range(X_train[col].shape[1])]\n",
    "vif['VIF'] = round(vif['VIF'], 2)\n",
    "vif = vif.sort_values(by = \"VIF\", ascending = False)\n",
    "vif"
   ]
  },
  {
   "cell_type": "code",
   "execution_count": 148,
   "id": "228bb3d9",
   "metadata": {},
   "outputs": [],
   "source": [
    "# Let's drop Tags_Not Specified and Lead Profile_Lateral Student (Basis pvalue)"
   ]
  },
  {
   "cell_type": "code",
   "execution_count": 149,
   "id": "18a16646",
   "metadata": {},
   "outputs": [
    {
     "data": {
      "text/html": [
       "<table class=\"simpletable\">\n",
       "<caption>Generalized Linear Model Regression Results</caption>\n",
       "<tr>\n",
       "  <th>Dep. Variable:</th>       <td>Converted</td>    <th>  No. Observations:  </th>  <td>  6372</td> \n",
       "</tr>\n",
       "<tr>\n",
       "  <th>Model:</th>                  <td>GLM</td>       <th>  Df Residuals:      </th>  <td>  6359</td> \n",
       "</tr>\n",
       "<tr>\n",
       "  <th>Model Family:</th>        <td>Binomial</td>     <th>  Df Model:          </th>  <td>    12</td> \n",
       "</tr>\n",
       "<tr>\n",
       "  <th>Link Function:</th>         <td>logit</td>      <th>  Scale:             </th> <td>  1.0000</td>\n",
       "</tr>\n",
       "<tr>\n",
       "  <th>Method:</th>                <td>IRLS</td>       <th>  Log-Likelihood:    </th> <td> -1554.5</td>\n",
       "</tr>\n",
       "<tr>\n",
       "  <th>Date:</th>            <td>Mon, 17 Oct 2022</td> <th>  Deviance:          </th> <td>  3109.0</td>\n",
       "</tr>\n",
       "<tr>\n",
       "  <th>Time:</th>                <td>20:42:20</td>     <th>  Pearson chi2:      </th> <td>8.18e+03</td>\n",
       "</tr>\n",
       "<tr>\n",
       "  <th>No. Iterations:</th>          <td>8</td>        <th>                     </th>     <td> </td>   \n",
       "</tr>\n",
       "<tr>\n",
       "  <th>Covariance Type:</th>     <td>nonrobust</td>    <th>                     </th>     <td> </td>   \n",
       "</tr>\n",
       "</table>\n",
       "<table class=\"simpletable\">\n",
       "<tr>\n",
       "                      <td></td>                        <th>coef</th>     <th>std err</th>      <th>z</th>      <th>P>|z|</th>  <th>[0.025</th>    <th>0.975]</th>  \n",
       "</tr>\n",
       "<tr>\n",
       "  <th>const</th>                                    <td>   -2.4759</td> <td>    0.122</td> <td>  -20.311</td> <td> 0.000</td> <td>   -2.715</td> <td>   -2.237</td>\n",
       "</tr>\n",
       "<tr>\n",
       "  <th>Total Time Spent on Website</th>              <td>    1.0649</td> <td>    0.053</td> <td>   20.017</td> <td> 0.000</td> <td>    0.961</td> <td>    1.169</td>\n",
       "</tr>\n",
       "<tr>\n",
       "  <th>Lead Origin_Others</th>                       <td>    2.1165</td> <td>    0.313</td> <td>    6.765</td> <td> 0.000</td> <td>    1.503</td> <td>    2.730</td>\n",
       "</tr>\n",
       "<tr>\n",
       "  <th>Lead Source_Olark Chat</th>                   <td>    1.1970</td> <td>    0.133</td> <td>    9.012</td> <td> 0.000</td> <td>    0.937</td> <td>    1.457</td>\n",
       "</tr>\n",
       "<tr>\n",
       "  <th>Lead Source_Welingak Website</th>             <td>    3.6704</td> <td>    0.790</td> <td>    4.646</td> <td> 0.000</td> <td>    2.122</td> <td>    5.219</td>\n",
       "</tr>\n",
       "<tr>\n",
       "  <th>Last Activity_Email Opened</th>               <td>    0.8737</td> <td>    0.109</td> <td>    8.005</td> <td> 0.000</td> <td>    0.660</td> <td>    1.088</td>\n",
       "</tr>\n",
       "<tr>\n",
       "  <th>Tags_Closed by Horizzon</th>                  <td>    5.9485</td> <td>    0.724</td> <td>    8.214</td> <td> 0.000</td> <td>    4.529</td> <td>    7.368</td>\n",
       "</tr>\n",
       "<tr>\n",
       "  <th>Tags_Others</th>                              <td>    0.2793</td> <td>    0.127</td> <td>    2.197</td> <td> 0.028</td> <td>    0.030</td> <td>    0.528</td>\n",
       "</tr>\n",
       "<tr>\n",
       "  <th>Tags_Ringing</th>                             <td>   -3.5479</td> <td>    0.255</td> <td>  -13.892</td> <td> 0.000</td> <td>   -4.048</td> <td>   -3.047</td>\n",
       "</tr>\n",
       "<tr>\n",
       "  <th>Tags_Will revert after reading the email</th> <td>    4.3334</td> <td>    0.191</td> <td>   22.737</td> <td> 0.000</td> <td>    3.960</td> <td>    4.707</td>\n",
       "</tr>\n",
       "<tr>\n",
       "  <th>Tags_switched off</th>                        <td>   -3.7027</td> <td>    0.611</td> <td>   -6.059</td> <td> 0.000</td> <td>   -4.900</td> <td>   -2.505</td>\n",
       "</tr>\n",
       "<tr>\n",
       "  <th>Lead Profile_Other</th>                       <td>   -0.6832</td> <td>    0.114</td> <td>   -6.016</td> <td> 0.000</td> <td>   -0.906</td> <td>   -0.461</td>\n",
       "</tr>\n",
       "<tr>\n",
       "  <th>Last Notable Activity_SMS Sent</th>           <td>    2.8813</td> <td>    0.132</td> <td>   21.842</td> <td> 0.000</td> <td>    2.623</td> <td>    3.140</td>\n",
       "</tr>\n",
       "</table>"
      ],
      "text/plain": [
       "<class 'statsmodels.iolib.summary.Summary'>\n",
       "\"\"\"\n",
       "                 Generalized Linear Model Regression Results                  \n",
       "==============================================================================\n",
       "Dep. Variable:              Converted   No. Observations:                 6372\n",
       "Model:                            GLM   Df Residuals:                     6359\n",
       "Model Family:                Binomial   Df Model:                           12\n",
       "Link Function:                  logit   Scale:                          1.0000\n",
       "Method:                          IRLS   Log-Likelihood:                -1554.5\n",
       "Date:                Mon, 17 Oct 2022   Deviance:                       3109.0\n",
       "Time:                        20:42:20   Pearson chi2:                 8.18e+03\n",
       "No. Iterations:                     8                                         \n",
       "Covariance Type:            nonrobust                                         \n",
       "============================================================================================================\n",
       "                                               coef    std err          z      P>|z|      [0.025      0.975]\n",
       "------------------------------------------------------------------------------------------------------------\n",
       "const                                       -2.4759      0.122    -20.311      0.000      -2.715      -2.237\n",
       "Total Time Spent on Website                  1.0649      0.053     20.017      0.000       0.961       1.169\n",
       "Lead Origin_Others                           2.1165      0.313      6.765      0.000       1.503       2.730\n",
       "Lead Source_Olark Chat                       1.1970      0.133      9.012      0.000       0.937       1.457\n",
       "Lead Source_Welingak Website                 3.6704      0.790      4.646      0.000       2.122       5.219\n",
       "Last Activity_Email Opened                   0.8737      0.109      8.005      0.000       0.660       1.088\n",
       "Tags_Closed by Horizzon                      5.9485      0.724      8.214      0.000       4.529       7.368\n",
       "Tags_Others                                  0.2793      0.127      2.197      0.028       0.030       0.528\n",
       "Tags_Ringing                                -3.5479      0.255    -13.892      0.000      -4.048      -3.047\n",
       "Tags_Will revert after reading the email     4.3334      0.191     22.737      0.000       3.960       4.707\n",
       "Tags_switched off                           -3.7027      0.611     -6.059      0.000      -4.900      -2.505\n",
       "Lead Profile_Other                          -0.6832      0.114     -6.016      0.000      -0.906      -0.461\n",
       "Last Notable Activity_SMS Sent               2.8813      0.132     21.842      0.000       2.623       3.140\n",
       "============================================================================================================\n",
       "\"\"\""
      ]
     },
     "execution_count": 149,
     "metadata": {},
     "output_type": "execute_result"
    }
   ],
   "source": [
    "col = col.drop(['Tags_Not Specified','Lead Profile_Lateral Student'], 1)\n",
    "\n",
    "# Let's re-run the model using the selected variables\n",
    "X_train_sm = sm.add_constant(X_train[col])\n",
    "logm3 = sm.GLM(y_train,X_train_sm, family = sm.families.Binomial())\n",
    "res = logm3.fit()\n",
    "res.summary()"
   ]
  },
  {
   "cell_type": "code",
   "execution_count": 150,
   "id": "e8ed64c9",
   "metadata": {},
   "outputs": [],
   "source": [
    "y_train_pred = res.predict(X_train_sm).values.reshape(-1)\n",
    "y_train_pred[:10]\n",
    "y_train_pred_final['Converted_Prob'] = y_train_pred"
   ]
  },
  {
   "cell_type": "code",
   "execution_count": 151,
   "id": "94d06bd6",
   "metadata": {},
   "outputs": [
    {
     "data": {
      "text/html": [
       "<div>\n",
       "<style scoped>\n",
       "    .dataframe tbody tr th:only-of-type {\n",
       "        vertical-align: middle;\n",
       "    }\n",
       "\n",
       "    .dataframe tbody tr th {\n",
       "        vertical-align: top;\n",
       "    }\n",
       "\n",
       "    .dataframe thead th {\n",
       "        text-align: right;\n",
       "    }\n",
       "</style>\n",
       "<table border=\"1\" class=\"dataframe\">\n",
       "  <thead>\n",
       "    <tr style=\"text-align: right;\">\n",
       "      <th></th>\n",
       "      <th>Converted</th>\n",
       "      <th>Converted_Prob</th>\n",
       "      <th>CustID</th>\n",
       "      <th>predicted</th>\n",
       "    </tr>\n",
       "  </thead>\n",
       "  <tbody>\n",
       "    <tr>\n",
       "      <th>0</th>\n",
       "      <td>0</td>\n",
       "      <td>0.905237</td>\n",
       "      <td>7962</td>\n",
       "      <td>1</td>\n",
       "    </tr>\n",
       "    <tr>\n",
       "      <th>1</th>\n",
       "      <td>0</td>\n",
       "      <td>0.104897</td>\n",
       "      <td>5520</td>\n",
       "      <td>0</td>\n",
       "    </tr>\n",
       "    <tr>\n",
       "      <th>2</th>\n",
       "      <td>0</td>\n",
       "      <td>0.001127</td>\n",
       "      <td>1962</td>\n",
       "      <td>0</td>\n",
       "    </tr>\n",
       "    <tr>\n",
       "      <th>3</th>\n",
       "      <td>1</td>\n",
       "      <td>0.985449</td>\n",
       "      <td>1566</td>\n",
       "      <td>1</td>\n",
       "    </tr>\n",
       "    <tr>\n",
       "      <th>4</th>\n",
       "      <td>0</td>\n",
       "      <td>0.206957</td>\n",
       "      <td>9170</td>\n",
       "      <td>0</td>\n",
       "    </tr>\n",
       "  </tbody>\n",
       "</table>\n",
       "</div>"
      ],
      "text/plain": [
       "   Converted  Converted_Prob  CustID  predicted\n",
       "0          0        0.905237    7962          1\n",
       "1          0        0.104897    5520          0\n",
       "2          0        0.001127    1962          0\n",
       "3          1        0.985449    1566          1\n",
       "4          0        0.206957    9170          0"
      ]
     },
     "execution_count": 151,
     "metadata": {},
     "output_type": "execute_result"
    }
   ],
   "source": [
    "# Creating new column 'predicted' with 1 if Churn_Prob > 0.5 else 0\n",
    "y_train_pred_final['predicted'] = y_train_pred_final.Converted_Prob.map(lambda x: 1 if x > 0.5 else 0)\n",
    "y_train_pred_final.head()"
   ]
  },
  {
   "cell_type": "code",
   "execution_count": 152,
   "id": "b1d46c94",
   "metadata": {},
   "outputs": [
    {
     "name": "stdout",
     "output_type": "stream",
     "text": [
      "0.9016007532956686\n"
     ]
    }
   ],
   "source": [
    "# Let's check the overall accuracy.\n",
    "print(metrics.accuracy_score(y_train_pred_final.Converted, y_train_pred_final.predicted))"
   ]
  },
  {
   "cell_type": "code",
   "execution_count": 153,
   "id": "9ce2205f",
   "metadata": {},
   "outputs": [
    {
     "data": {
      "text/html": [
       "<div>\n",
       "<style scoped>\n",
       "    .dataframe tbody tr th:only-of-type {\n",
       "        vertical-align: middle;\n",
       "    }\n",
       "\n",
       "    .dataframe tbody tr th {\n",
       "        vertical-align: top;\n",
       "    }\n",
       "\n",
       "    .dataframe thead th {\n",
       "        text-align: right;\n",
       "    }\n",
       "</style>\n",
       "<table border=\"1\" class=\"dataframe\">\n",
       "  <thead>\n",
       "    <tr style=\"text-align: right;\">\n",
       "      <th></th>\n",
       "      <th>Features</th>\n",
       "      <th>VIF</th>\n",
       "    </tr>\n",
       "  </thead>\n",
       "  <tbody>\n",
       "    <tr>\n",
       "      <th>8</th>\n",
       "      <td>Tags_Will revert after reading the email</td>\n",
       "      <td>1.85</td>\n",
       "    </tr>\n",
       "    <tr>\n",
       "      <th>1</th>\n",
       "      <td>Lead Origin_Others</td>\n",
       "      <td>1.79</td>\n",
       "    </tr>\n",
       "    <tr>\n",
       "      <th>11</th>\n",
       "      <td>Last Notable Activity_SMS Sent</td>\n",
       "      <td>1.75</td>\n",
       "    </tr>\n",
       "    <tr>\n",
       "      <th>4</th>\n",
       "      <td>Last Activity_Email Opened</td>\n",
       "      <td>1.69</td>\n",
       "    </tr>\n",
       "    <tr>\n",
       "      <th>2</th>\n",
       "      <td>Lead Source_Olark Chat</td>\n",
       "      <td>1.45</td>\n",
       "    </tr>\n",
       "    <tr>\n",
       "      <th>0</th>\n",
       "      <td>Total Time Spent on Website</td>\n",
       "      <td>1.43</td>\n",
       "    </tr>\n",
       "    <tr>\n",
       "      <th>10</th>\n",
       "      <td>Lead Profile_Other</td>\n",
       "      <td>1.39</td>\n",
       "    </tr>\n",
       "    <tr>\n",
       "      <th>3</th>\n",
       "      <td>Lead Source_Welingak Website</td>\n",
       "      <td>1.33</td>\n",
       "    </tr>\n",
       "    <tr>\n",
       "      <th>7</th>\n",
       "      <td>Tags_Ringing</td>\n",
       "      <td>1.28</td>\n",
       "    </tr>\n",
       "    <tr>\n",
       "      <th>5</th>\n",
       "      <td>Tags_Closed by Horizzon</td>\n",
       "      <td>1.20</td>\n",
       "    </tr>\n",
       "    <tr>\n",
       "      <th>6</th>\n",
       "      <td>Tags_Others</td>\n",
       "      <td>1.12</td>\n",
       "    </tr>\n",
       "    <tr>\n",
       "      <th>9</th>\n",
       "      <td>Tags_switched off</td>\n",
       "      <td>1.05</td>\n",
       "    </tr>\n",
       "  </tbody>\n",
       "</table>\n",
       "</div>"
      ],
      "text/plain": [
       "                                    Features   VIF\n",
       "8   Tags_Will revert after reading the email  1.85\n",
       "1                         Lead Origin_Others  1.79\n",
       "11            Last Notable Activity_SMS Sent  1.75\n",
       "4                 Last Activity_Email Opened  1.69\n",
       "2                     Lead Source_Olark Chat  1.45\n",
       "0                Total Time Spent on Website  1.43\n",
       "10                        Lead Profile_Other  1.39\n",
       "3               Lead Source_Welingak Website  1.33\n",
       "7                               Tags_Ringing  1.28\n",
       "5                    Tags_Closed by Horizzon  1.20\n",
       "6                                Tags_Others  1.12\n",
       "9                          Tags_switched off  1.05"
      ]
     },
     "execution_count": 153,
     "metadata": {},
     "output_type": "execute_result"
    }
   ],
   "source": [
    "# Accuracy hasn't dropped so let's check VIFs again\n",
    "vif = pd.DataFrame()\n",
    "vif['Features'] = X_train[col].columns\n",
    "vif['VIF'] = [variance_inflation_factor(X_train[col].values, i) for i in range(X_train[col].shape[1])]\n",
    "vif['VIF'] = round(vif['VIF'], 2)\n",
    "vif = vif.sort_values(by = \"VIF\", ascending = False)\n",
    "vif"
   ]
  },
  {
   "cell_type": "code",
   "execution_count": 154,
   "id": "fc3f8e62",
   "metadata": {},
   "outputs": [],
   "source": [
    "# Now the model 3 seems fine"
   ]
  },
  {
   "cell_type": "markdown",
   "id": "6ae06abc",
   "metadata": {},
   "source": [
    "# Metrics Analysis"
   ]
  },
  {
   "cell_type": "code",
   "execution_count": 157,
   "id": "eee99fee",
   "metadata": {},
   "outputs": [],
   "source": [
    "from sklearn import metrics"
   ]
  },
  {
   "cell_type": "code",
   "execution_count": 159,
   "id": "8d0fd9e1",
   "metadata": {},
   "outputs": [
    {
     "data": {
      "text/plain": [
       "array([[3760,  193],\n",
       "       [ 434, 1985]], dtype=int64)"
      ]
     },
     "execution_count": 159,
     "metadata": {},
     "output_type": "execute_result"
    }
   ],
   "source": [
    "# Let's take a look at the confusion matrix again \n",
    "confusion = metrics.confusion_matrix(y_train_pred_final.Converted, y_train_pred_final.predicted )\n",
    "confusion"
   ]
  },
  {
   "cell_type": "code",
   "execution_count": 160,
   "id": "66048fab",
   "metadata": {},
   "outputs": [],
   "source": [
    "TP = confusion[1,1] # true positive \n",
    "TN = confusion[0,0] # true negatives\n",
    "FP = confusion[0,1] # false positives\n",
    "FN = confusion[1,0] # false negatives"
   ]
  },
  {
   "cell_type": "code",
   "execution_count": 168,
   "id": "99a00dd6",
   "metadata": {},
   "outputs": [
    {
     "data": {
      "text/plain": [
       "0.8205870194295163"
      ]
     },
     "execution_count": 168,
     "metadata": {},
     "output_type": "execute_result"
    }
   ],
   "source": [
    "# Let's see the sensitivity -- Number of positives predicted out of total positives\n",
    "TP / float(TP+FN) "
   ]
  },
  {
   "cell_type": "code",
   "execution_count": 162,
   "id": "8f02ab3a",
   "metadata": {},
   "outputs": [
    {
     "data": {
      "text/plain": [
       "0.9511763217809259"
      ]
     },
     "execution_count": 162,
     "metadata": {},
     "output_type": "execute_result"
    }
   ],
   "source": [
    "# Let us calculate specificity\n",
    "TN / float(TN+FP)"
   ]
  },
  {
   "cell_type": "code",
   "execution_count": 165,
   "id": "1ec46863",
   "metadata": {},
   "outputs": [
    {
     "name": "stdout",
     "output_type": "stream",
     "text": [
      "0.04882367821907412\n"
     ]
    }
   ],
   "source": [
    "# Calculate false postive rate - predicting converted when customer hasn't converted\n",
    "print(FP/ float(TN+FP))"
   ]
  },
  {
   "cell_type": "code",
   "execution_count": 166,
   "id": "e8478226",
   "metadata": {},
   "outputs": [
    {
     "name": "stdout",
     "output_type": "stream",
     "text": [
      "0.911386593204775\n"
     ]
    }
   ],
   "source": [
    "# positive predictive value \n",
    "print (TP / float(TP+FP))"
   ]
  },
  {
   "cell_type": "code",
   "execution_count": 167,
   "id": "8af91051",
   "metadata": {},
   "outputs": [
    {
     "name": "stdout",
     "output_type": "stream",
     "text": [
      "0.8965188364329996\n"
     ]
    }
   ],
   "source": [
    "# Negative predictive value\n",
    "print (TN / float(TN+ FN))"
   ]
  },
  {
   "cell_type": "markdown",
   "id": "8e987963",
   "metadata": {},
   "source": [
    "#  Plotting the ROC Curve"
   ]
  },
  {
   "cell_type": "code",
   "execution_count": 169,
   "id": "07eec8b9",
   "metadata": {},
   "outputs": [],
   "source": [
    "def draw_roc( actual, probs ):\n",
    "    fpr, tpr, thresholds = metrics.roc_curve( actual, probs,\n",
    "                                              drop_intermediate = False )\n",
    "    auc_score = metrics.roc_auc_score( actual, probs )\n",
    "    plt.figure(figsize=(5, 5))\n",
    "    plt.plot( fpr, tpr, label='ROC curve (area = %0.2f)' % auc_score )\n",
    "    plt.plot([0, 1], [0, 1], 'k--')\n",
    "    plt.xlim([0.0, 1.0])\n",
    "    plt.ylim([0.0, 1.05])\n",
    "    plt.xlabel('False Positive Rate or [1 - True Negative Rate]')\n",
    "    plt.ylabel('True Positive Rate')\n",
    "    plt.title('Receiver operating characteristic example')\n",
    "    plt.legend(loc=\"lower right\")\n",
    "    plt.show()\n",
    "\n",
    "    return None"
   ]
  },
  {
   "cell_type": "code",
   "execution_count": 170,
   "id": "c9232a9b",
   "metadata": {},
   "outputs": [],
   "source": [
    "fpr, tpr, thresholds = metrics.roc_curve( y_train_pred_final.Converted, y_train_pred_final.Converted_Prob, drop_intermediate = False )"
   ]
  },
  {
   "cell_type": "code",
   "execution_count": 171,
   "id": "bb09a17c",
   "metadata": {},
   "outputs": [
    {
     "data": {
      "image/png": "[encoded data removed]",
      "text/plain": [
       "<Figure size 360x360 with 1 Axes>"
      ]
     },
     "metadata": {
      "needs_background": "light"
     },
     "output_type": "display_data"
    }
   ],
   "source": [
    "draw_roc(y_train_pred_final.Converted, y_train_pred_final.Converted_Prob)"
   ]
  },
  {
   "cell_type": "markdown",
   "id": "92e707d8",
   "metadata": {},
   "source": [
    "# Finding Optimal Cutoff Point"
   ]
  },
  {
   "cell_type": "code",
   "execution_count": 172,
   "id": "87ad8e15",
   "metadata": {},
   "outputs": [
    {
     "data": {
      "text/html": [
       "<div>\n",
       "<style scoped>\n",
       "    .dataframe tbody tr th:only-of-type {\n",
       "        vertical-align: middle;\n",
       "    }\n",
       "\n",
       "    .dataframe tbody tr th {\n",
       "        vertical-align: top;\n",
       "    }\n",
       "\n",
       "    .dataframe thead th {\n",
       "        text-align: right;\n",
       "    }\n",
       "</style>\n",
       "<table border=\"1\" class=\"dataframe\">\n",
       "  <thead>\n",
       "    <tr style=\"text-align: right;\">\n",
       "      <th></th>\n",
       "      <th>Converted</th>\n",
       "      <th>Converted_Prob</th>\n",
       "      <th>CustID</th>\n",
       "      <th>predicted</th>\n",
       "      <th>0.0</th>\n",
       "      <th>0.1</th>\n",
       "      <th>0.2</th>\n",
       "      <th>0.3</th>\n",
       "      <th>0.4</th>\n",
       "      <th>0.5</th>\n",
       "      <th>0.6</th>\n",
       "      <th>0.7</th>\n",
       "      <th>0.8</th>\n",
       "      <th>0.9</th>\n",
       "    </tr>\n",
       "  </thead>\n",
       "  <tbody>\n",
       "    <tr>\n",
       "      <th>0</th>\n",
       "      <td>0</td>\n",
       "      <td>0.905237</td>\n",
       "      <td>7962</td>\n",
       "      <td>1</td>\n",
       "      <td>1</td>\n",
       "      <td>1</td>\n",
       "      <td>1</td>\n",
       "      <td>1</td>\n",
       "      <td>1</td>\n",
       "      <td>1</td>\n",
       "      <td>1</td>\n",
       "      <td>1</td>\n",
       "      <td>1</td>\n",
       "      <td>1</td>\n",
       "    </tr>\n",
       "    <tr>\n",
       "      <th>1</th>\n",
       "      <td>0</td>\n",
       "      <td>0.104897</td>\n",
       "      <td>5520</td>\n",
       "      <td>0</td>\n",
       "      <td>1</td>\n",
       "      <td>1</td>\n",
       "      <td>0</td>\n",
       "      <td>0</td>\n",
       "      <td>0</td>\n",
       "      <td>0</td>\n",
       "      <td>0</td>\n",
       "      <td>0</td>\n",
       "      <td>0</td>\n",
       "      <td>0</td>\n",
       "    </tr>\n",
       "    <tr>\n",
       "      <th>2</th>\n",
       "      <td>0</td>\n",
       "      <td>0.001127</td>\n",
       "      <td>1962</td>\n",
       "      <td>0</td>\n",
       "      <td>1</td>\n",
       "      <td>0</td>\n",
       "      <td>0</td>\n",
       "      <td>0</td>\n",
       "      <td>0</td>\n",
       "      <td>0</td>\n",
       "      <td>0</td>\n",
       "      <td>0</td>\n",
       "      <td>0</td>\n",
       "      <td>0</td>\n",
       "    </tr>\n",
       "    <tr>\n",
       "      <th>3</th>\n",
       "      <td>1</td>\n",
       "      <td>0.985449</td>\n",
       "      <td>1566</td>\n",
       "      <td>1</td>\n",
       "      <td>1</td>\n",
       "      <td>1</td>\n",
       "      <td>1</td>\n",
       "      <td>1</td>\n",
       "      <td>1</td>\n",
       "      <td>1</td>\n",
       "      <td>1</td>\n",
       "      <td>1</td>\n",
       "      <td>1</td>\n",
       "      <td>1</td>\n",
       "    </tr>\n",
       "    <tr>\n",
       "      <th>4</th>\n",
       "      <td>0</td>\n",
       "      <td>0.206957</td>\n",
       "      <td>9170</td>\n",
       "      <td>0</td>\n",
       "      <td>1</td>\n",
       "      <td>1</td>\n",
       "      <td>1</td>\n",
       "      <td>0</td>\n",
       "      <td>0</td>\n",
       "      <td>0</td>\n",
       "      <td>0</td>\n",
       "      <td>0</td>\n",
       "      <td>0</td>\n",
       "      <td>0</td>\n",
       "    </tr>\n",
       "  </tbody>\n",
       "</table>\n",
       "</div>"
      ],
      "text/plain": [
       "   Converted  Converted_Prob  CustID  predicted  0.0  0.1  0.2  0.3  0.4  0.5  \\\n",
       "0          0        0.905237    7962          1    1    1    1    1    1    1   \n",
       "1          0        0.104897    5520          0    1    1    0    0    0    0   \n",
       "2          0        0.001127    1962          0    1    0    0    0    0    0   \n",
       "3          1        0.985449    1566          1    1    1    1    1    1    1   \n",
       "4          0        0.206957    9170          0    1    1    1    0    0    0   \n",
       "\n",
       "   0.6  0.7  0.8  0.9  \n",
       "0    1    1    1    1  \n",
       "1    0    0    0    0  \n",
       "2    0    0    0    0  \n",
       "3    1    1    1    1  \n",
       "4    0    0    0    0  "
      ]
     },
     "execution_count": 172,
     "metadata": {},
     "output_type": "execute_result"
    }
   ],
   "source": [
    "# Let's create columns with different probability cutoffs \n",
    "numbers = [float(x)/10 for x in range(10)]\n",
    "for i in numbers:\n",
    "    y_train_pred_final[i]= y_train_pred_final.Converted_Prob.map(lambda x: 1 if x > i else 0)\n",
    "y_train_pred_final.head()"
   ]
  },
  {
   "cell_type": "code",
   "execution_count": 173,
   "id": "b68c12ad",
   "metadata": {},
   "outputs": [
    {
     "name": "stdout",
     "output_type": "stream",
     "text": [
      "     prob  accuracy     sensi     speci\n",
      "0.0   0.0  0.379630  1.000000  0.000000\n",
      "0.1   0.1  0.800063  0.965688  0.698710\n",
      "0.2   0.2  0.875549  0.931790  0.841133\n",
      "0.3   0.3  0.892655  0.877635  0.901847\n",
      "0.4   0.4  0.898933  0.853659  0.926638\n",
      "0.5   0.5  0.901601  0.820587  0.951176\n",
      "0.6   0.6  0.903013  0.798677  0.966861\n",
      "0.7   0.7  0.894852  0.760232  0.977232\n",
      "0.8   0.8  0.885122  0.721786  0.985075\n",
      "0.9   0.9  0.864407  0.656883  0.991399\n"
     ]
    }
   ],
   "source": [
    "# Now let's calculate accuracy sensitivity and specificity for various probability cutoffs.\n",
    "cutoff_df = pd.DataFrame( columns = ['prob','accuracy','sensi','speci'])\n",
    "from sklearn.metrics import confusion_matrix\n",
    "\n",
    "# TP = confusion[1,1] # true positive \n",
    "# TN = confusion[0,0] # true negatives\n",
    "# FP = confusion[0,1] # false positives\n",
    "# FN = confusion[1,0] # false negatives\n",
    "\n",
    "num = [0.0,0.1,0.2,0.3,0.4,0.5,0.6,0.7,0.8,0.9]\n",
    "for i in num:\n",
    "    cm1 = metrics.confusion_matrix(y_train_pred_final.Converted, y_train_pred_final[i] )\n",
    "    total1=sum(sum(cm1))\n",
    "    accuracy = (cm1[0,0]+cm1[1,1])/total1\n",
    "    \n",
    "    speci = cm1[0,0]/(cm1[0,0]+cm1[0,1])\n",
    "    sensi = cm1[1,1]/(cm1[1,0]+cm1[1,1])\n",
    "    cutoff_df.loc[i] =[ i ,accuracy,sensi,speci]\n",
    "print(cutoff_df)"
   ]
  },
  {
   "cell_type": "code",
   "execution_count": 174,
   "id": "7a817fce",
   "metadata": {},
   "outputs": [
    {
     "data": {
      "image/png": "[encoded data removed]",
      "text/plain": [
       "<Figure size 432x288 with 1 Axes>"
      ]
     },
     "metadata": {
      "needs_background": "light"
     },
     "output_type": "display_data"
    }
   ],
   "source": [
    "# Let's plot accuracy sensitivity and specificity for various probabilities.\n",
    "cutoff_df.plot.line(x='prob', y=['accuracy','sensi','speci'])\n",
    "plt.show()"
   ]
  },
  {
   "cell_type": "code",
   "execution_count": 175,
   "id": "985a80a5",
   "metadata": {},
   "outputs": [],
   "source": [
    "# From the curve above, 0.3 is the optimum point to take it as a cutoff probability."
   ]
  },
  {
   "cell_type": "code",
   "execution_count": 176,
   "id": "da125264",
   "metadata": {},
   "outputs": [
    {
     "data": {
      "text/html": [
       "<div>\n",
       "<style scoped>\n",
       "    .dataframe tbody tr th:only-of-type {\n",
       "        vertical-align: middle;\n",
       "    }\n",
       "\n",
       "    .dataframe tbody tr th {\n",
       "        vertical-align: top;\n",
       "    }\n",
       "\n",
       "    .dataframe thead th {\n",
       "        text-align: right;\n",
       "    }\n",
       "</style>\n",
       "<table border=\"1\" class=\"dataframe\">\n",
       "  <thead>\n",
       "    <tr style=\"text-align: right;\">\n",
       "      <th></th>\n",
       "      <th>Converted</th>\n",
       "      <th>Converted_Prob</th>\n",
       "      <th>CustID</th>\n",
       "      <th>predicted</th>\n",
       "      <th>0.0</th>\n",
       "      <th>0.1</th>\n",
       "      <th>0.2</th>\n",
       "      <th>0.3</th>\n",
       "      <th>0.4</th>\n",
       "      <th>0.5</th>\n",
       "      <th>0.6</th>\n",
       "      <th>0.7</th>\n",
       "      <th>0.8</th>\n",
       "      <th>0.9</th>\n",
       "      <th>final_predicted</th>\n",
       "    </tr>\n",
       "  </thead>\n",
       "  <tbody>\n",
       "    <tr>\n",
       "      <th>0</th>\n",
       "      <td>0</td>\n",
       "      <td>0.905237</td>\n",
       "      <td>7962</td>\n",
       "      <td>1</td>\n",
       "      <td>1</td>\n",
       "      <td>1</td>\n",
       "      <td>1</td>\n",
       "      <td>1</td>\n",
       "      <td>1</td>\n",
       "      <td>1</td>\n",
       "      <td>1</td>\n",
       "      <td>1</td>\n",
       "      <td>1</td>\n",
       "      <td>1</td>\n",
       "      <td>1</td>\n",
       "    </tr>\n",
       "    <tr>\n",
       "      <th>1</th>\n",
       "      <td>0</td>\n",
       "      <td>0.104897</td>\n",
       "      <td>5520</td>\n",
       "      <td>0</td>\n",
       "      <td>1</td>\n",
       "      <td>1</td>\n",
       "      <td>0</td>\n",
       "      <td>0</td>\n",
       "      <td>0</td>\n",
       "      <td>0</td>\n",
       "      <td>0</td>\n",
       "      <td>0</td>\n",
       "      <td>0</td>\n",
       "      <td>0</td>\n",
       "      <td>0</td>\n",
       "    </tr>\n",
       "    <tr>\n",
       "      <th>2</th>\n",
       "      <td>0</td>\n",
       "      <td>0.001127</td>\n",
       "      <td>1962</td>\n",
       "      <td>0</td>\n",
       "      <td>1</td>\n",
       "      <td>0</td>\n",
       "      <td>0</td>\n",
       "      <td>0</td>\n",
       "      <td>0</td>\n",
       "      <td>0</td>\n",
       "      <td>0</td>\n",
       "      <td>0</td>\n",
       "      <td>0</td>\n",
       "      <td>0</td>\n",
       "      <td>0</td>\n",
       "    </tr>\n",
       "    <tr>\n",
       "      <th>3</th>\n",
       "      <td>1</td>\n",
       "      <td>0.985449</td>\n",
       "      <td>1566</td>\n",
       "      <td>1</td>\n",
       "      <td>1</td>\n",
       "      <td>1</td>\n",
       "      <td>1</td>\n",
       "      <td>1</td>\n",
       "      <td>1</td>\n",
       "      <td>1</td>\n",
       "      <td>1</td>\n",
       "      <td>1</td>\n",
       "      <td>1</td>\n",
       "      <td>1</td>\n",
       "      <td>1</td>\n",
       "    </tr>\n",
       "    <tr>\n",
       "      <th>4</th>\n",
       "      <td>0</td>\n",
       "      <td>0.206957</td>\n",
       "      <td>9170</td>\n",
       "      <td>0</td>\n",
       "      <td>1</td>\n",
       "      <td>1</td>\n",
       "      <td>1</td>\n",
       "      <td>0</td>\n",
       "      <td>0</td>\n",
       "      <td>0</td>\n",
       "      <td>0</td>\n",
       "      <td>0</td>\n",
       "      <td>0</td>\n",
       "      <td>0</td>\n",
       "      <td>0</td>\n",
       "    </tr>\n",
       "  </tbody>\n",
       "</table>\n",
       "</div>"
      ],
      "text/plain": [
       "   Converted  Converted_Prob  CustID  predicted  0.0  0.1  0.2  0.3  0.4  0.5  \\\n",
       "0          0        0.905237    7962          1    1    1    1    1    1    1   \n",
       "1          0        0.104897    5520          0    1    1    0    0    0    0   \n",
       "2          0        0.001127    1962          0    1    0    0    0    0    0   \n",
       "3          1        0.985449    1566          1    1    1    1    1    1    1   \n",
       "4          0        0.206957    9170          0    1    1    1    0    0    0   \n",
       "\n",
       "   0.6  0.7  0.8  0.9  final_predicted  \n",
       "0    1    1    1    1                1  \n",
       "1    0    0    0    0                0  \n",
       "2    0    0    0    0                0  \n",
       "3    1    1    1    1                1  \n",
       "4    0    0    0    0                0  "
      ]
     },
     "execution_count": 176,
     "metadata": {},
     "output_type": "execute_result"
    }
   ],
   "source": [
    "y_train_pred_final['final_predicted'] = y_train_pred_final.Converted_Prob.map( lambda x: 1 if x > 0.3 else 0)\n",
    "\n",
    "y_train_pred_final.head()"
   ]
  },
  {
   "cell_type": "code",
   "execution_count": 177,
   "id": "db75080d",
   "metadata": {},
   "outputs": [
    {
     "data": {
      "text/plain": [
       "0.8926553672316384"
      ]
     },
     "execution_count": 177,
     "metadata": {},
     "output_type": "execute_result"
    }
   ],
   "source": [
    "# Let's check the overall accuracy.\n",
    "metrics.accuracy_score(y_train_pred_final.Converted, y_train_pred_final.final_predicted)"
   ]
  },
  {
   "cell_type": "code",
   "execution_count": 178,
   "id": "c07f2034",
   "metadata": {},
   "outputs": [
    {
     "data": {
      "text/plain": [
       "0.8205870194295163"
      ]
     },
     "execution_count": 178,
     "metadata": {},
     "output_type": "execute_result"
    }
   ],
   "source": [
    "# Let's see the sensitivity of our logistic regression model\n",
    "TP / float(TP+FN)"
   ]
  },
  {
   "cell_type": "code",
   "execution_count": 179,
   "id": "c5d70dfd",
   "metadata": {},
   "outputs": [
    {
     "data": {
      "text/plain": [
       "0.9511763217809259"
      ]
     },
     "execution_count": 179,
     "metadata": {},
     "output_type": "execute_result"
    }
   ],
   "source": [
    "# Let us calculate specificity\n",
    "TN / float(TN+FP)"
   ]
  },
  {
   "cell_type": "markdown",
   "id": "abc8cf16",
   "metadata": {},
   "source": [
    "# Precision and Recall"
   ]
  },
  {
   "cell_type": "code",
   "execution_count": 180,
   "id": "cef1c3f3",
   "metadata": {},
   "outputs": [
    {
     "data": {
      "text/plain": [
       "array([[3760,  193],\n",
       "       [ 434, 1985]], dtype=int64)"
      ]
     },
     "execution_count": 180,
     "metadata": {},
     "output_type": "execute_result"
    }
   ],
   "source": [
    "confusion = metrics.confusion_matrix(y_train_pred_final.Converted, y_train_pred_final.predicted )\n",
    "confusion"
   ]
  },
  {
   "cell_type": "code",
   "execution_count": 181,
   "id": "ab055d62",
   "metadata": {},
   "outputs": [
    {
     "data": {
      "text/plain": [
       "0.911386593204775"
      ]
     },
     "execution_count": 181,
     "metadata": {},
     "output_type": "execute_result"
    }
   ],
   "source": [
    "# Precision\n",
    "confusion[1,1]/(confusion[0,1]+confusion[1,1])"
   ]
  },
  {
   "cell_type": "code",
   "execution_count": 182,
   "id": "daebc650",
   "metadata": {},
   "outputs": [
    {
     "data": {
      "text/plain": [
       "0.8205870194295163"
      ]
     },
     "execution_count": 182,
     "metadata": {},
     "output_type": "execute_result"
    }
   ],
   "source": [
    "# Recall\n",
    "confusion[1,1]/(confusion[1,0]+confusion[1,1])"
   ]
  },
  {
   "cell_type": "code",
   "execution_count": 183,
   "id": "b274b302",
   "metadata": {},
   "outputs": [],
   "source": [
    "from sklearn.metrics import precision_recall_curve"
   ]
  },
  {
   "cell_type": "code",
   "execution_count": 184,
   "id": "0aa3544d",
   "metadata": {},
   "outputs": [
    {
     "data": {
      "text/plain": [
       "(0       0\n",
       " 1       0\n",
       " 2       0\n",
       " 3       1\n",
       " 4       0\n",
       "        ..\n",
       " 6367    0\n",
       " 6368    1\n",
       " 6369    1\n",
       " 6370    1\n",
       " 6371    0\n",
       " Name: Converted, Length: 6372, dtype: int64,\n",
       " 0       1\n",
       " 1       0\n",
       " 2       0\n",
       " 3       1\n",
       " 4       0\n",
       "        ..\n",
       " 6367    0\n",
       " 6368    1\n",
       " 6369    1\n",
       " 6370    1\n",
       " 6371    0\n",
       " Name: predicted, Length: 6372, dtype: int64)"
      ]
     },
     "execution_count": 184,
     "metadata": {},
     "output_type": "execute_result"
    }
   ],
   "source": [
    "y_train_pred_final.Converted, y_train_pred_final.predicted"
   ]
  },
  {
   "cell_type": "code",
   "execution_count": 186,
   "id": "3ca2ee37",
   "metadata": {},
   "outputs": [],
   "source": [
    "p, r, thresholds = precision_recall_curve(y_train_pred_final.Converted, y_train_pred_final.Converted_Prob)"
   ]
  },
  {
   "cell_type": "code",
   "execution_count": 187,
   "id": "2a8dca85",
   "metadata": {},
   "outputs": [
    {
     "data": {
      "image/png": "[encoded data removed]",
      "text/plain": [
       "<Figure size 432x288 with 1 Axes>"
      ]
     },
     "metadata": {
      "needs_background": "light"
     },
     "output_type": "display_data"
    }
   ],
   "source": [
    "plt.plot(thresholds, p[:-1], \"g-\")\n",
    "plt.plot(thresholds, r[:-1], \"r-\")\n",
    "plt.show()"
   ]
  },
  {
   "cell_type": "markdown",
   "id": "2bee4c32",
   "metadata": {},
   "source": [
    "# Making Predictions on the Test Set"
   ]
  },
  {
   "cell_type": "code",
   "execution_count": 188,
   "id": "3dd5626f",
   "metadata": {},
   "outputs": [],
   "source": [
    "X_test[['TotalVisits', 'Total Time Spent on Website',\n",
    "       'Page Views Per Visit']] = scaler.transform(X_test[['TotalVisits', 'Total Time Spent on Website',\n",
    "       'Page Views Per Visit']])"
   ]
  },
  {
   "cell_type": "code",
   "execution_count": 192,
   "id": "95e7a678",
   "metadata": {},
   "outputs": [],
   "source": [
    "X_test = X_test[col]\n",
    "X_test_sm = sm.add_constant(X_test)\n",
    "y_test_pred = res.predict(X_test_sm)\n",
    "y_pred_1 = pd.DataFrame(y_test_pred)"
   ]
  },
  {
   "cell_type": "code",
   "execution_count": 193,
   "id": "7b08f601",
   "metadata": {},
   "outputs": [
    {
     "data": {
      "text/html": [
       "<div>\n",
       "<style scoped>\n",
       "    .dataframe tbody tr th:only-of-type {\n",
       "        vertical-align: middle;\n",
       "    }\n",
       "\n",
       "    .dataframe tbody tr th {\n",
       "        vertical-align: top;\n",
       "    }\n",
       "\n",
       "    .dataframe thead th {\n",
       "        text-align: right;\n",
       "    }\n",
       "</style>\n",
       "<table border=\"1\" class=\"dataframe\">\n",
       "  <thead>\n",
       "    <tr style=\"text-align: right;\">\n",
       "      <th></th>\n",
       "      <th>0</th>\n",
       "    </tr>\n",
       "  </thead>\n",
       "  <tbody>\n",
       "    <tr>\n",
       "      <th>3504</th>\n",
       "      <td>0.005165</td>\n",
       "    </tr>\n",
       "    <tr>\n",
       "      <th>4050</th>\n",
       "      <td>0.997314</td>\n",
       "    </tr>\n",
       "    <tr>\n",
       "      <th>7201</th>\n",
       "      <td>0.757008</td>\n",
       "    </tr>\n",
       "    <tr>\n",
       "      <th>1196</th>\n",
       "      <td>0.005155</td>\n",
       "    </tr>\n",
       "    <tr>\n",
       "      <th>8219</th>\n",
       "      <td>0.065825</td>\n",
       "    </tr>\n",
       "  </tbody>\n",
       "</table>\n",
       "</div>"
      ],
      "text/plain": [
       "             0\n",
       "3504  0.005165\n",
       "4050  0.997314\n",
       "7201  0.757008\n",
       "1196  0.005155\n",
       "8219  0.065825"
      ]
     },
     "execution_count": 193,
     "metadata": {},
     "output_type": "execute_result"
    }
   ],
   "source": [
    "# Let's see the head\n",
    "y_pred_1.head()"
   ]
  },
  {
   "cell_type": "code",
   "execution_count": 194,
   "id": "061ca91f",
   "metadata": {},
   "outputs": [],
   "source": [
    "# Converting y_test to dataframe\n",
    "y_test_df = pd.DataFrame(y_test)"
   ]
  },
  {
   "cell_type": "code",
   "execution_count": 195,
   "id": "a98406ee",
   "metadata": {},
   "outputs": [],
   "source": [
    "# Putting CustID to index\n",
    "y_test_df['CustID'] = y_test_df.index"
   ]
  },
  {
   "cell_type": "code",
   "execution_count": 196,
   "id": "ab207b37",
   "metadata": {},
   "outputs": [],
   "source": [
    "# Removing index for both dataframes to append them side by side \n",
    "y_pred_1.reset_index(drop=True, inplace=True)\n",
    "y_test_df.reset_index(drop=True, inplace=True)"
   ]
  },
  {
   "cell_type": "code",
   "execution_count": 197,
   "id": "0a151b26",
   "metadata": {},
   "outputs": [],
   "source": [
    "# Appending y_test_df and y_pred_1\n",
    "y_pred_final = pd.concat([y_test_df, y_pred_1],axis=1)"
   ]
  },
  {
   "cell_type": "code",
   "execution_count": 198,
   "id": "616847aa",
   "metadata": {},
   "outputs": [
    {
     "data": {
      "text/html": [
       "<div>\n",
       "<style scoped>\n",
       "    .dataframe tbody tr th:only-of-type {\n",
       "        vertical-align: middle;\n",
       "    }\n",
       "\n",
       "    .dataframe tbody tr th {\n",
       "        vertical-align: top;\n",
       "    }\n",
       "\n",
       "    .dataframe thead th {\n",
       "        text-align: right;\n",
       "    }\n",
       "</style>\n",
       "<table border=\"1\" class=\"dataframe\">\n",
       "  <thead>\n",
       "    <tr style=\"text-align: right;\">\n",
       "      <th></th>\n",
       "      <th>Converted</th>\n",
       "      <th>CustID</th>\n",
       "      <th>0</th>\n",
       "    </tr>\n",
       "  </thead>\n",
       "  <tbody>\n",
       "    <tr>\n",
       "      <th>0</th>\n",
       "      <td>0</td>\n",
       "      <td>3504</td>\n",
       "      <td>0.005165</td>\n",
       "    </tr>\n",
       "    <tr>\n",
       "      <th>1</th>\n",
       "      <td>1</td>\n",
       "      <td>4050</td>\n",
       "      <td>0.997314</td>\n",
       "    </tr>\n",
       "    <tr>\n",
       "      <th>2</th>\n",
       "      <td>0</td>\n",
       "      <td>7201</td>\n",
       "      <td>0.757008</td>\n",
       "    </tr>\n",
       "    <tr>\n",
       "      <th>3</th>\n",
       "      <td>0</td>\n",
       "      <td>1196</td>\n",
       "      <td>0.005155</td>\n",
       "    </tr>\n",
       "    <tr>\n",
       "      <th>4</th>\n",
       "      <td>1</td>\n",
       "      <td>8219</td>\n",
       "      <td>0.065825</td>\n",
       "    </tr>\n",
       "  </tbody>\n",
       "</table>\n",
       "</div>"
      ],
      "text/plain": [
       "   Converted  CustID         0\n",
       "0          0    3504  0.005165\n",
       "1          1    4050  0.997314\n",
       "2          0    7201  0.757008\n",
       "3          0    1196  0.005155\n",
       "4          1    8219  0.065825"
      ]
     },
     "execution_count": 198,
     "metadata": {},
     "output_type": "execute_result"
    }
   ],
   "source": [
    "y_pred_final.head()"
   ]
  },
  {
   "cell_type": "code",
   "execution_count": 199,
   "id": "150e2511",
   "metadata": {},
   "outputs": [],
   "source": [
    "# Renaming the column \n",
    "y_pred_final= y_pred_final.rename(columns={ 0 : 'Converted_Prob'})"
   ]
  },
  {
   "cell_type": "code",
   "execution_count": 201,
   "id": "e0ede844",
   "metadata": {},
   "outputs": [],
   "source": [
    "y_pred_final['final_predicted'] = y_pred_final.Converted_Prob.map(lambda x: 1 if x > 0.42 else 0)"
   ]
  },
  {
   "cell_type": "code",
   "execution_count": 202,
   "id": "2c6260a1",
   "metadata": {},
   "outputs": [
    {
     "data": {
      "text/html": [
       "<div>\n",
       "<style scoped>\n",
       "    .dataframe tbody tr th:only-of-type {\n",
       "        vertical-align: middle;\n",
       "    }\n",
       "\n",
       "    .dataframe tbody tr th {\n",
       "        vertical-align: top;\n",
       "    }\n",
       "\n",
       "    .dataframe thead th {\n",
       "        text-align: right;\n",
       "    }\n",
       "</style>\n",
       "<table border=\"1\" class=\"dataframe\">\n",
       "  <thead>\n",
       "    <tr style=\"text-align: right;\">\n",
       "      <th></th>\n",
       "      <th>Converted</th>\n",
       "      <th>CustID</th>\n",
       "      <th>Converted_Prob</th>\n",
       "      <th>final_predicted</th>\n",
       "    </tr>\n",
       "  </thead>\n",
       "  <tbody>\n",
       "    <tr>\n",
       "      <th>0</th>\n",
       "      <td>0</td>\n",
       "      <td>3504</td>\n",
       "      <td>0.005165</td>\n",
       "      <td>0</td>\n",
       "    </tr>\n",
       "    <tr>\n",
       "      <th>1</th>\n",
       "      <td>1</td>\n",
       "      <td>4050</td>\n",
       "      <td>0.997314</td>\n",
       "      <td>1</td>\n",
       "    </tr>\n",
       "    <tr>\n",
       "      <th>2</th>\n",
       "      <td>0</td>\n",
       "      <td>7201</td>\n",
       "      <td>0.757008</td>\n",
       "      <td>1</td>\n",
       "    </tr>\n",
       "    <tr>\n",
       "      <th>3</th>\n",
       "      <td>0</td>\n",
       "      <td>1196</td>\n",
       "      <td>0.005155</td>\n",
       "      <td>0</td>\n",
       "    </tr>\n",
       "    <tr>\n",
       "      <th>4</th>\n",
       "      <td>1</td>\n",
       "      <td>8219</td>\n",
       "      <td>0.065825</td>\n",
       "      <td>0</td>\n",
       "    </tr>\n",
       "  </tbody>\n",
       "</table>\n",
       "</div>"
      ],
      "text/plain": [
       "   Converted  CustID  Converted_Prob  final_predicted\n",
       "0          0    3504        0.005165                0\n",
       "1          1    4050        0.997314                1\n",
       "2          0    7201        0.757008                1\n",
       "3          0    1196        0.005155                0\n",
       "4          1    8219        0.065825                0"
      ]
     },
     "execution_count": 202,
     "metadata": {},
     "output_type": "execute_result"
    }
   ],
   "source": [
    "y_pred_final.head()"
   ]
  },
  {
   "cell_type": "code",
   "execution_count": 203,
   "id": "df477770",
   "metadata": {},
   "outputs": [
    {
     "data": {
      "text/plain": [
       "0.9110216038081289"
      ]
     },
     "execution_count": 203,
     "metadata": {},
     "output_type": "execute_result"
    }
   ],
   "source": [
    "# Let's check the overall accuracy.\n",
    "metrics.accuracy_score(y_pred_final.Converted, y_pred_final.final_predicted)"
   ]
  },
  {
   "cell_type": "code",
   "execution_count": 205,
   "id": "46e40c39",
   "metadata": {},
   "outputs": [
    {
     "data": {
      "text/plain": [
       "array([[1595,   94],\n",
       "       [ 149,  893]], dtype=int64)"
      ]
     },
     "execution_count": 205,
     "metadata": {},
     "output_type": "execute_result"
    }
   ],
   "source": [
    "confusion2 = metrics.confusion_matrix(y_pred_final.Converted, y_pred_final.final_predicted )\n",
    "confusion2"
   ]
  },
  {
   "cell_type": "code",
   "execution_count": 206,
   "id": "39274a88",
   "metadata": {},
   "outputs": [
    {
     "data": {
      "text/plain": [
       "0.9047619047619048"
      ]
     },
     "execution_count": 206,
     "metadata": {},
     "output_type": "execute_result"
    }
   ],
   "source": [
    "# Precision\n",
    "confusion2[1,1]/(confusion2[0,1]+confusion2[1,1])"
   ]
  },
  {
   "cell_type": "code",
   "execution_count": 207,
   "id": "2424687d",
   "metadata": {},
   "outputs": [
    {
     "data": {
      "text/plain": [
       "0.8570057581573897"
      ]
     },
     "execution_count": 207,
     "metadata": {},
     "output_type": "execute_result"
    }
   ],
   "source": [
    "# Recall\n",
    "confusion2[1,1]/(confusion2[1,0]+confusion2[1,1])"
   ]
  },
  {
   "cell_type": "code",
   "execution_count": null,
   "id": "bf9cf100",
   "metadata": {},
   "outputs": [],
   "source": []
  }
 ],
 "metadata": {
  "kernelspec": {
   "display_name": "Python 3 (ipykernel)",
   "language": "python",
   "name": "python3"
  },
  "language_info": {
   "codemirror_mode": {
    "name": "ipython",
    "version": 3
   },
   "file_extension": ".py",
   "mimetype": "text/x-python",
   "name": "python",
   "nbconvert_exporter": "python",
   "pygments_lexer": "ipython3",
   "version": "3.9.7"
  }
 },
 "nbformat": 4,
 "nbformat_minor": 5
}
